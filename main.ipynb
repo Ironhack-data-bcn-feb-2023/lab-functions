{
 "cells": [
  {
   "cell_type": "markdown",
   "metadata": {},
   "source": [
    "# Functions"
   ]
  },
  {
   "cell_type": "markdown",
   "metadata": {},
   "source": [
    "On this lab we will put to practice some of the concepts we have learned on this past few days.\n",
    "\n",
    "`NOTE: On this lab you should try to write all the functions yourself using only the most basic of python syntax and without functions such as len, count, sum, max, min, in, etc. Give it a try. 🧑🏻‍💻👩🏻‍💻`\n",
    "\n",
    "The cell after each exercise contains a few tests to check if your function works as expected."
   ]
  },
  {
   "cell_type": "code",
   "execution_count": 13,
   "metadata": {},
   "outputs": [],
   "source": [
    "from mod.testing import *\n",
    "import unittest"
   ]
  },
  {
   "cell_type": "markdown",
   "metadata": {},
   "source": [
    "## 1. Write a function that returns the greater of two numbers"
   ]
  },
  {
   "cell_type": "code",
   "execution_count": 14,
   "metadata": {},
   "outputs": [],
   "source": [
    "def greater(a,b):\n",
    "    if a > b:\n",
    "        return a \n",
    "    elif b > a:\n",
    "        return b"
   ]
  },
  {
   "cell_type": "code",
   "execution_count": 15,
   "metadata": {},
   "outputs": [
    {
     "name": "stderr",
     "output_type": "stream",
     "text": [
      "....................................................................................................\n",
      "----------------------------------------------------------------------\n",
      "Ran 100 tests in 0.136s\n",
      "\n",
      "OK\n"
     ]
    }
   ],
   "source": [
    "# This will test your function \n",
    "test_greater(greater)"
   ]
  },
  {
   "cell_type": "markdown",
   "metadata": {},
   "source": [
    "## 2. Now write a function that returns the largest element on a list"
   ]
  },
  {
   "cell_type": "code",
   "execution_count": 44,
   "metadata": {},
   "outputs": [],
   "source": [
    "def greatest(arr):\n",
    "    \"\"\"Asumimos que el elemento máximo de la lista será el primero. \n",
    "    Iteramos por todos los elementos de la lista, si hay alguno que\n",
    "    es mayor que el primero, actualizamos la variable greatest_element con ese elemento\"\"\"\n",
    "    \n",
    "    greatest_element = arr[0]\n",
    "    for element in arr:\n",
    "        if element > greatest_element:\n",
    "            greatest_element = element\n",
    "           \n",
    "    return greatest_element\n"
   ]
  },
  {
   "cell_type": "code",
   "execution_count": 45,
   "metadata": {},
   "outputs": [
    {
     "data": {
      "text/plain": [
       "3"
      ]
     },
     "execution_count": 45,
     "metadata": {},
     "output_type": "execute_result"
    }
   ],
   "source": [
    "greatest ([1,2,3])"
   ]
  },
  {
   "cell_type": "code",
   "execution_count": 46,
   "metadata": {},
   "outputs": [
    {
     "name": "stderr",
     "output_type": "stream",
     "text": [
      "....................................................................................................\n",
      "----------------------------------------------------------------------\n",
      "Ran 100 tests in 0.131s\n",
      "\n",
      "OK\n"
     ]
    }
   ],
   "source": [
    "# This will test your function \n",
    "test_greatest(greatest)"
   ]
  },
  {
   "cell_type": "markdown",
   "metadata": {},
   "source": [
    "## 3. Write a function that sums all the elements on a list"
   ]
  },
  {
   "cell_type": "code",
   "execution_count": 11,
   "metadata": {},
   "outputs": [],
   "source": [
    "def sum_all(arr):\n",
    "    sum_all = 0\n",
    "    for i in arr: \n",
    "        sum_all += int(i)\n",
    "    return sum_all"
   ]
  },
  {
   "cell_type": "code",
   "execution_count": 12,
   "metadata": {},
   "outputs": [
    {
     "name": "stderr",
     "output_type": "stream",
     "text": [
      "....................................................................................................\n",
      "----------------------------------------------------------------------\n",
      "Ran 100 tests in 0.132s\n",
      "\n",
      "OK\n"
     ]
    }
   ],
   "source": [
    "# This will test your function \n",
    "test_sum(sum_all)"
   ]
  },
  {
   "cell_type": "markdown",
   "metadata": {},
   "source": [
    "## 4. Write another function that multiplies all the elements on a list"
   ]
  },
  {
   "cell_type": "code",
   "execution_count": 15,
   "metadata": {},
   "outputs": [],
   "source": [
    "def mult_all(arr):\n",
    "    mult_all = 1 #Ya que si creamos la variable con 0, el resultado siempre será 0\n",
    "    for i in arr:\n",
    "        mult_all = mult_all*i\n",
    "    return mult_all"
   ]
  },
  {
   "cell_type": "code",
   "execution_count": 16,
   "metadata": {},
   "outputs": [
    {
     "name": "stderr",
     "output_type": "stream",
     "text": [
      "....................................................................................................\n",
      "----------------------------------------------------------------------\n",
      "Ran 100 tests in 0.116s\n",
      "\n",
      "OK\n"
     ]
    }
   ],
   "source": [
    "# This will test your function \n",
    "test_mult(mult_all)"
   ]
  },
  {
   "cell_type": "markdown",
   "metadata": {},
   "source": [
    "## 5. Now combine those two ideas and write a function that receives a list and either \"+\" or \"*\" and outputs acordingly"
   ]
  },
  {
   "cell_type": "code",
   "execution_count": 3,
   "metadata": {},
   "outputs": [
    {
     "ename": "SyntaxError",
     "evalue": "invalid syntax (3089508885.py, line 7)",
     "output_type": "error",
     "traceback": [
      "\u001b[1;36m  File \u001b[1;32m\"C:\\Users\\manya\\AppData\\Local\\Temp\\ipykernel_13408\\3089508885.py\"\u001b[1;36m, line \u001b[1;32m7\u001b[0m\n\u001b[1;33m    else oper == '*':\u001b[0m\n\u001b[1;37m    ^\u001b[0m\n\u001b[1;31mSyntaxError\u001b[0m\u001b[1;31m:\u001b[0m invalid syntax\n"
     ]
    }
   ],
   "source": [
    "def oper_all(arr, oper):\n",
    "    if oper == '+':\n",
    "        for i in arr: \n",
    "            sum_all += int(i)\n",
    "    return sum_all\n",
    "\n",
    "    else oper == '*':\n",
    "        for i in arr:\n",
    "            mult_all = mult_all*i\n",
    "    return mult_all"
   ]
  },
  {
   "cell_type": "code",
   "execution_count": 4,
   "metadata": {},
   "outputs": [
    {
     "ename": "NameError",
     "evalue": "name 'test_operations' is not defined",
     "output_type": "error",
     "traceback": [
      "\u001b[1;31m---------------------------------------------------------------------------\u001b[0m",
      "\u001b[1;31mNameError\u001b[0m                                 Traceback (most recent call last)",
      "\u001b[1;32m~\\AppData\\Local\\Temp\\ipykernel_13408\\2446605049.py\u001b[0m in \u001b[0;36m<module>\u001b[1;34m\u001b[0m\n\u001b[0;32m      1\u001b[0m \u001b[1;31m# This will test your function\u001b[0m\u001b[1;33m\u001b[0m\u001b[1;33m\u001b[0m\u001b[0m\n\u001b[1;32m----> 2\u001b[1;33m \u001b[0mtest_operations\u001b[0m\u001b[1;33m(\u001b[0m\u001b[0moper_all\u001b[0m\u001b[1;33m)\u001b[0m\u001b[1;33m\u001b[0m\u001b[1;33m\u001b[0m\u001b[0m\n\u001b[0m",
      "\u001b[1;31mNameError\u001b[0m: name 'test_operations' is not defined"
     ]
    }
   ],
   "source": [
    "# This will test your function \n",
    "test_operations(oper_all)"
   ]
  },
  {
   "cell_type": "markdown",
   "metadata": {},
   "source": [
    "## 6. Write a function that returns the factorial of a number."
   ]
  },
  {
   "cell_type": "code",
   "execution_count": 25,
   "metadata": {},
   "outputs": [],
   "source": [
    "def factorial(n):\n",
    "    \"\"\"Para encontrar el factorial de un número, usamos la recursividad\"\"\"\n",
    "    if n==1: \n",
    "        return 1\n",
    "    else:\n",
    "        return n*factorial (n-1)\n",
    "\n",
    "    "
   ]
  },
  {
   "cell_type": "code",
   "execution_count": 26,
   "metadata": {},
   "outputs": [
    {
     "name": "stderr",
     "output_type": "stream",
     "text": [
      "....................................................................................................\n",
      "----------------------------------------------------------------------\n",
      "Ran 100 tests in 0.139s\n",
      "\n",
      "OK\n"
     ]
    }
   ],
   "source": [
    "# This will test your function \n",
    "test_factorial(factorial)"
   ]
  },
  {
   "cell_type": "markdown",
   "metadata": {},
   "source": [
    "## 7. Write a function that takes a list and returns a list of the unique values.\n",
    "\n",
    "`NOTE: You cannot use set. 🤔`"
   ]
  },
  {
   "cell_type": "code",
   "execution_count": 33,
   "metadata": {},
   "outputs": [],
   "source": [
    "def unique(arr):\n",
    "  \"\"\"Para devolver los valores únicos de una lista sin usar set, iteramos sobre los valores de la lista\n",
    "  y los apendeamos a una lista nueva siempre que no esten en esta, así nunca se van a repetir\"\"\"  \n",
    "    list_ = [] \n",
    "    for i in arr: \n",
    "        if i not in list_: \n",
    "            list_.append (i)\n",
    "    return list_\n",
    "        "
   ]
  },
  {
   "cell_type": "code",
   "execution_count": 34,
   "metadata": {},
   "outputs": [
    {
     "name": "stderr",
     "output_type": "stream",
     "text": [
      "....................................................................................................\n",
      "----------------------------------------------------------------------\n",
      "Ran 100 tests in 0.222s\n",
      "\n",
      "OK\n"
     ]
    }
   ],
   "source": [
    "# This will test your function \n",
    "test_unique(unique)"
   ]
  },
  {
   "cell_type": "markdown",
   "metadata": {},
   "source": [
    "## 8. Write a function that calculates the standard deviation of a list.\n",
    "`NOTE: Do not use any libraries or already built functions. 😉`"
   ]
  },
  {
   "cell_type": "code",
   "execution_count": 33,
   "metadata": {},
   "outputs": [],
   "source": [
    "def st_dev(arr):\n",
    "    \"\"\"Creo todas las variables necesarias para obtener la \n",
    "    stdev (length y avg) y obtengo valores a traves de iteraciones de la lista y otro cálculos para \n",
    "    después poder realizar el cálculo manual de la desviación estándard\"\"\"\n",
    "    \n",
    "    length = 0\n",
    "    for i in arr:\n",
    "        length +=1 #Le asigno 1, ya que se indexa empezando por el 0.\n",
    "    print (length)\n",
    "\n",
    "    sum_num = 0  #El sumatorio de todos los valores de la lista \n",
    "    for i in arr:\n",
    "        sum_num += i\n",
    "    avg = sum_num / length \n",
    "    print (avg) \n",
    "\n",
    "    stdev_amedias = 0 #Sumatorio para cada uno de los valores de la diferencia del valor al avg al quadrado\n",
    "    for i in arr: \n",
    "        stdev_amedias += ((i-avg)**2) \n",
    "    print (stdev_amedias)\n",
    "\n",
    "    stdev = (stdev_amedias / length)**0.5 # La raiz quadrada de x == x elevedado a 1/2. stdev = raizquadrada (var)\n",
    "    return f'La desviación estandard de {arr} es: {stdev}'\n",
    "       "
   ]
  },
  {
   "cell_type": "code",
   "execution_count": 34,
   "metadata": {},
   "outputs": [
    {
     "name": "stdout",
     "output_type": "stream",
     "text": [
      "4\n",
      "2.5\n",
      "5.0\n"
     ]
    },
    {
     "data": {
      "text/plain": [
       "'La desviación estandard de [1, 2, 3, 4] es: 1.118033988749895'"
      ]
     },
     "execution_count": 34,
     "metadata": {},
     "output_type": "execute_result"
    }
   ],
   "source": [
    "st_dev ([1,2,3,4])"
   ]
  },
  {
   "cell_type": "code",
   "execution_count": 47,
   "metadata": {},
   "outputs": [],
   "source": [
    "from statistics import stdev"
   ]
  },
  {
   "cell_type": "code",
   "execution_count": 50,
   "metadata": {},
   "outputs": [
    {
     "name": "stdout",
     "output_type": "stream",
     "text": [
      "1.2909944487358056\n"
     ]
    }
   ],
   "source": [
    "arr = [1,2,3,4]\n",
    "print (stdev(arr)) #No entiendo porque me da error si esta definido en la celda anterior"
   ]
  },
  {
   "cell_type": "code",
   "execution_count": 36,
   "metadata": {},
   "outputs": [],
   "source": [
    "# This will test your function\n",
    "#test_stdev(st_dev)\n",
    "\n",
    "# Our tests need to be improved, so for this exercise, we care about the code itself. You may check if you get\n",
    "# similar results by checking with:\n",
    "\n",
    "from statistics import stdev"
   ]
  },
  {
   "cell_type": "markdown",
   "metadata": {},
   "source": [
    "## 9. Write a function to check if a string is a pangram, i.e.: if it contains all the letters of the alphabet at least once. Mind that the strings may contain characters that are not letters."
   ]
  },
  {
   "cell_type": "code",
   "execution_count": 51,
   "metadata": {},
   "outputs": [],
   "source": [
    "string = \"The quick brown fox jumps over the lazy dog\""
   ]
  },
  {
   "cell_type": "code",
   "execution_count": 56,
   "metadata": {},
   "outputs": [],
   "source": [
    "def pangram(string):\n",
    "    \n",
    "    \"\"\"Creo otra string que contenga todas las letras del alfabeto para comparar. Itero sobre las letras del alfabeto\n",
    "    y comparo si pertenencen o no a la string para comprovar si las contiene todas\"\"\"\n",
    "    \n",
    "    alphabet = 'abcdefghijklmnopqrstuvwxyz'\n",
    "    for letter in alphabet:\n",
    "        if letter not in string.lower():\n",
    "            return False \n",
    "    return True\n",
    "    \n",
    "            \n",
    "        \n",
    "    \n",
    "\n",
    "    "
   ]
  },
  {
   "cell_type": "code",
   "execution_count": 57,
   "metadata": {},
   "outputs": [
    {
     "name": "stderr",
     "output_type": "stream",
     "text": [
      "..............................\n",
      "----------------------------------------------------------------------\n",
      "Ran 30 tests in 0.040s\n",
      "\n",
      "OK\n"
     ]
    }
   ],
   "source": [
    "# This will test your function \n",
    "test_pangram(pangram)"
   ]
  },
  {
   "cell_type": "markdown",
   "metadata": {},
   "source": [
    "## 10. Write a function to check if a given password is strong (at least 8 characters, at least one lower case, at least one upper case, at least one number and at least one special character). It should output True if strong and False if not.\n",
    "`Valid special characters: # @ ! $ % & ( ) ^ * [ ] { }`"
   ]
  },
  {
   "cell_type": "code",
   "execution_count": 64,
   "metadata": {},
   "outputs": [],
   "source": [
    "string = 'Abc345!@'"
   ]
  },
  {
   "cell_type": "code",
   "execution_count": 103,
   "metadata": {},
   "outputs": [],
   "source": [
    "def check_pass(string):\n",
    "    \n",
    "    \n",
    "    #Creo todas las variables que tengo que checkear que se cumplen en la contraseña\n",
    "    number = '0123456789'\n",
    "    special_characters = '# @ ! $ % & ( ) ^ * [ ] { }'\n",
    "    lower_case = 'abcdefghijklmnopqrstuvwxyz'\n",
    "    upper_case = 'ABCDEFGHIJKLMNOPQRSTUVWXYZ'\n",
    "    lenght = 0\n",
    "    upper = 0\n",
    "    lower = 0 \n",
    "    num = 0 \n",
    "    char = 0 \n",
    "    \n",
    "\n",
    "    for i in string: \n",
    "        lenght +=1 \n",
    "        \n",
    "    if lenght < 8:\n",
    "        return False\n",
    "    \n",
    "    \n",
    "    for i in string: \n",
    "        if i in number: \n",
    "            num += 1\n",
    "    if num == 0:\n",
    "        return False \n",
    "    \n",
    "    \n",
    "    for i in string: \n",
    "        if i in lower_case:\n",
    "            lower += 1\n",
    "    if lower == 0:\n",
    "        return False \n",
    "    \n",
    "    for i in string: \n",
    "        if i in upper_case: \n",
    "            upper +=1\n",
    "    if upper == 0:\n",
    "        return False\n",
    "    \n",
    "    for i in string: \n",
    "        if i in special_characters:\n",
    "            char += 1\n",
    "    if char == 0: \n",
    "        return False\n",
    "    \n",
    "    \n",
    "    return True"
   ]
  },
  {
   "cell_type": "code",
   "execution_count": 104,
   "metadata": {},
   "outputs": [
    {
     "data": {
      "text/plain": [
       "True"
      ]
     },
     "execution_count": 104,
     "metadata": {},
     "output_type": "execute_result"
    }
   ],
   "source": [
    "check_pass ('Abc345!@')"
   ]
  },
  {
   "cell_type": "code",
   "execution_count": 105,
   "metadata": {},
   "outputs": [
    {
     "name": "stderr",
     "output_type": "stream",
     "text": [
      "....................................................................................................\n",
      "----------------------------------------------------------------------\n",
      "Ran 100 tests in 0.142s\n",
      "\n",
      "OK\n"
     ]
    }
   ],
   "source": [
    "# This will test your function \n",
    "test_pass(check_pass)"
   ]
  },
  {
   "cell_type": "markdown",
   "metadata": {},
   "source": [
    "## BONUS"
   ]
  },
  {
   "cell_type": "markdown",
   "metadata": {},
   "source": [
    "## 11. Write a function that returns the mode of a list, i.e.: the element that appears the most times.\n",
    "`NOTE: You should not use count... 🧐`"
   ]
  },
  {
   "cell_type": "code",
   "execution_count": null,
   "metadata": {},
   "outputs": [],
   "source": [
    "def mode_counter(arr):\n",
    "   #Forma Kevin \n",
    "    \"\"\"ARR, crear un diccionario donde los valores de arr sean las keys de value, creas un contador para los elementos de la lista \n",
    "    , iteras sobre los elementos de la lista, acutalizas los values del diccionario y luego haces como en el ejercicio del greatest element\"\"\"\n",
    "    "
   ]
  },
  {
   "cell_type": "code",
   "execution_count": null,
   "metadata": {},
   "outputs": [],
   "source": [
    "# This will test your function \n",
    "test_mode(mode_counter)"
   ]
  },
  {
   "cell_type": "markdown",
   "metadata": {},
   "source": [
    "## 12. Write a function that receives a string of comma separated words and returns a string of comma separated words sorted alphabetically.\n",
    "\n",
    "`NOTE: You may use sorted but not split and definitely no join! 🤪`"
   ]
  },
  {
   "cell_type": "code",
   "execution_count": null,
   "metadata": {},
   "outputs": [],
   "source": [
    "def sort_alpha(string):\n",
    "    pass"
   ]
  },
  {
   "cell_type": "code",
   "execution_count": null,
   "metadata": {},
   "outputs": [],
   "source": [
    "# This will test your function \n",
    "test_alpha(sort_alpha)"
   ]
  }
 ],
 "metadata": {
  "kernelspec": {
   "display_name": "Python 3 (ipykernel)",
   "language": "python",
   "name": "python3"
  },
  "language_info": {
   "codemirror_mode": {
    "name": "ipython",
    "version": 3
   },
   "file_extension": ".py",
   "mimetype": "text/x-python",
   "name": "python",
   "nbconvert_exporter": "python",
   "pygments_lexer": "ipython3",
   "version": "3.9.13"
  },
  "toc": {
   "base_numbering": 1,
   "nav_menu": {},
   "number_sections": true,
   "sideBar": true,
   "skip_h1_title": false,
   "title_cell": "Table of Contents",
   "title_sidebar": "Contents",
   "toc_cell": false,
   "toc_position": {},
   "toc_section_display": true,
   "toc_window_display": false
  }
 },
 "nbformat": 4,
 "nbformat_minor": 4
}
