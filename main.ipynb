{
 "cells": [
  {
   "cell_type": "markdown",
   "metadata": {},
   "source": [
    "# Functions"
   ]
  },
  {
   "cell_type": "markdown",
   "metadata": {},
   "source": [
    "On this lab we will put to practice some of the concepts we have learned on this past few days.\n",
    "\n",
    "`NOTE: On this lab you should try to write all the functions yourself using only the most basic of python syntax and without functions such as len, count, sum, max, min, in, etc. Give it a try. 🧑🏻‍💻👩🏻‍💻`\n",
    "\n",
    "The cell after each exercise contains a few tests to check if your function works as expected."
   ]
  },
  {
   "cell_type": "code",
   "execution_count": 19,
   "metadata": {},
   "outputs": [],
   "source": [
    "from mod.testing import *\n",
    "import unittest"
   ]
  },
  {
   "cell_type": "markdown",
   "metadata": {},
   "source": [
    "## 1. Write a function that returns the greater of two numbers"
   ]
  },
  {
   "cell_type": "code",
   "execution_count": 5,
   "metadata": {},
   "outputs": [],
   "source": [
    "def greater(a,b):\n",
    "    if a > b:\n",
    "        print(f'{a} is greater than {b}')\n",
    "        return a\n",
    "    elif a < b:\n",
    "        print(f'{b} is greater than {a}')\n",
    "        return b\n",
    "    else:\n",
    "        print(f'{a} and {b} are equals')"
   ]
  },
  {
   "cell_type": "code",
   "execution_count": 6,
   "metadata": {},
   "outputs": [
    {
     "name": "stdout",
     "output_type": "stream",
     "text": [
      "8 is greater than 5\n"
     ]
    },
    {
     "data": {
      "text/plain": [
       "8"
      ]
     },
     "execution_count": 6,
     "metadata": {},
     "output_type": "execute_result"
    }
   ],
   "source": [
    "greater(5,8)"
   ]
  },
  {
   "cell_type": "code",
   "execution_count": 7,
   "metadata": {},
   "outputs": [
    {
     "name": "stderr",
     "output_type": "stream",
     "text": [
      "...................................................................................................."
     ]
    },
    {
     "name": "stdout",
     "output_type": "stream",
     "text": [
      "-167 is greater than -760\n",
      "914 is greater than 795\n",
      "654 is greater than -973\n",
      "408 is greater than -687\n",
      "-57 is greater than -635\n",
      "962 is greater than -801\n",
      "-497 is greater than -918\n",
      "251 is greater than -828\n",
      "400 is greater than 120\n",
      "311 is greater than -197\n",
      "954 is greater than 227\n",
      "185 is greater than -986\n",
      "97 is greater than -528\n",
      "-294 is greater than -694\n",
      "-616 is greater than -961\n",
      "999 is greater than 109\n",
      "880 is greater than -226\n",
      "223 is greater than 161\n",
      "-337 is greater than -547\n",
      "664 is greater than 360\n",
      "192 is greater than -387\n",
      "42 is greater than -128\n",
      "612 is greater than 405\n",
      "447 is greater than -81\n",
      "-946 is greater than -949\n",
      "872 is greater than 28\n",
      "991 is greater than 428\n",
      "362 is greater than -76\n",
      "757 is greater than 163\n",
      "486 is greater than 410\n",
      "-342 is greater than -906\n",
      "852 is greater than -228\n",
      "-798 is greater than -979\n",
      "382 is greater than -291\n",
      "608 is greater than 486\n",
      "-450 is greater than -997\n",
      "-641 is greater than -995\n",
      "-909 is greater than -917\n",
      "745 is greater than -941\n",
      "159 is greater than 138\n",
      "831 is greater than 75\n",
      "-184 is greater than -257\n",
      "-27 is greater than -131\n",
      "363 is greater than -22\n",
      "-502 is greater than -674\n",
      "131 is greater than 65\n",
      "330 is greater than 306\n",
      "498 is greater than -920\n",
      "483 is greater than -794\n",
      "854 is greater than 258\n",
      "750 is greater than -144\n",
      "-268 is greater than -765\n",
      "327 is greater than -451\n",
      "972 is greater than -314\n",
      "878 is greater than -69\n",
      "531 is greater than -544\n",
      "-41 is greater than -951\n",
      "654 is greater than -860\n",
      "704 is greater than 194\n",
      "236 is greater than -262\n",
      "301 is greater than -277\n",
      "-255 is greater than -515\n",
      "645 is greater than 195\n",
      "697 is greater than 533\n",
      "439 is greater than -521\n",
      "-400 is greater than -550\n",
      "932 is greater than 919\n",
      "677 is greater than 521\n",
      "-399 is greater than -774\n",
      "-51 is greater than -159\n",
      "743 is greater than 317\n",
      "573 is greater than -733\n",
      "147 is greater than -441\n",
      "959 is greater than 655\n",
      "987 is greater than 426\n",
      "-336 is greater than -652\n",
      "617 is greater than 244\n",
      "-32 is greater than -425\n",
      "853 is greater than 407\n",
      "123 is greater than -166\n",
      "336 is greater than -470\n",
      "548 is greater than -382\n",
      "433 is greater than -357\n",
      "214 is greater than -139\n",
      "-484 is greater than -732\n",
      "-33 is greater than -438\n",
      "579 is greater than -665\n",
      "-458 is greater than -563\n",
      "349 is greater than -973\n",
      "200 is greater than 172\n",
      "324 is greater than -225\n",
      "469 is greater than -291\n",
      "389 is greater than -736\n",
      "514 is greater than -723\n",
      "474 is greater than -208\n",
      "-595 is greater than -740\n",
      "-801 is greater than -904\n",
      "-653 is greater than -875\n",
      "-452 is greater than -511\n",
      "623 is greater than -124\n"
     ]
    },
    {
     "name": "stderr",
     "output_type": "stream",
     "text": [
      "\n",
      "----------------------------------------------------------------------\n",
      "Ran 100 tests in 0.130s\n",
      "\n",
      "OK\n"
     ]
    }
   ],
   "source": [
    "# This will test your function \n",
    "test_greater(greater)"
   ]
  },
  {
   "cell_type": "markdown",
   "metadata": {},
   "source": [
    "## 2. Now write a function that returns the largest element on a list"
   ]
  },
  {
   "cell_type": "code",
   "execution_count": 24,
   "metadata": {},
   "outputs": [],
   "source": [
    "def greatest(arr):\n",
    "    greatest = 0\n",
    "    for i in arr:\n",
    "        if i > greatest:\n",
    "            greatest = i\n",
    "    return greatest"
   ]
  },
  {
   "cell_type": "code",
   "execution_count": 25,
   "metadata": {},
   "outputs": [
    {
     "data": {
      "text/plain": [
       "634"
      ]
     },
     "execution_count": 25,
     "metadata": {},
     "output_type": "execute_result"
    }
   ],
   "source": [
    "\n",
    "arr = (5,634,634,44,2,5,6,32,5)\n",
    "greatest(arr)"
   ]
  },
  {
   "cell_type": "code",
   "execution_count": 26,
   "metadata": {},
   "outputs": [
    {
     "name": "stderr",
     "output_type": "stream",
     "text": [
      "....................................................................................................\n",
      "----------------------------------------------------------------------\n",
      "Ran 100 tests in 0.069s\n",
      "\n",
      "OK\n"
     ]
    }
   ],
   "source": [
    "# This will test your function \n",
    "test_greatest(greatest)"
   ]
  },
  {
   "cell_type": "markdown",
   "metadata": {},
   "source": [
    "## 3. Write a function that sums all the elements on a list"
   ]
  },
  {
   "cell_type": "code",
   "execution_count": 32,
   "metadata": {},
   "outputs": [],
   "source": [
    "def sum_all(arr):\n",
    "    result = 0\n",
    "    for i in arr:\n",
    "        result += i\n",
    "    return result"
   ]
  },
  {
   "cell_type": "code",
   "execution_count": 33,
   "metadata": {},
   "outputs": [
    {
     "name": "stderr",
     "output_type": "stream",
     "text": [
      "....................................................................................................\n",
      "----------------------------------------------------------------------\n",
      "Ran 100 tests in 0.129s\n",
      "\n",
      "OK\n"
     ]
    }
   ],
   "source": [
    "# This will test your function \n",
    "test_sum(sum_all)"
   ]
  },
  {
   "cell_type": "markdown",
   "metadata": {},
   "source": [
    "## 4. Write another function that multiplies all the elements on a list"
   ]
  },
  {
   "cell_type": "code",
   "execution_count": 34,
   "metadata": {},
   "outputs": [],
   "source": [
    "def mult_all(arr):\n",
    "    mult = 1\n",
    "    for i in arr:\n",
    "        mult *= i\n",
    "    return mult"
   ]
  },
  {
   "cell_type": "code",
   "execution_count": 35,
   "metadata": {},
   "outputs": [
    {
     "name": "stderr",
     "output_type": "stream",
     "text": [
      "....................................................................................................\n",
      "----------------------------------------------------------------------\n",
      "Ran 100 tests in 0.133s\n",
      "\n",
      "OK\n"
     ]
    }
   ],
   "source": [
    "# This will test your function \n",
    "test_mult(mult_all)"
   ]
  },
  {
   "cell_type": "markdown",
   "metadata": {},
   "source": [
    "## 5. Now combine those two ideas and write a function that receives a list and either \"+\" or \"*\" and outputs acordingly"
   ]
  },
  {
   "cell_type": "code",
   "execution_count": 38,
   "metadata": {},
   "outputs": [],
   "source": [
    "def oper_all(arr, oper):\n",
    "    if oper == '+':\n",
    "        result = 0\n",
    "        for i in arr:\n",
    "            result += i\n",
    "        return result\n",
    "    elif oper == '*':\n",
    "        result = 1\n",
    "        for i in arr:\n",
    "            result *= i\n",
    "        return result"
   ]
  },
  {
   "cell_type": "code",
   "execution_count": 39,
   "metadata": {},
   "outputs": [
    {
     "name": "stderr",
     "output_type": "stream",
     "text": [
      "....................................................................................................\n",
      "----------------------------------------------------------------------\n",
      "Ran 100 tests in 0.113s\n",
      "\n",
      "OK\n"
     ]
    }
   ],
   "source": [
    "# This will test your function \n",
    "test_operations(oper_all)"
   ]
  },
  {
   "cell_type": "markdown",
   "metadata": {},
   "source": [
    "## 6. Write a function that returns the factorial of a number."
   ]
  },
  {
   "cell_type": "code",
   "execution_count": 42,
   "metadata": {},
   "outputs": [],
   "source": [
    "def factorial(n):\n",
    "    if n == 1:\n",
    "        return 1\n",
    "    else:\n",
    "        return n * factorial(n-1)"
   ]
  },
  {
   "cell_type": "code",
   "execution_count": 43,
   "metadata": {},
   "outputs": [
    {
     "name": "stderr",
     "output_type": "stream",
     "text": [
      "....................................................................................................\n",
      "----------------------------------------------------------------------\n",
      "Ran 100 tests in 0.103s\n",
      "\n",
      "OK\n"
     ]
    }
   ],
   "source": [
    "# This will test your function \n",
    "test_factorial(factorial)"
   ]
  },
  {
   "cell_type": "markdown",
   "metadata": {},
   "source": [
    "## 7. Write a function that takes a list and returns a list of the unique values.\n",
    "\n",
    "`NOTE: You cannot use set. 🤔`"
   ]
  },
  {
   "cell_type": "code",
   "execution_count": 49,
   "metadata": {},
   "outputs": [],
   "source": [
    "def unique(arr):\n",
    "    unique = []\n",
    "    for i in arr:\n",
    "        if i not in unique:\n",
    "            unique.append(i)\n",
    "    return unique "
   ]
  },
  {
   "cell_type": "code",
   "execution_count": 50,
   "metadata": {},
   "outputs": [
    {
     "name": "stderr",
     "output_type": "stream",
     "text": [
      "....................................................................................................\n",
      "----------------------------------------------------------------------\n",
      "Ran 100 tests in 0.340s\n",
      "\n",
      "OK\n"
     ]
    }
   ],
   "source": [
    "# This will test your function \n",
    "test_unique(unique)"
   ]
  },
  {
   "cell_type": "markdown",
   "metadata": {},
   "source": [
    "## 8. Write a function that calculates the standard deviation of a list.\n",
    "`NOTE: Do not use any libraries or already built functions. 😉`"
   ]
  },
  {
   "cell_type": "code",
   "execution_count": 71,
   "metadata": {},
   "outputs": [],
   "source": [
    "def st_dev(arr):\n",
    "    sum_ = 0\n",
    "    counter = 0\n",
    "    for i in arr:\n",
    "        sum_ += i\n",
    "        counter += 1\n",
    "    mean_ = sum_ / counter\n",
    "    subtract = []\n",
    "    for i in arr:\n",
    "        subtract.append((i-mean_)**2)\n",
    "    sum_2 = 0\n",
    "    for i in subtract:\n",
    "        sum_2 += i\n",
    "    return (sum_2 / (counter-1))**(1/2)"
   ]
  },
  {
   "cell_type": "code",
   "execution_count": 72,
   "metadata": {},
   "outputs": [
    {
     "data": {
      "text/plain": [
       "1.2909944487358056"
      ]
     },
     "execution_count": 72,
     "metadata": {},
     "output_type": "execute_result"
    }
   ],
   "source": [
    "arr = [1, 2, 3, 4]\n",
    "st_dev(arr)"
   ]
  },
  {
   "cell_type": "code",
   "execution_count": 73,
   "metadata": {},
   "outputs": [
    {
     "data": {
      "text/plain": [
       "1.2909944487358056"
      ]
     },
     "execution_count": 73,
     "metadata": {},
     "output_type": "execute_result"
    }
   ],
   "source": [
    "# This will test your function\n",
    "#test_stdev(st_dev)\n",
    "\n",
    "# Our tests need to be improved, so for this exercise, we care about the code itself. You may check if you get\n",
    "# similar results by checking with:\n",
    "\n",
    "from statistics import stdev\n",
    "calc = stdev(arr)\n",
    "calc"
   ]
  },
  {
   "cell_type": "markdown",
   "metadata": {},
   "source": [
    "## 9. Write a function to check if a string is a pangram, i.e.: if it contains all the letters of the alphabet at least once. Mind that the strings may contain characters that are not letters."
   ]
  },
  {
   "cell_type": "code",
   "execution_count": 34,
   "metadata": {},
   "outputs": [],
   "source": [
    "alphabet = ['A', 'B', 'C', 'D', 'E', 'F', 'G', 'H', 'I', 'J', 'K', 'L', 'M', 'N', 'O', 'P', 'Q', 'R', 'S', 'T', 'U', 'V', 'W', 'X', 'Y', 'Z']\n",
    "def pangram(string):\n",
    "    my_set = set(i for i in string)\n",
    "    my_set = set(map(str.upper, my_set))\n",
    "    return all(j in my_set for j in alphabet)"
   ]
  },
  {
   "cell_type": "code",
   "execution_count": 37,
   "metadata": {},
   "outputs": [
    {
     "name": "stderr",
     "output_type": "stream",
     "text": [
      "..............................\n",
      "----------------------------------------------------------------------\n",
      "Ran 30 tests in 0.031s\n",
      "\n",
      "OK\n"
     ]
    }
   ],
   "source": [
    "# This will test your function \n",
    "test_pangram(pangram)"
   ]
  },
  {
   "cell_type": "markdown",
   "metadata": {},
   "source": [
    "## 10. Write a function to check if a given password is strong (at least 8 characters, at least one lower case, at least one upper case, at least one number and at least one special character). It should output True if strong and False if not.\n",
    "`Valid special characters: # @ ! $ % & ( ) ^ * [ ] { }`"
   ]
  },
  {
   "cell_type": "code",
   "execution_count": 65,
   "metadata": {},
   "outputs": [],
   "source": [
    "special_char = ['#', '@', '!', '$', '%', '&', '(', ')', '^', '*', '[', ']', '{', '}']\n",
    "\n",
    "def check_pass(string):\n",
    "    string_set = set(i for i in string)\n",
    "    return len(string)>=8 and any(j.isupper() for j in string_set) and any(j.islower() for j in string_set) and any(j in special_char for j in string_set) and any(j.isnumeric() for j in string_set)"
   ]
  },
  {
   "cell_type": "code",
   "execution_count": 68,
   "metadata": {},
   "outputs": [
    {
     "name": "stderr",
     "output_type": "stream",
     "text": [
      "....................................................................................................\n",
      "----------------------------------------------------------------------\n",
      "Ran 100 tests in 0.119s\n",
      "\n",
      "OK\n"
     ]
    }
   ],
   "source": [
    "# This will test your function \n",
    "test_pass(check_pass)"
   ]
  },
  {
   "cell_type": "markdown",
   "metadata": {},
   "source": [
    "## BONUS"
   ]
  },
  {
   "cell_type": "markdown",
   "metadata": {},
   "source": [
    "## 11. Write a function that returns the mode of a list, i.e.: the element that appears the most times.\n",
    "`NOTE: You should not use count... 🧐`"
   ]
  },
  {
   "cell_type": "code",
   "execution_count": 77,
   "metadata": {},
   "outputs": [],
   "source": [
    "def mode_counter(arr):\n",
    "    counter = 0\n",
    "    for i in arr:\n",
    "        counter_aux = 0\n",
    "        for j in arr:\n",
    "            if j == i:\n",
    "                counter_aux += 1\n",
    "            if counter_aux > counter:\n",
    "                counter = counter_aux\n",
    "                mode = i\n",
    "    return mode\n"
   ]
  },
  {
   "cell_type": "code",
   "execution_count": 79,
   "metadata": {},
   "outputs": [
    {
     "name": "stderr",
     "output_type": "stream",
     "text": [
      "....................................................................................................\n",
      "----------------------------------------------------------------------\n",
      "Ran 100 tests in 0.383s\n",
      "\n",
      "OK\n"
     ]
    }
   ],
   "source": [
    "# This will test your function \n",
    "test_mode(mode_counter)"
   ]
  },
  {
   "cell_type": "markdown",
   "metadata": {},
   "source": [
    "## 12. Write a function that receives a string of comma separated words and returns a string of comma separated words sorted alphabetically.\n",
    "\n",
    "`NOTE: You may use sorted but not split and definitely no join! 🤪`"
   ]
  },
  {
   "cell_type": "code",
   "execution_count": 129,
   "metadata": {},
   "outputs": [],
   "source": [
    "def sort_alpha(string):\n",
    "    list_of_strings = []\n",
    "    aux = ''\n",
    "    for i in string:\n",
    "        if i != ',':\n",
    "            aux += i\n",
    "        else:\n",
    "            list_of_strings.append(aux)\n",
    "            aux = ''\n",
    "    list_of_strings.append(aux)\n",
    "    list_of_strings = sorted(list_of_strings)\n",
    "    final_string = ''\n",
    "    for i in list_of_strings:\n",
    "        final_string += i\n",
    "        final_string += ','\n",
    "    final_string = final_string[:-1]\n",
    "    return final_string"
   ]
  }
 ],
 "metadata": {
  "kernelspec": {
   "display_name": "base",
   "language": "python",
   "name": "python3"
  },
  "language_info": {
   "codemirror_mode": {
    "name": "ipython",
    "version": 3
   },
   "file_extension": ".py",
   "mimetype": "text/x-python",
   "name": "python",
   "nbconvert_exporter": "python",
   "pygments_lexer": "ipython3",
   "version": "3.8.8"
  },
  "toc": {
   "base_numbering": 1,
   "nav_menu": {},
   "number_sections": true,
   "sideBar": true,
   "skip_h1_title": false,
   "title_cell": "Table of Contents",
   "title_sidebar": "Contents",
   "toc_cell": false,
   "toc_position": {},
   "toc_section_display": true,
   "toc_window_display": false
  },
  "vscode": {
   "interpreter": {
    "hash": "f9e0dc8b388f8216ef4b4be0df8ebcfe28b361295e8f834a405c09de8a5179f3"
   }
  }
 },
 "nbformat": 4,
 "nbformat_minor": 4
}
