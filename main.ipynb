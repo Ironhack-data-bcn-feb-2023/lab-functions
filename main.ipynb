{
 "cells": [
  {
   "cell_type": "markdown",
   "metadata": {},
   "source": [
    "# Functions"
   ]
  },
  {
   "cell_type": "markdown",
   "metadata": {},
   "source": [
    "On this lab we will put to practice some of the concepts we have learned on this past few days.\n",
    "\n",
    "`NOTE: On this lab you should try to write all the functions yourself using only the most basic of python syntax and without functions such as len, count, sum, max, min, in, etc. Give it a try. 🧑🏻‍💻👩🏻‍💻`\n",
    "\n",
    "The cell after each exercise contains a few tests to check if your function works as expected."
   ]
  },
  {
   "cell_type": "code",
   "execution_count": 1,
   "metadata": {},
   "outputs": [],
   "source": [
    "from mod.testing import *\n",
    "import unittest"
   ]
  },
  {
   "cell_type": "markdown",
   "metadata": {},
   "source": [
    "## 1. Write a function that returns the greater of two numbers"
   ]
  },
  {
   "cell_type": "code",
   "execution_count": 8,
   "metadata": {},
   "outputs": [],
   "source": [
    "def greater(a,b):\n",
    "    if a > b:\n",
    "        return a\n",
    "    else:\n",
    "        return b"
   ]
  },
  {
   "cell_type": "code",
   "execution_count": 9,
   "metadata": {},
   "outputs": [
    {
     "data": {
      "text/plain": [
       "5"
      ]
     },
     "execution_count": 9,
     "metadata": {},
     "output_type": "execute_result"
    }
   ],
   "source": [
    "greater(5,3)"
   ]
  },
  {
   "cell_type": "code",
   "execution_count": 10,
   "metadata": {},
   "outputs": [
    {
     "name": "stderr",
     "output_type": "stream",
     "text": [
      "....................................................................................................\n",
      "----------------------------------------------------------------------\n",
      "Ran 100 tests in 0.062s\n",
      "\n",
      "OK\n"
     ]
    }
   ],
   "source": [
    "# This will test your function \n",
    "test_greater(greater)"
   ]
  },
  {
   "cell_type": "markdown",
   "metadata": {},
   "source": [
    "## 2. Now write a function that returns the largest element on a list"
   ]
  },
  {
   "cell_type": "code",
   "execution_count": 17,
   "metadata": {},
   "outputs": [],
   "source": [
    "import numpy as np\n",
    "\n",
    "def greatest(arr):\n",
    "    arr=np.array(arr)\n",
    "    return arr.max()"
   ]
  },
  {
   "cell_type": "code",
   "execution_count": 18,
   "metadata": {},
   "outputs": [
    {
     "data": {
      "text/plain": [
       "4"
      ]
     },
     "execution_count": 18,
     "metadata": {},
     "output_type": "execute_result"
    }
   ],
   "source": [
    "greatest([1,2,3,4])"
   ]
  },
  {
   "cell_type": "code",
   "execution_count": 19,
   "metadata": {},
   "outputs": [
    {
     "name": "stderr",
     "output_type": "stream",
     "text": [
      "....................................................................................................\n",
      "----------------------------------------------------------------------\n",
      "Ran 100 tests in 0.063s\n",
      "\n",
      "OK\n"
     ]
    }
   ],
   "source": [
    "# This will test your function \n",
    "test_greatest(greatest)"
   ]
  },
  {
   "cell_type": "markdown",
   "metadata": {},
   "source": [
    "## 3. Write a function that sums all the elements on a list"
   ]
  },
  {
   "cell_type": "code",
   "execution_count": 20,
   "metadata": {},
   "outputs": [],
   "source": [
    "def sum_all(arr):\n",
    "    arr=np.array(arr)\n",
    "    return arr.sum()"
   ]
  },
  {
   "cell_type": "code",
   "execution_count": 21,
   "metadata": {},
   "outputs": [
    {
     "data": {
      "text/plain": [
       "15"
      ]
     },
     "execution_count": 21,
     "metadata": {},
     "output_type": "execute_result"
    }
   ],
   "source": [
    "sum_all([1,2,3,4,5])"
   ]
  },
  {
   "cell_type": "code",
   "execution_count": 22,
   "metadata": {},
   "outputs": [
    {
     "name": "stderr",
     "output_type": "stream",
     "text": [
      "....................................................................................................\n",
      "----------------------------------------------------------------------\n",
      "Ran 100 tests in 0.066s\n",
      "\n",
      "OK\n"
     ]
    }
   ],
   "source": [
    "# This will test your function \n",
    "test_sum(sum_all)"
   ]
  },
  {
   "cell_type": "markdown",
   "metadata": {},
   "source": [
    "## 4. Write another function that multiplies all the elements on a list"
   ]
  },
  {
   "cell_type": "code",
   "execution_count": 64,
   "metadata": {},
   "outputs": [],
   "source": [
    "def mult_all(arr):\n",
    "    result=1\n",
    "    for i in arr:\n",
    "        result *= i\n",
    "    return result"
   ]
  },
  {
   "cell_type": "code",
   "execution_count": 70,
   "metadata": {},
   "outputs": [
    {
     "data": {
      "text/plain": [
       "1440000"
      ]
     },
     "execution_count": 70,
     "metadata": {},
     "output_type": "execute_result"
    }
   ],
   "source": [
    "mult_all([1,2,100,90,80])"
   ]
  },
  {
   "cell_type": "code",
   "execution_count": 71,
   "metadata": {},
   "outputs": [
    {
     "name": "stderr",
     "output_type": "stream",
     "text": [
      "....................................................................................................\n",
      "----------------------------------------------------------------------\n",
      "Ran 100 tests in 0.055s\n",
      "\n",
      "OK\n"
     ]
    }
   ],
   "source": [
    "# This will test your function \n",
    "test_mult(mult_all)"
   ]
  },
  {
   "cell_type": "markdown",
   "metadata": {},
   "source": [
    "## 5. Now combine those two ideas and write a function that receives a list and either \"+\" or \"*\" and outputs acordingly"
   ]
  },
  {
   "cell_type": "code",
   "execution_count": 79,
   "metadata": {},
   "outputs": [],
   "source": [
    "def oper_all(arr, oper='+'):\n",
    "    \n",
    "    if oper == '+':\n",
    "        result = 0\n",
    "        for i in arr:\n",
    "            result += i\n",
    "        return result\n",
    "    elif oper == '*':\n",
    "        result = 1\n",
    "        for i in arr:\n",
    "            result *= i\n",
    "        return result\n",
    "    else:\n",
    "        print('La operaciön definida no es ni multiplicacion ni suma')"
   ]
  },
  {
   "cell_type": "code",
   "execution_count": 81,
   "metadata": {},
   "outputs": [
    {
     "data": {
      "text/plain": [
       "2"
      ]
     },
     "execution_count": 81,
     "metadata": {},
     "output_type": "execute_result"
    }
   ],
   "source": [
    "oper_all([1,2],oper='*')"
   ]
  },
  {
   "cell_type": "code",
   "execution_count": 82,
   "metadata": {},
   "outputs": [
    {
     "name": "stderr",
     "output_type": "stream",
     "text": [
      "....................................................................................................\n",
      "----------------------------------------------------------------------\n",
      "Ran 100 tests in 0.050s\n",
      "\n",
      "OK\n"
     ]
    }
   ],
   "source": [
    "# This will test your function \n",
    "test_operations(oper_all)"
   ]
  },
  {
   "cell_type": "markdown",
   "metadata": {},
   "source": [
    "## 6. Write a function that returns the factorial of a number."
   ]
  },
  {
   "cell_type": "code",
   "execution_count": 83,
   "metadata": {},
   "outputs": [],
   "source": [
    "def factorial(n):\n",
    "    if n==0 or n==1:\n",
    "        return 1\n",
    "    elif n>1:\n",
    "        result = n*factorial(n-1)\n",
    "    return result"
   ]
  },
  {
   "cell_type": "code",
   "execution_count": 84,
   "metadata": {},
   "outputs": [
    {
     "data": {
      "text/plain": [
       "120"
      ]
     },
     "execution_count": 84,
     "metadata": {},
     "output_type": "execute_result"
    }
   ],
   "source": [
    "factorial(5)"
   ]
  },
  {
   "cell_type": "code",
   "execution_count": 85,
   "metadata": {},
   "outputs": [
    {
     "name": "stderr",
     "output_type": "stream",
     "text": [
      "....................................................................................................\n",
      "----------------------------------------------------------------------\n",
      "Ran 100 tests in 0.063s\n",
      "\n",
      "OK\n"
     ]
    }
   ],
   "source": [
    "# This will test your function \n",
    "test_factorial(factorial)"
   ]
  },
  {
   "cell_type": "markdown",
   "metadata": {},
   "source": [
    "## 7. Write a function that takes a list and returns a list of the unique values.\n",
    "\n",
    "`NOTE: You cannot use set. 🤔`"
   ]
  },
  {
   "cell_type": "code",
   "execution_count": 97,
   "metadata": {},
   "outputs": [],
   "source": [
    "#with set\n",
    "\n",
    "def unique(arr):\n",
    "    set_arr= set(arr)\n",
    "    return list(set_arr)"
   ]
  },
  {
   "cell_type": "code",
   "execution_count": 100,
   "metadata": {},
   "outputs": [],
   "source": [
    "def unique(arr):\n",
    "    arr_unique=[]\n",
    "    for i in arr:\n",
    "        if i not in arr_unique:\n",
    "            arr_unique.append(i)\n",
    "    return arr_unique"
   ]
  },
  {
   "cell_type": "code",
   "execution_count": 101,
   "metadata": {},
   "outputs": [
    {
     "data": {
      "text/plain": [
       "[1, 2, 3]"
      ]
     },
     "execution_count": 101,
     "metadata": {},
     "output_type": "execute_result"
    }
   ],
   "source": [
    "unique([1,1,1,1,2,3])"
   ]
  },
  {
   "cell_type": "code",
   "execution_count": 102,
   "metadata": {},
   "outputs": [
    {
     "name": "stderr",
     "output_type": "stream",
     "text": [
      "....................................................................................................\n",
      "----------------------------------------------------------------------\n",
      "Ran 100 tests in 0.133s\n",
      "\n",
      "OK\n"
     ]
    }
   ],
   "source": [
    "# This will test your function \n",
    "test_unique(unique)"
   ]
  },
  {
   "cell_type": "markdown",
   "metadata": {},
   "source": [
    "## 8. Write a function that calculates the standard deviation of a list.\n",
    "`NOTE: Do not use any libraries or already built functions. 😉`"
   ]
  },
  {
   "cell_type": "code",
   "execution_count": 107,
   "metadata": {},
   "outputs": [],
   "source": [
    "def st_dev(arr):\n",
    "    \n",
    "    mean = sum(arr)/len(arr)\n",
    "    suma = 0\n",
    "    \n",
    "    for i in arr:\n",
    "        suma += (i-mean)**2\n",
    "    \n",
    "    arr_stdev = (suma/(len(arr)-1))**0.5\n",
    "    return arr_stdev"
   ]
  },
  {
   "cell_type": "code",
   "execution_count": 108,
   "metadata": {},
   "outputs": [
    {
     "data": {
      "text/plain": [
       "1.0"
      ]
     },
     "execution_count": 108,
     "metadata": {},
     "output_type": "execute_result"
    }
   ],
   "source": [
    "st_dev([1,2,3])"
   ]
  },
  {
   "cell_type": "code",
   "execution_count": 109,
   "metadata": {},
   "outputs": [
    {
     "data": {
      "text/plain": [
       "1.0"
      ]
     },
     "execution_count": 109,
     "metadata": {},
     "output_type": "execute_result"
    }
   ],
   "source": [
    "# This will test your function\n",
    "#test_stdev(st_dev)\n",
    "\n",
    "# Our tests need to be improved, so for this exercise, we care about the code itself. You may check if you get\n",
    "# similar results by checking with:\n",
    "\n",
    "from statistics import stdev\n",
    "\n",
    "stdev([1,2,3])"
   ]
  },
  {
   "cell_type": "code",
   "execution_count": 110,
   "metadata": {},
   "outputs": [
    {
     "name": "stderr",
     "output_type": "stream",
     "text": [
      "....................................................................................................\n",
      "----------------------------------------------------------------------\n",
      "Ran 100 tests in 0.059s\n",
      "\n",
      "OK\n"
     ]
    }
   ],
   "source": [
    "test_stdev(st_dev)"
   ]
  },
  {
   "cell_type": "markdown",
   "metadata": {},
   "source": [
    "## 9. Write a function to check if a string is a pangram, i.e.: if it contains all the letters of the alphabet at least once. Mind that the strings may contain characters that are not letters."
   ]
  },
  {
   "cell_type": "code",
   "execution_count": 123,
   "metadata": {},
   "outputs": [],
   "source": [
    "#to check -- Test run fails, but manual checks it works\n",
    "\n",
    "def pangram(string):\n",
    "    alphabet= ['a','b','c','d','e','f','g','h','i','j','k','l','m','n','o','p','q','r','s','t','u','v','w','x','y','z']\n",
    "    in_alpha =[]\n",
    "    for i in alphabet:\n",
    "        if i in string:\n",
    "            in_alpha.append(i)\n",
    "        \n",
    "    return alphabet == in_alpha"
   ]
  },
  {
   "cell_type": "code",
   "execution_count": 121,
   "metadata": {},
   "outputs": [
    {
     "data": {
      "text/plain": [
       "False"
      ]
     },
     "execution_count": 121,
     "metadata": {},
     "output_type": "execute_result"
    }
   ],
   "source": [
    "pangram('no entiendo porque da error el test')"
   ]
  },
  {
   "cell_type": "code",
   "execution_count": 122,
   "metadata": {},
   "outputs": [
    {
     "data": {
      "text/plain": [
       "True"
      ]
     },
     "execution_count": 122,
     "metadata": {},
     "output_type": "execute_result"
    }
   ],
   "source": [
    "pangram('abcdefghijklmnopqrstuvwxyz')"
   ]
  },
  {
   "cell_type": "code",
   "execution_count": 116,
   "metadata": {},
   "outputs": [
    {
     "name": "stderr",
     "output_type": "stream",
     "text": [
      "FFFFFFFFFFF.FFF...............\n",
      "======================================================================\n",
      "FAIL: runTest (mod.testing.test_pangram.<locals>.TestKnown)\n",
      "----------------------------------------------------------------------\n",
      "Traceback (most recent call last):\n",
      "  File \"C:\\Users\\maria\\Desktop\\lab-functions\\mod\\testing.py\", line 172, in runTest\n",
      "    self.assertEqual(fn(self.input), self.output, f\"Should be {self.output}\")\n",
      "AssertionError: False != True : Should be True\n",
      "\n",
      "======================================================================\n",
      "FAIL: runTest (mod.testing.test_pangram.<locals>.TestKnown)\n",
      "----------------------------------------------------------------------\n",
      "Traceback (most recent call last):\n",
      "  File \"C:\\Users\\maria\\Desktop\\lab-functions\\mod\\testing.py\", line 172, in runTest\n",
      "    self.assertEqual(fn(self.input), self.output, f\"Should be {self.output}\")\n",
      "AssertionError: False != True : Should be True\n",
      "\n",
      "======================================================================\n",
      "FAIL: runTest (mod.testing.test_pangram.<locals>.TestKnown)\n",
      "----------------------------------------------------------------------\n",
      "Traceback (most recent call last):\n",
      "  File \"C:\\Users\\maria\\Desktop\\lab-functions\\mod\\testing.py\", line 172, in runTest\n",
      "    self.assertEqual(fn(self.input), self.output, f\"Should be {self.output}\")\n",
      "AssertionError: False != True : Should be True\n",
      "\n",
      "======================================================================\n",
      "FAIL: runTest (mod.testing.test_pangram.<locals>.TestKnown)\n",
      "----------------------------------------------------------------------\n",
      "Traceback (most recent call last):\n",
      "  File \"C:\\Users\\maria\\Desktop\\lab-functions\\mod\\testing.py\", line 172, in runTest\n",
      "    self.assertEqual(fn(self.input), self.output, f\"Should be {self.output}\")\n",
      "AssertionError: False != True : Should be True\n",
      "\n",
      "======================================================================\n",
      "FAIL: runTest (mod.testing.test_pangram.<locals>.TestKnown)\n",
      "----------------------------------------------------------------------\n",
      "Traceback (most recent call last):\n",
      "  File \"C:\\Users\\maria\\Desktop\\lab-functions\\mod\\testing.py\", line 172, in runTest\n",
      "    self.assertEqual(fn(self.input), self.output, f\"Should be {self.output}\")\n",
      "AssertionError: False != True : Should be True\n",
      "\n",
      "======================================================================\n",
      "FAIL: runTest (mod.testing.test_pangram.<locals>.TestKnown)\n",
      "----------------------------------------------------------------------\n",
      "Traceback (most recent call last):\n",
      "  File \"C:\\Users\\maria\\Desktop\\lab-functions\\mod\\testing.py\", line 172, in runTest\n",
      "    self.assertEqual(fn(self.input), self.output, f\"Should be {self.output}\")\n",
      "AssertionError: False != True : Should be True\n",
      "\n",
      "======================================================================\n",
      "FAIL: runTest (mod.testing.test_pangram.<locals>.TestKnown)\n",
      "----------------------------------------------------------------------\n",
      "Traceback (most recent call last):\n",
      "  File \"C:\\Users\\maria\\Desktop\\lab-functions\\mod\\testing.py\", line 172, in runTest\n",
      "    self.assertEqual(fn(self.input), self.output, f\"Should be {self.output}\")\n",
      "AssertionError: False != True : Should be True\n",
      "\n",
      "======================================================================\n",
      "FAIL: runTest (mod.testing.test_pangram.<locals>.TestKnown)\n",
      "----------------------------------------------------------------------\n",
      "Traceback (most recent call last):\n",
      "  File \"C:\\Users\\maria\\Desktop\\lab-functions\\mod\\testing.py\", line 172, in runTest\n",
      "    self.assertEqual(fn(self.input), self.output, f\"Should be {self.output}\")\n",
      "AssertionError: False != True : Should be True\n",
      "\n",
      "======================================================================\n",
      "FAIL: runTest (mod.testing.test_pangram.<locals>.TestKnown)\n",
      "----------------------------------------------------------------------\n",
      "Traceback (most recent call last):\n",
      "  File \"C:\\Users\\maria\\Desktop\\lab-functions\\mod\\testing.py\", line 172, in runTest\n",
      "    self.assertEqual(fn(self.input), self.output, f\"Should be {self.output}\")\n",
      "AssertionError: False != True : Should be True\n",
      "\n",
      "======================================================================\n",
      "FAIL: runTest (mod.testing.test_pangram.<locals>.TestKnown)\n",
      "----------------------------------------------------------------------\n",
      "Traceback (most recent call last):\n",
      "  File \"C:\\Users\\maria\\Desktop\\lab-functions\\mod\\testing.py\", line 172, in runTest\n",
      "    self.assertEqual(fn(self.input), self.output, f\"Should be {self.output}\")\n",
      "AssertionError: False != True : Should be True\n",
      "\n",
      "======================================================================\n",
      "FAIL: runTest (mod.testing.test_pangram.<locals>.TestKnown)\n",
      "----------------------------------------------------------------------\n",
      "Traceback (most recent call last):\n",
      "  File \"C:\\Users\\maria\\Desktop\\lab-functions\\mod\\testing.py\", line 172, in runTest\n",
      "    self.assertEqual(fn(self.input), self.output, f\"Should be {self.output}\")\n",
      "AssertionError: False != True : Should be True\n",
      "\n",
      "======================================================================\n",
      "FAIL: runTest (mod.testing.test_pangram.<locals>.TestKnown)\n",
      "----------------------------------------------------------------------\n",
      "Traceback (most recent call last):\n",
      "  File \"C:\\Users\\maria\\Desktop\\lab-functions\\mod\\testing.py\", line 172, in runTest\n",
      "    self.assertEqual(fn(self.input), self.output, f\"Should be {self.output}\")\n",
      "AssertionError: False != True : Should be True\n",
      "\n",
      "======================================================================\n",
      "FAIL: runTest (mod.testing.test_pangram.<locals>.TestKnown)\n",
      "----------------------------------------------------------------------\n",
      "Traceback (most recent call last):\n",
      "  File \"C:\\Users\\maria\\Desktop\\lab-functions\\mod\\testing.py\", line 172, in runTest\n",
      "    self.assertEqual(fn(self.input), self.output, f\"Should be {self.output}\")\n",
      "AssertionError: False != True : Should be True\n",
      "\n",
      "======================================================================\n",
      "FAIL: runTest (mod.testing.test_pangram.<locals>.TestKnown)\n",
      "----------------------------------------------------------------------\n",
      "Traceback (most recent call last):\n",
      "  File \"C:\\Users\\maria\\Desktop\\lab-functions\\mod\\testing.py\", line 172, in runTest\n",
      "    self.assertEqual(fn(self.input), self.output, f\"Should be {self.output}\")\n",
      "AssertionError: False != True : Should be True\n",
      "\n",
      "----------------------------------------------------------------------\n",
      "Ran 30 tests in 0.020s\n",
      "\n",
      "FAILED (failures=14)\n"
     ]
    }
   ],
   "source": [
    "# This will test your function \n",
    "test_pangram(pangram)"
   ]
  },
  {
   "cell_type": "markdown",
   "metadata": {},
   "source": [
    "## 10. Write a function to check if a given password is strong (at least 8 characters, at least one lower case, at least one upper case, at least one number and at least one special character). It should output True if strong and False if not.\n",
    "`Valid special characters: # @ ! $ % & ( ) ^ * [ ] { }`"
   ]
  },
  {
   "cell_type": "code",
   "execution_count": 150,
   "metadata": {},
   "outputs": [],
   "source": [
    "def check_pass(string):\n",
    "    special_char = ['#', '@', '!', '$', '%','&', '(', ')', '^', '*', '[', ']' ,'{','}']\n",
    "    is_lower=[]\n",
    "    is_upper=[]\n",
    "    is_num=[]\n",
    "    is_special=[]\n",
    "    \n",
    "    for i in range(len(string)):\n",
    "        if string[i].islower():\n",
    "            is_lower.append(i)\n",
    "    for i in range(len(string)):\n",
    "        if string[i].isupper():\n",
    "            is_upper.append(i)\n",
    "    for i in range(len(string)):\n",
    "        if string[i].isdigit():\n",
    "            is_num.append(i)\n",
    "    for i in range(len(string)):\n",
    "        if string[i] in special_char:\n",
    "            is_special.append(i)\n",
    "    return len(is_lower) >= 1 and len(is_upper) >= 1 and len(is_num) >= 1 and len(is_special) >= 1 and len(string)>= 8"
   ]
  },
  {
   "cell_type": "code",
   "execution_count": 152,
   "metadata": {},
   "outputs": [
    {
     "data": {
      "text/plain": [
       "True"
      ]
     },
     "execution_count": 152,
     "metadata": {},
     "output_type": "execute_result"
    }
   ],
   "source": [
    "check_pass('Hol@2211')"
   ]
  },
  {
   "cell_type": "code",
   "execution_count": 153,
   "metadata": {},
   "outputs": [
    {
     "data": {
      "text/plain": [
       "True"
      ]
     },
     "execution_count": 153,
     "metadata": {},
     "output_type": "execute_result"
    }
   ],
   "source": [
    "check_pass('Hol@12345')"
   ]
  },
  {
   "cell_type": "code",
   "execution_count": 154,
   "metadata": {},
   "outputs": [
    {
     "name": "stderr",
     "output_type": "stream",
     "text": [
      "....................................................................................................\n",
      "----------------------------------------------------------------------\n",
      "Ran 100 tests in 0.058s\n",
      "\n",
      "OK\n"
     ]
    }
   ],
   "source": [
    "# This will test your function \n",
    "test_pass(check_pass)"
   ]
  },
  {
   "cell_type": "markdown",
   "metadata": {},
   "source": [
    "## BONUS"
   ]
  },
  {
   "cell_type": "markdown",
   "metadata": {},
   "source": [
    "## 11. Write a function that returns the mode of a list, i.e.: the element that appears the most times.\n",
    "`NOTE: You should not use count... 🧐`"
   ]
  },
  {
   "cell_type": "code",
   "execution_count": 155,
   "metadata": {},
   "outputs": [],
   "source": [
    "import statistics as stats\n",
    "\n",
    "def mode_counter(arr):\n",
    "    return stats.mode(arr)"
   ]
  },
  {
   "cell_type": "code",
   "execution_count": 156,
   "metadata": {},
   "outputs": [
    {
     "data": {
      "text/plain": [
       "4"
      ]
     },
     "execution_count": 156,
     "metadata": {},
     "output_type": "execute_result"
    }
   ],
   "source": [
    "a= [1,2,3,4,4,4,4,4,4,45,45,1,1,2]\n",
    "mode_counter(a)"
   ]
  },
  {
   "cell_type": "code",
   "execution_count": 157,
   "metadata": {},
   "outputs": [
    {
     "name": "stderr",
     "output_type": "stream",
     "text": [
      "....................................................................................................\n",
      "----------------------------------------------------------------------\n",
      "Ran 100 tests in 0.057s\n",
      "\n",
      "OK\n"
     ]
    }
   ],
   "source": [
    "# This will test your function \n",
    "test_mode(mode_counter)"
   ]
  },
  {
   "cell_type": "markdown",
   "metadata": {},
   "source": [
    "## 12. Write a function that receives a string of comma separated words and returns a string of comma separated words sorted alphabetically.\n",
    "\n",
    "`NOTE: You may use sorted but not split and definitely no join! 🤪`"
   ]
  },
  {
   "cell_type": "code",
   "execution_count": 178,
   "metadata": {},
   "outputs": [],
   "source": [
    "#not sure of what's needed in this case:\n",
    "\n",
    "def sort_alpha(string):\n",
    "    tuple_string = (tuple(string))\n",
    "    tuple_sort = sorted(tuple_string, key = lambda tupla: tupla[-1], reverse=False)\n",
    "    concat=''\n",
    "    for i in tuple_sort:\n",
    "        if i != \",\":\n",
    "            concat+=i\n",
    "    return concat"
   ]
  },
  {
   "cell_type": "code",
   "execution_count": 179,
   "metadata": {},
   "outputs": [
    {
     "data": {
      "text/plain": [
       "'aaabbccccdddddeeeeeeffffgggggghhhhhhiiiiijjjjjkkkklllllmmmmmnnnnooooooopppppqqqqqqrrrrrrrrsssttttuuuuuvvvvwwwwxyyyyyyyzzzz'"
      ]
     },
     "execution_count": 179,
     "metadata": {},
     "output_type": "execute_result"
    }
   ],
   "source": [
    "string = 'dbrgli,dujvpjq,eehfto,enduq,eudhjl,gvpghh,hfnrqmo,ipeyh,iuzi,kgjoyj,lvmil,mmtrqkwc,otanlo,qweys,rfwdrpza,smogrca,ucwyoxrz,vyftby,yrpqc,zgkkns'\n",
    "sort_alpha (string)"
   ]
  },
  {
   "cell_type": "code",
   "execution_count": null,
   "metadata": {},
   "outputs": [],
   "source": []
  },
  {
   "cell_type": "code",
   "execution_count": 180,
   "metadata": {},
   "outputs": [
    {
     "name": "stderr",
     "output_type": "stream",
     "text": [
      "FFFFFFFFFFFFFFFFFFFFFFFFFFFFFFFFFFFFFFFFFFFFFFFFFFFFFFFFFFFFFFFFFFFFFFFFFFFFFFFFFFFFFFFFFFFFFFFFFFFF\n",
      "======================================================================\n",
      "FAIL: runTest (mod.testing.test_alpha.<locals>.TestKnown)\n",
      "----------------------------------------------------------------------\n",
      "Traceback (most recent call last):\n",
      "  File \"C:\\Users\\maria\\Desktop\\lab-functions\\mod\\testing.py\", line 187, in runTest\n",
      "    self.assertEqual(fn(self.input), self.output, f\"Should be {self.output}\")\n",
      "AssertionError: 'aabdeefgghiiiijjllmmmnnnnopqqrrssttttvvwyyz' != 'ahqn,fmeel,iyvormti,nnsjltdt,rbvagmiq,spijtz,ygwn'\n",
      "- aabdeefgghiiiijjllmmmnnnnopqqrrssttttvvwyyz\n",
      "+ ahqn,fmeel,iyvormti,nnsjltdt,rbvagmiq,spijtz,ygwn\n",
      " : Should be ahqn,fmeel,iyvormti,nnsjltdt,rbvagmiq,spijtz,ygwn\n",
      "\n",
      "======================================================================\n",
      "FAIL: runTest (mod.testing.test_alpha.<locals>.TestKnown)\n",
      "----------------------------------------------------------------------\n",
      "Traceback (most recent call last):\n",
      "  File \"C:\\Users\\maria\\Desktop\\lab-functions\\mod\\testing.py\", line 187, in runTest\n",
      "    self.assertEqual(fn(self.input), self.output, f\"Should be {self.output}\")\n",
      "AssertionError: 'aaaabbbbcccccdddddeeeeeffffffgghhhiiiiijj[72 chars]zzzz' != 'birn,cuskuaiq,emax,fsfzfsek,ilillx,isdffb[88 chars]esjp'\n",
      "- aaaabbbbcccccdddddeeeeeffffffgghhhiiiiijjjjkkkkllllllmmmmmnnnnnoopppppqqqqrrrrrrsssssssssttuuuuuuuvvvvvwxxxxyyzzzzzzz\n",
      "+ birn,cuskuaiq,emax,fsfzfsek,ilillx,isdffbde,kcxet,lszpdnmn,nzvug,ohcmsrju,osjkruc,pvashqqbt,rlzvhyzr,vuxblgmddp,wcfjrav,yunmz,zpqesjp\n",
      " : Should be birn,cuskuaiq,emax,fsfzfsek,ilillx,isdffbde,kcxet,lszpdnmn,nzvug,ohcmsrju,osjkruc,pvashqqbt,rlzvhyzr,vuxblgmddp,wcfjrav,yunmz,zpqesjp\n",
      "\n",
      "======================================================================\n",
      "FAIL: runTest (mod.testing.test_alpha.<locals>.TestKnown)\n",
      "----------------------------------------------------------------------\n",
      "Traceback (most recent call last):\n",
      "  File \"C:\\Users\\maria\\Desktop\\lab-functions\\mod\\testing.py\", line 187, in runTest\n",
      "    self.assertEqual(fn(self.input), self.output, f\"Should be {self.output}\")\n",
      "AssertionError: 'aaaaaaaaaabbbbbbbcccccdddddddddeeeeffffffg[105 chars]zzzz' != 'abajlrkc,adhhtbiqnz,adorybsh,dmqfty,dpmkki[126 chars]zpnt'\n",
      "- aaaaaaaaaabbbbbbbcccccdddddddddeeeeffffffggghhhhiiijjjjkkkkklllllllllmmmmmmmmnnnoooooppppppppppppqqqqqqrrrssssssstttttttttttuuuvvvvvwwwxxxxyyyyyyyyzzzz\n",
      "+ abajlrkc,adhhtbiqnz,adorybsh,dmqfty,dpmkki,eezcls,gpxchcl,ldjfdoysqd,lfaueo,maovg,plvtqkpyt,pypal,saqo,sfmvt,tspnwmmj,ttiduzyp,wpvw,xcekutv,xdpybgb,xsjalmqfr,yapbblfmt,zpnt\n",
      " : Should be abajlrkc,adhhtbiqnz,adorybsh,dmqfty,dpmkki,eezcls,gpxchcl,ldjfdoysqd,lfaueo,maovg,plvtqkpyt,pypal,saqo,sfmvt,tspnwmmj,ttiduzyp,wpvw,xcekutv,xdpybgb,xsjalmqfr,yapbblfmt,zpnt\n",
      "\n",
      "======================================================================\n",
      "FAIL: runTest (mod.testing.test_alpha.<locals>.TestKnown)\n",
      "----------------------------------------------------------------------\n",
      "Traceback (most recent call last):\n",
      "  File \"C:\\Users\\maria\\Desktop\\lab-functions\\mod\\testing.py\", line 187, in runTest\n",
      "    self.assertEqual(fn(self.input), self.output, f\"Should be {self.output}\")\n",
      "AssertionError: 'aaaaaabbbbbbcccddddeeeeeeeeffffffggggghhh[93 chars]zzzz' != 'bteote,dxmtbo,embrk,fcugska,fetgjqmov,fsz[113 chars]azph'\n",
      "- aaaaaabbbbbbcccddddeeeeeeeeffffffggggghhhhhiiiijjjjjjkkkllllllmmmmmmmnnnoooooooppppppppqqqqqrrrrrrsssssstttttuuuuuuuuvvvvvwwwxxyyzzzzzzzzz\n",
      "+ bteote,dxmtbo,embrk,fcugska,fetgjqmov,fszgs,inrud,lfnl,mehhg,ozji,ozzsetpx,rgqpjl,rjspaquzhl,rueajuo,ubjiqpymz,uvmrzdsidl,uwfkaqepbb,vlvh,wocvmz,wpcfnp,yaazph\n",
      " : Should be bteote,dxmtbo,embrk,fcugska,fetgjqmov,fszgs,inrud,lfnl,mehhg,ozji,ozzsetpx,rgqpjl,rjspaquzhl,rueajuo,ubjiqpymz,uvmrzdsidl,uwfkaqepbb,vlvh,wocvmz,wpcfnp,yaazph\n",
      "\n",
      "======================================================================\n",
      "FAIL: runTest (mod.testing.test_alpha.<locals>.TestKnown)\n",
      "----------------------------------------------------------------------\n",
      "Traceback (most recent call last):\n",
      "  File \"C:\\Users\\maria\\Desktop\\lab-functions\\mod\\testing.py\", line 187, in runTest\n",
      "    self.assertEqual(fn(self.input), self.output, f\"Should be {self.output}\")\n",
      "AssertionError: 'aabbbbbcccccddfffgggghhiijjkklllmmnnnnnoooopprrstttttuuuuvwwwyzzz' != 'bbgho,bgpjp,catkn,fvfctot,godww,humlu,mtubry,ngui,zcojcnrali,zlcw,znfndbstk'\n",
      "- aabbbbbcccccddfffgggghhiijjkklllmmnnnnnoooopprrstttttuuuuvwwwyzzz\n",
      "+ bbgho,bgpjp,catkn,fvfctot,godww,humlu,mtubry,ngui,zcojcnrali,zlcw,znfndbstk\n",
      " : Should be bbgho,bgpjp,catkn,fvfctot,godww,humlu,mtubry,ngui,zcojcnrali,zlcw,znfndbstk\n",
      "\n",
      "======================================================================\n",
      "FAIL: runTest (mod.testing.test_alpha.<locals>.TestKnown)\n",
      "----------------------------------------------------------------------\n",
      "Traceback (most recent call last):\n",
      "  File \"C:\\Users\\maria\\Desktop\\lab-functions\\mod\\testing.py\", line 187, in runTest\n",
      "    self.assertEqual(fn(self.input), self.output, f\"Should be {self.output}\")\n",
      "AssertionError: 'aaaaaabbbcccceeeeeefgggghhhhhhiiiiijjjkkkk[61 chars]yyzz' != 'aketkaiam,goqle,guxugsbs,hbhahv,iknqxmh,ko[75 chars]tvxl'\n",
      "- aaaaaabbbcccceeeeeefgggghhhhhhiiiiijjjkkkkkklllllmmmmmmnnnnnoooopppqqrrsssstttuuuuuuuuuvvvvvvwxxxxxxxxyyyzz\n",
      "+ aketkaiam,goqle,guxugsbs,hbhahv,iknqxmh,kovirue,lbujj,mxxkafl,njuiut,noypluky,vcys,voueehmsr,wimpvpuxha,zgncxcmc,znxetvxl\n",
      " : Should be aketkaiam,goqle,guxugsbs,hbhahv,iknqxmh,kovirue,lbujj,mxxkafl,njuiut,noypluky,vcys,voueehmsr,wimpvpuxha,zgncxcmc,znxetvxl\n",
      "\n",
      "======================================================================\n",
      "FAIL: runTest (mod.testing.test_alpha.<locals>.TestKnown)\n",
      "----------------------------------------------------------------------\n",
      "Traceback (most recent call last):\n",
      "  File \"C:\\Users\\maria\\Desktop\\lab-functions\\mod\\testing.py\", line 187, in runTest\n",
      "    self.assertEqual(fn(self.input), self.output, f\"Should be {self.output}\")\n",
      "AssertionError: 'aaabbbccddddeeeefffggggghhhhhiiiiiiiiiijjk[53 chars]zzzz' != 'aiid,awhhdgtwm,bmdiqi,gzxlzag,khbnvcwk,khs[66 chars]gwgx'\n",
      "- aaabbbccddddeeeefffggggghhhhhiiiiiiiiiijjkkkkkklllllmmmnnnnoopqqqqrrsttttuvvvwwwwwwwwwxxxxxxyyyzzzz\n",
      "+ aiid,awhhdgtwm,bmdiqi,gzxlzag,khbnvcwk,khstceiqoi,kryiibeo,qliyflvw,qtzkmf,uhnyj,wlpwdf,xeeknw,xntivjl,zxrxwgwgx\n",
      " : Should be aiid,awhhdgtwm,bmdiqi,gzxlzag,khbnvcwk,khstceiqoi,kryiibeo,qliyflvw,qtzkmf,uhnyj,wlpwdf,xeeknw,xntivjl,zxrxwgwgx\n",
      "\n",
      "======================================================================\n",
      "FAIL: runTest (mod.testing.test_alpha.<locals>.TestKnown)\n",
      "----------------------------------------------------------------------\n",
      "Traceback (most recent call last):\n",
      "  File \"C:\\Users\\maria\\Desktop\\lab-functions\\mod\\testing.py\", line 187, in runTest\n",
      "    self.assertEqual(fn(self.input), self.output, f\"Should be {self.output}\")\n",
      "AssertionError: 'aaabbbbcccccddddfffffffgghiiiiijjjjjjkkkl[36 chars]zzzz' != 'fbzkrxf,ffxaca,igdahpnj,jzrnxjxry,mcpcppv[45 chars]nqif'\n",
      "- aaabbbbcccccddddfffffffgghiiiiijjjjjjkkklmmmmnnnnnoppppqqrrrrrrsttuuvvwxxxxxyzzzz\n",
      "+ fbzkrxf,ffxaca,igdahpnj,jzrnxjxry,mcpcppvo,nbuzimumiq,nkdmfdfgkj,rwjbzril,sbcdcttvr,xjnqif\n",
      " : Should be fbzkrxf,ffxaca,igdahpnj,jzrnxjxry,mcpcppvo,nbuzimumiq,nkdmfdfgkj,rwjbzril,sbcdcttvr,xjnqif\n",
      "\n",
      "======================================================================\n",
      "FAIL: runTest (mod.testing.test_alpha.<locals>.TestKnown)\n",
      "----------------------------------------------------------------------\n",
      "Traceback (most recent call last):\n",
      "  File \"C:\\Users\\maria\\Desktop\\lab-functions\\mod\\testing.py\", line 187, in runTest\n",
      "    self.assertEqual(fn(self.input), self.output, f\"Should be {self.output}\")\n",
      "AssertionError: 'aaaaabbbbbbccccccccddddeeeeeeeffggggghhhhh[112 chars]yzzz' != 'atuuxbc,bgjvkgin,cerkkw,hewvclhe,jolnrnpek[133 chars]yxah'\n",
      "- aaaaabbbbbbccccccccddddeeeeeeeffggggghhhhhhhhiiijjjjjjjjkkkkkkkkllllllllmmmmnnnnnnnnnooooooopppqqqqqqrrrrrrrrrsssssstttttuuuuuuuuuvvvvvvvvvwwwwxxxxxxxyyyyyzzz\n",
      "+ atuuxbc,bgjvkgin,cerkkw,hewvclhe,jolnrnpek,jqalo,jqmbscrd,lcqrvvpd,nvmrnv,nyukuxzrgo,oayuneujql,omyhxziw,qdclkxtx,qeuunfrt,rhbsj,sbvruldcf,sjjhh,tbzo,vaxkociplg,vewg,yshmksnt,yxah\n",
      " : Should be atuuxbc,bgjvkgin,cerkkw,hewvclhe,jolnrnpek,jqalo,jqmbscrd,lcqrvvpd,nvmrnv,nyukuxzrgo,oayuneujql,omyhxziw,qdclkxtx,qeuunfrt,rhbsj,sbvruldcf,sjjhh,tbzo,vaxkociplg,vewg,yshmksnt,yxah\n",
      "\n",
      "======================================================================\n",
      "FAIL: runTest (mod.testing.test_alpha.<locals>.TestKnown)\n",
      "----------------------------------------------------------------------\n",
      "Traceback (most recent call last):\n",
      "  File \"C:\\Users\\maria\\Desktop\\lab-functions\\mod\\testing.py\", line 187, in runTest\n",
      "    self.assertEqual(fn(self.input), self.output, f\"Should be {self.output}\")\n",
      "AssertionError: 'aaabbbbbccccccddddddeeeeeeeeffffggggghhhh[72 chars]zzzz' != 'curedqb,earsfc,fdbekb,gcqpvxgt,hjhgybdgy,[87 chars]beks'\n",
      "- aaabbbbbccccccddddddeeeeeeeeffffggggghhhhhhiiijjjkkkkllmnnnnooooooppppppqqqqrrrrrrsssttuuuuvvvvwwwwwwwxxxxxxyyyyyzzzz\n",
      "+ curedqb,earsfc,fdbekb,gcqpvxgt,hjhgybdgy,hxcrafzh,ixdwmq,joqnwvzhyl,kezt,nnoep,onsruvxg,rxphxoocp,uwdiyaief,wepkpdvucl,wrjoyw,zwbeks\n",
      " : Should be curedqb,earsfc,fdbekb,gcqpvxgt,hjhgybdgy,hxcrafzh,ixdwmq,joqnwvzhyl,kezt,nnoep,onsruvxg,rxphxoocp,uwdiyaief,wepkpdvucl,wrjoyw,zwbeks\n",
      "\n",
      "======================================================================\n",
      "FAIL: runTest (mod.testing.test_alpha.<locals>.TestKnown)\n",
      "----------------------------------------------------------------------\n",
      "Traceback (most recent call last):\n",
      "  File \"C:\\Users\\maria\\Desktop\\lab-functions\\mod\\testing.py\", line 187, in runTest\n",
      "    self.assertEqual(fn(self.input), self.output, f\"Should be {self.output}\")\n",
      "AssertionError: 'aaabbcccccddeefggggghhiijjjkkkllllmnnnoppp[35 chars]yyyz' != 'axldqtc,azknyu,gdouvuwjpn,gsvqu,guxwrxcyt,[46 chars]pslx'\n",
      "- aaabbcccccddeefggggghhiijjjkkkllllmnnnopppqqqrsssssstttttuuuuuuvvvvvwwwwxxxxxyyyz\n",
      "+ axldqtc,azknyu,gdouvuwjpn,gsvqu,guxwrxcyt,ipvbbc,iskt,nwvaq,sxjttesl,uhgk,vhjcmse,wlfygcpslx\n",
      " : Should be axldqtc,azknyu,gdouvuwjpn,gsvqu,guxwrxcyt,ipvbbc,iskt,nwvaq,sxjttesl,uhgk,vhjcmse,wlfygcpslx\n",
      "\n",
      "======================================================================\n",
      "FAIL: runTest (mod.testing.test_alpha.<locals>.TestKnown)\n",
      "----------------------------------------------------------------------\n",
      "Traceback (most recent call last):\n",
      "  File \"C:\\Users\\maria\\Desktop\\lab-functions\\mod\\testing.py\", line 187, in runTest\n",
      "    self.assertEqual(fn(self.input), self.output, f\"Should be {self.output}\")\n",
      "AssertionError: 'aaaaaaaaaabbccccccdddddddeeeeeeeeeffffffff[100 chars]zzzz' != 'acyk,czkdwfomaa,ddelxfesa,inunfk,jdnrfgns,[117 chars]ywst'\n",
      "- aaaaaaaaaabbccccccdddddddeeeeeeeeefffffffffggggghhiiiijjjjkkkkkkklllmmmmmmnnnnnnnnnnooooppppqqqqrrrrrrrrssssssttttttuuuuvvvvvvvwwwwwxxxxxxxyyyzzzz\n",
      "+ acyk,czkdwfomaa,ddelxfesa,inunfk,jdnrfgns,kxncvkvsa,ludnfqnxiq,ocmxob,pzfsfdp,reqvvejl,rvmctbmz,rwhcwxka,rxppeghyjt,rxujrfqan,tgaiinmfot,tmavreuase,vewnekgzgd,ywst\n",
      " : Should be acyk,czkdwfomaa,ddelxfesa,inunfk,jdnrfgns,kxncvkvsa,ludnfqnxiq,ocmxob,pzfsfdp,reqvvejl,rvmctbmz,rwhcwxka,rxppeghyjt,rxujrfqan,tgaiinmfot,tmavreuase,vewnekgzgd,ywst\n",
      "\n",
      "======================================================================\n",
      "FAIL: runTest (mod.testing.test_alpha.<locals>.TestKnown)\n",
      "----------------------------------------------------------------------\n",
      "Traceback (most recent call last):\n",
      "  File \"C:\\Users\\maria\\Desktop\\lab-functions\\mod\\testing.py\", line 187, in runTest\n",
      "    self.assertEqual(fn(self.input), self.output, f\"Should be {self.output}\")\n",
      "AssertionError: 'aaaaaaabbbbccccccccdddeeeeffffffffggggggh[102 chars]zzzz' != 'cfwhmfm,eaguy,eitvdbdxm,hzuvak,jvpabmmtn,[123 chars]vmfo'\n",
      "- aaaaaaabbbbccccccccdddeeeeffffffffgggggghhhhhhhhiiiiijjjjjkkkkkkkkklmmmmmmmmnnnnooopppqqqqqrrrrrssssttttttttttuuuuuvvvvvvwwwwxxxxxyyyyyyyyzzzzzzzzz\n",
      "+ cfwhmfm,eaguy,eitvdbdxm,hzuvak,jvpabmmtn,kkhhzyi,ofeqjszky,ohjctrkva,pcqyhz,qgmzc,relzfsfjt,tcyyg,tftdp,tskqntigyc,ugcs,utcf,vxkbn,wgzqwjnu,xhhmiaarz,xwkba,xyrkr,zivmfo\n",
      " : Should be cfwhmfm,eaguy,eitvdbdxm,hzuvak,jvpabmmtn,kkhhzyi,ofeqjszky,ohjctrkva,pcqyhz,qgmzc,relzfsfjt,tcyyg,tftdp,tskqntigyc,ugcs,utcf,vxkbn,wgzqwjnu,xhhmiaarz,xwkba,xyrkr,zivmfo\n",
      "\n",
      "======================================================================\n",
      "FAIL: runTest (mod.testing.test_alpha.<locals>.TestKnown)\n",
      "----------------------------------------------------------------------\n",
      "Traceback (most recent call last):\n",
      "  File \"C:\\Users\\maria\\Desktop\\lab-functions\\mod\\testing.py\", line 187, in runTest\n",
      "    self.assertEqual(fn(self.input), self.output, f\"Should be {self.output}\")\n",
      "AssertionError: 'aaaaaaabbbbbcccccccccddddddddeeeeeeeeeeeff[110 chars]zzzz' != 'aohaz,aqde,atmzxfuvxc,bouzqqep,bxeudvc,cwo[131 chars]nvvt'\n",
      "- aaaaaaabbbbbcccccccccddddddddeeeeeeeeeeeffggghhhhhhhhiiiiiiiiijjjjjjjjkkkkkkkmmmmmmmmmnnnoooooooppppppqqqqqrrsssttttuuuuuuuuvvvvvvvvvwwwwwxxxxxxxxyyyyyyzzzz\n",
      "+ aohaz,aqde,atmzxfuvxc,bouzqqep,bxeudvc,cwokymg,ddcpjukija,hegupdoqj,hkte,pddcpwovm,rerjaqfa,scekkkh,somv,uojecidmj,vibmi,vmiihjhku,wivbmbmcge,wpyxsy,xweny,yhjnctexi,yhxu,zxinvvt\n",
      " : Should be aohaz,aqde,atmzxfuvxc,bouzqqep,bxeudvc,cwokymg,ddcpjukija,hegupdoqj,hkte,pddcpwovm,rerjaqfa,scekkkh,somv,uojecidmj,vibmi,vmiihjhku,wivbmbmcge,wpyxsy,xweny,yhjnctexi,yhxu,zxinvvt\n",
      "\n",
      "======================================================================\n",
      "FAIL: runTest (mod.testing.test_alpha.<locals>.TestKnown)\n",
      "----------------------------------------------------------------------\n",
      "Traceback (most recent call last):\n",
      "  File \"C:\\Users\\maria\\Desktop\\lab-functions\\mod\\testing.py\", line 187, in runTest\n",
      "    self.assertEqual(fn(self.input), self.output, f\"Should be {self.output}\")\n",
      "AssertionError: 'aaabbccddddeeffgghhiiiiiijjlmnnoopppppsuuvvvwxxxxxyyyyzzzzz' != 'bxyhx,cuipzfgi,fvjeoi,ibacdga,nuydy,ovdzxxyze,ppdaizpxni,vzmjpwhls'\n",
      "- aaabbccddddeeffgghhiiiiiijjlmnnoopppppsuuvvvwxxxxxyyyyzzzzz\n",
      "+ bxyhx,cuipzfgi,fvjeoi,ibacdga,nuydy,ovdzxxyze,ppdaizpxni,vzmjpwhls\n",
      " : Should be bxyhx,cuipzfgi,fvjeoi,ibacdga,nuydy,ovdzxxyze,ppdaizpxni,vzmjpwhls\n",
      "\n",
      "======================================================================\n",
      "FAIL: runTest (mod.testing.test_alpha.<locals>.TestKnown)\n",
      "----------------------------------------------------------------------\n",
      "Traceback (most recent call last):\n",
      "  File \"C:\\Users\\maria\\Desktop\\lab-functions\\mod\\testing.py\", line 187, in runTest\n",
      "    self.assertEqual(fn(self.input), self.output, f\"Should be {self.output}\")\n",
      "AssertionError: 'aaabbcddehhkklmmooooqqrttttuuvvwy' != 'hatudtlqvh,movkaqak,obyttodbum,rocwe'\n",
      "- aaabbcddehhkklmmooooqqrttttuuvvwy\n",
      "+ hatudtlqvh,movkaqak,obyttodbum,rocwe\n",
      " : Should be hatudtlqvh,movkaqak,obyttodbum,rocwe\n",
      "\n",
      "======================================================================\n",
      "FAIL: runTest (mod.testing.test_alpha.<locals>.TestKnown)\n",
      "----------------------------------------------------------------------\n",
      "Traceback (most recent call last):\n",
      "  File \"C:\\Users\\maria\\Desktop\\lab-functions\\mod\\testing.py\", line 187, in runTest\n",
      "    self.assertEqual(fn(self.input), self.output, f\"Should be {self.output}\")\n",
      "AssertionError: 'aabbbbbbbccccccddddeeeeeffffgggggggggghhii[113 chars]zzzz' != 'apnn,bjvtkvsm,bowusyog,bzqutw,gssmbzs,gyep[137 chars]iixm'\n",
      "- aabbbbbbbccccccddddeeeeeffffgggggggggghhiiiiiiiijjjjjjkkkkkkkkkkklllllmmmmmmmnnnnooooppppppppqqqqqrrrrrrsssssssssstttttttuuuuuuuvvvvvvwwwwwwwxxxxyyyyyyyzzzzzzz\n",
      "+ apnn,bjvtkvsm,bowusyog,bzqutw,gssmbzs,gyepgljus,isixcj,iswg,jzbr,khzeeer,qcfmkkppbu,qcjt,qnow,rnexhcl,rtgldrsi,suofpkk,upifbprk,vpqd,wfiklg,yctddzvu,ygla,ygmvtmxkw,yyvtj,zcmkkwg,ziixm\n",
      " : Should be apnn,bjvtkvsm,bowusyog,bzqutw,gssmbzs,gyepgljus,isixcj,iswg,jzbr,khzeeer,qcfmkkppbu,qcjt,qnow,rnexhcl,rtgldrsi,suofpkk,upifbprk,vpqd,wfiklg,yctddzvu,ygla,ygmvtmxkw,yyvtj,zcmkkwg,ziixm\n",
      "\n",
      "======================================================================\n",
      "FAIL: runTest (mod.testing.test_alpha.<locals>.TestKnown)\n",
      "----------------------------------------------------------------------\n",
      "Traceback (most recent call last):\n",
      "  File \"C:\\Users\\maria\\Desktop\\lab-functions\\mod\\testing.py\", line 187, in runTest\n",
      "    self.assertEqual(fn(self.input), self.output, f\"Should be {self.output}\")\n",
      "AssertionError: 'aaaaaaaabbbbbbbbbbbbbccccccdddddddddeeeeff[123 chars]zzzz' != 'aimrus,bowgah,bsejym,bvhcbm,drnqyz,dsiyntw[147 chars]fyct'\n",
      "- aaaaaaaabbbbbbbbbbbbbccccccdddddddddeeeeffffffffffggggghhhhhhhiiiiiiiiiiijjjjjjjjkkkkllllmmmmmmnnnnnnnooooooopppppqqqqqrrrrrrsssssssttttuuuuuvvvvvvvwwwwwwwwwxxyyyyyyzzzz\n",
      "+ aimrus,bowgah,bsejym,bvhcbm,drnqyz,dsiyntwt,fihdwldgm,ireb,jcnd,kzcgyofbfx,lvdailq,mkjinxjn,mpvswqj,npagbv,odqn,oijf,skdslbrsp,uhbiobcbbb,uuoiw,vofipchwdf,wiaavfh,wrufjhz,wtpf,yvegaqe,zakrjfyct\n",
      " : Should be aimrus,bowgah,bsejym,bvhcbm,drnqyz,dsiyntwt,fihdwldgm,ireb,jcnd,kzcgyofbfx,lvdailq,mkjinxjn,mpvswqj,npagbv,odqn,oijf,skdslbrsp,uhbiobcbbb,uuoiw,vofipchwdf,wiaavfh,wrufjhz,wtpf,yvegaqe,zakrjfyct\n",
      "\n",
      "======================================================================\n",
      "FAIL: runTest (mod.testing.test_alpha.<locals>.TestKnown)\n",
      "----------------------------------------------------------------------\n",
      "Traceback (most recent call last):\n",
      "  File \"C:\\Users\\maria\\Desktop\\lab-functions\\mod\\testing.py\", line 187, in runTest\n",
      "    self.assertEqual(fn(self.input), self.output, f\"Should be {self.output}\")\n",
      "AssertionError: 'aaaaabbbcccccddddeeeeffgggggghhhhijjkkkkll[63 chars]zzzz' != 'apnwz,axlwfu,cuuz,jvqs,ktedsdpno,ldxx,lgxc[80 chars]ccch'\n",
      "- aaaaabbbcccccddddeeeeffgggggghhhhijjkkkkllllllmmnnnnnnnooooooppppppqqqqqrrrssssssttuuuuuuuuuuvvvvwwwwxxxxzzzz\n",
      "+ apnwz,axlwfu,cuuz,jvqs,ktedsdpno,ldxx,lgxce,maau,mhjqes,nsrnhn,oiqnd,olvfkvebu,pukqo,quzhgvztu,rgkagobpgg,rlpbwpu,sosunl,wccch\n",
      " : Should be apnwz,axlwfu,cuuz,jvqs,ktedsdpno,ldxx,lgxce,maau,mhjqes,nsrnhn,oiqnd,olvfkvebu,pukqo,quzhgvztu,rgkagobpgg,rlpbwpu,sosunl,wccch\n",
      "\n",
      "======================================================================\n",
      "FAIL: runTest (mod.testing.test_alpha.<locals>.TestKnown)\n",
      "----------------------------------------------------------------------\n",
      "Traceback (most recent call last):\n",
      "  File \"C:\\Users\\maria\\Desktop\\lab-functions\\mod\\testing.py\", line 187, in runTest\n",
      "    self.assertEqual(fn(self.input), self.output, f\"Should be {self.output}\")\n",
      "AssertionError: 'abbcddeefffggiiijkkklllmmmmmmpppqqqrrssstttuuvvwwwwyzzzzz' != 'iuctllvlez,kqrwdyswrz,mimvmjggip,stbwemffmu,stqbpazd,zkwpfkqzm'\n",
      "- abbcddeefffggiiijkkklllmmmmmmpppqqqrrssstttuuvvwwwwyzzzzz\n",
      "+ iuctllvlez,kqrwdyswrz,mimvmjggip,stbwemffmu,stqbpazd,zkwpfkqzm\n",
      " : Should be iuctllvlez,kqrwdyswrz,mimvmjggip,stbwemffmu,stqbpazd,zkwpfkqzm\n",
      "\n",
      "======================================================================\n",
      "FAIL: runTest (mod.testing.test_alpha.<locals>.TestKnown)\n",
      "----------------------------------------------------------------------\n",
      "Traceback (most recent call last):\n",
      "  File \"C:\\Users\\maria\\Desktop\\lab-functions\\mod\\testing.py\", line 187, in runTest\n",
      "    self.assertEqual(fn(self.input), self.output, f\"Should be {self.output}\")\n",
      "AssertionError: 'aabbbbbcccddddeeeefffggghhhhiiiiijjjjkkll[36 chars]yzzz' != 'coyluae,fhriwbb,fjqdzzjg,kxvrsc,llobwt,ob[46 chars]puej'\n",
      "- aabbbbbcccddddeeeefffggghhhhiiiiijjjjkkllllmmnooooppqrrrsssstttuuuuvvwwxxxyyyyzzz\n",
      "+ coyluae,fhriwbb,fjqdzzjg,kxvrsc,llobwt,obtst,pyehabe,unhxdidiol,xricizhvdm,yggjskmf,ysupuej\n",
      " : Should be coyluae,fhriwbb,fjqdzzjg,kxvrsc,llobwt,obtst,pyehabe,unhxdidiol,xricizhvdm,yggjskmf,ysupuej\n",
      "\n",
      "======================================================================\n",
      "FAIL: runTest (mod.testing.test_alpha.<locals>.TestKnown)\n",
      "----------------------------------------------------------------------\n",
      "Traceback (most recent call last):\n",
      "  File \"C:\\Users\\maria\\Desktop\\lab-functions\\mod\\testing.py\", line 187, in runTest\n",
      "    self.assertEqual(fn(self.input), self.output, f\"Should be {self.output}\")\n",
      "AssertionError: 'bbbbcddeeeeghiiiiiijjllmmmnnooppppqrsttuuuvxxxyyzz' != 'enbbblnyit,iodumoxzie,ixrgped,livpezxm,thsjmuqui,ypjbcp'\n",
      "- bbbbcddeeeeghiiiiiijjllmmmnnooppppqrsttuuuvxxxyyzz\n",
      "+ enbbblnyit,iodumoxzie,ixrgped,livpezxm,thsjmuqui,ypjbcp\n",
      " : Should be enbbblnyit,iodumoxzie,ixrgped,livpezxm,thsjmuqui,ypjbcp\n",
      "\n",
      "======================================================================\n",
      "FAIL: runTest (mod.testing.test_alpha.<locals>.TestKnown)\n",
      "----------------------------------------------------------------------\n",
      "Traceback (most recent call last):\n",
      "  File \"C:\\Users\\maria\\Desktop\\lab-functions\\mod\\testing.py\", line 187, in runTest\n",
      "    self.assertEqual(fn(self.input), self.output, f\"Should be {self.output}\")\n",
      "AssertionError: 'abcdddeeeefgghhhhhhiijjjjjkkkkkkllllmmmnnnoopppqqqrrstttttuuwwwxxyyz' != 'dijlgj,euxdwuetl,jhqhkk,kjpxh,kwny,lhihtybhp,lracdg,okpnk,tmfs,tojmqeqntw,zmer'\n",
      "- abcdddeeeefgghhhhhhiijjjjjkkkkkkllllmmmnnnoopppqqqrrstttttuuwwwxxyyz\n",
      "+ dijlgj,euxdwuetl,jhqhkk,kjpxh,kwny,lhihtybhp,lracdg,okpnk,tmfs,tojmqeqntw,zmer\n",
      " : Should be dijlgj,euxdwuetl,jhqhkk,kjpxh,kwny,lhihtybhp,lracdg,okpnk,tmfs,tojmqeqntw,zmer\n",
      "\n",
      "======================================================================\n",
      "FAIL: runTest (mod.testing.test_alpha.<locals>.TestKnown)\n",
      "----------------------------------------------------------------------\n",
      "Traceback (most recent call last):\n",
      "  File \"C:\\Users\\maria\\Desktop\\lab-functions\\mod\\testing.py\", line 187, in runTest\n",
      "    self.assertEqual(fn(self.input), self.output, f\"Should be {self.output}\")\n",
      "AssertionError: 'aaaaaaabbbbbbbccccccddddddeeeeeeeefffffggg[99 chars]zzzz' != 'aciqnc,ajkfofljk,arhsctl,bktz,cmwb,ewci,gp[118 chars]zebl'\n",
      "- aaaaaaabbbbbbbccccccddddddeeeeeeeefffffgggghhhhhhhhiiijjjjjkkkkkkkklllllllllllmmmmmmmnnoooopppppqqqqqqrrrrrrssssttttttttuuuvvvvwwwwwwwwwxxxyzzzzz\n",
      "+ aciqnc,ajkfofljk,arhsctl,bktz,cmwb,ewci,gpeehbkjl,hlotr,krlolh,lgvdd,ortlz,qgqhuwqpp,remfajshan,vtdkskwq,vthgqxdacs,wmbmwmtmmk,wvylwhblda,xpujrwexft,zdbie,zuepfzebl\n",
      " : Should be aciqnc,ajkfofljk,arhsctl,bktz,cmwb,ewci,gpeehbkjl,hlotr,krlolh,lgvdd,ortlz,qgqhuwqpp,remfajshan,vtdkskwq,vthgqxdacs,wmbmwmtmmk,wvylwhblda,xpujrwexft,zdbie,zuepfzebl\n",
      "\n",
      "======================================================================\n",
      "FAIL: runTest (mod.testing.test_alpha.<locals>.TestKnown)\n",
      "----------------------------------------------------------------------\n",
      "Traceback (most recent call last):\n",
      "  File \"C:\\Users\\maria\\Desktop\\lab-functions\\mod\\testing.py\", line 187, in runTest\n",
      "    self.assertEqual(fn(self.input), self.output, f\"Should be {self.output}\")\n",
      "AssertionError: 'abdddeffghhiiklmmoppqrsuvv' != 'drvgpbhv,fdso,kilemd,pmhfiqau'\n",
      "- abdddeffghhiiklmmoppqrsuvv\n",
      "+ drvgpbhv,fdso,kilemd,pmhfiqau\n",
      " : Should be drvgpbhv,fdso,kilemd,pmhfiqau\n",
      "\n",
      "======================================================================\n",
      "FAIL: runTest (mod.testing.test_alpha.<locals>.TestKnown)\n",
      "----------------------------------------------------------------------\n",
      "Traceback (most recent call last):\n",
      "  File \"C:\\Users\\maria\\Desktop\\lab-functions\\mod\\testing.py\", line 187, in runTest\n",
      "    self.assertEqual(fn(self.input), self.output, f\"Should be {self.output}\")\n",
      "AssertionError: 'aaaaaaaabbcddeeffghhhhhiijjjkklllmmmnnnnn[38 chars]yzzz' != 'drnptksu,flaatuu,fvustyx,ihhn,jrztjinp,kh[47 chars]ndsm'\n",
      "- aaaaaaaabbcddeeffghhhhhiijjjkklllmmmnnnnnnooppppppqrrrsssttttuuuuuuvvvvvwxxxxyyyzzz\n",
      "+ drnptksu,flaatuu,fvustyx,ihhn,jrztjinp,khhavvyquc,nvujayzmo,vahperbexl,walpnpboga,zxpxamndsm\n",
      " : Should be drnptksu,flaatuu,fvustyx,ihhn,jrztjinp,khhavvyquc,nvujayzmo,vahperbexl,walpnpboga,zxpxamndsm\n",
      "\n",
      "======================================================================\n",
      "FAIL: runTest (mod.testing.test_alpha.<locals>.TestKnown)\n",
      "----------------------------------------------------------------------\n",
      "Traceback (most recent call last):\n",
      "  File \"C:\\Users\\maria\\Desktop\\lab-functions\\mod\\testing.py\", line 187, in runTest\n",
      "    self.assertEqual(fn(self.input), self.output, f\"Should be {self.output}\")\n",
      "AssertionError: 'aaaaaaaaabbbcddddeeffffffgggggggghhhiijjjjj[46 chars]yzzz' != 'aanaa,gjwgelik,gxhbnslq,hrrlffrd,joqxuaazc,[58 chars]zynp'\n",
      "- aaaaaaaaabbbcddddeeffffffgggggggghhhiijjjjjjkkkklllllmmmmmnnnooopqqqqqqrrrsstttuwwwwxxxxyyzzz\n",
      "+ aanaa,gjwgelik,gxhbnslq,hrrlffrd,joqxuaazc,lakmhzjd,mfqf,qfgxtgmqo,qwjbgms,tytaiedka,wjkdbgol,xwjmfg,zynp\n",
      " : Should be aanaa,gjwgelik,gxhbnslq,hrrlffrd,joqxuaazc,lakmhzjd,mfqf,qfgxtgmqo,qwjbgms,tytaiedka,wjkdbgol,xwjmfg,zynp\n",
      "\n",
      "======================================================================\n",
      "FAIL: runTest (mod.testing.test_alpha.<locals>.TestKnown)\n",
      "----------------------------------------------------------------------\n",
      "Traceback (most recent call last):\n",
      "  File \"C:\\Users\\maria\\Desktop\\lab-functions\\mod\\testing.py\", line 187, in runTest\n",
      "    self.assertEqual(fn(self.input), self.output, f\"Should be {self.output}\")\n",
      "AssertionError: 'aabbcccccccdddeeefffgggghhhhhhiiiiiiijjkkk[60 chars]yzzz' != 'awpv,csbn,dxcuuprckp,hhywvsvq,iuzhy,jkygkw[76 chars]izgv'\n",
      "- aabbcccccccdddeeefffgggghhhhhhiiiiiiijjkkkkkkkllllmmmmmmnnnoppppppppppqqqqrrssstttuuuvvvvvvvvwwwwxxxyyyzzz\n",
      "+ awpv,csbn,dxcuuprckp,hhywvsvq,iuzhy,jkygkw,kthcxavh,kxei,lemcipitc,mipj,mlqp,pidgpkw,pmhfmrc,pqzlon,qnff,vbtmeldgs,vkvizgv\n",
      " : Should be awpv,csbn,dxcuuprckp,hhywvsvq,iuzhy,jkygkw,kthcxavh,kxei,lemcipitc,mipj,mlqp,pidgpkw,pmhfmrc,pqzlon,qnff,vbtmeldgs,vkvizgv\n",
      "\n",
      "======================================================================\n",
      "FAIL: runTest (mod.testing.test_alpha.<locals>.TestKnown)\n",
      "----------------------------------------------------------------------\n",
      "Traceback (most recent call last):\n",
      "  File \"C:\\Users\\maria\\Desktop\\lab-functions\\mod\\testing.py\", line 187, in runTest\n",
      "    self.assertEqual(fn(self.input), self.output, f\"Should be {self.output}\")\n",
      "AssertionError: 'aaaabbbbbbcccccccdddeeeeffffffgghhhhhhhhh[73 chars]yyyz' != 'bjfyyd,hpckvv,hvryilxbx,ivprrh,maikadcg,m[89 chars]pweb'\n",
      "- aaaabbbbbbcccccccdddeeeeffffffgghhhhhhhhhiiiiijjjkkkkkllmmmmnoooooooppppppqrrrrrrrrrrrrrsssstuuuvvvvvwwwwwxxxxxyyyyyyz\n",
      "+ bjfyyd,hpckvv,hvryilxbx,ivprrh,maikadcg,mceyjebsip,mhoc,mohoh,rhncpkr,rtfrfgohe,sjfdh,svsrbkiwf,uborakaqzy,ucruoolrfx,wxwr,xwrp,ycpweb\n",
      " : Should be bjfyyd,hpckvv,hvryilxbx,ivprrh,maikadcg,mceyjebsip,mhoc,mohoh,rhncpkr,rtfrfgohe,sjfdh,svsrbkiwf,uborakaqzy,ucruoolrfx,wxwr,xwrp,ycpweb\n",
      "\n",
      "======================================================================\n",
      "FAIL: runTest (mod.testing.test_alpha.<locals>.TestKnown)\n",
      "----------------------------------------------------------------------\n",
      "Traceback (most recent call last):\n",
      "  File \"C:\\Users\\maria\\Desktop\\lab-functions\\mod\\testing.py\", line 187, in runTest\n",
      "    self.assertEqual(fn(self.input), self.output, f\"Should be {self.output}\")\n",
      "AssertionError: 'aaabbbbbcccccdeeefffgghhhiiijkkkkmnnnnppppppqrrsstuuuvvvwwwwxxxyyyzzz' != 'hpce,icue,iwcuzvzaxb,jinpctvkse,kfykbxq,ndygpb,rappzhna,swkgbm,uchrf,vpfwbnxwy'\n",
      "- aaabbbbbcccccdeeefffgghhhiiijkkkkmnnnnppppppqrrsstuuuvvvwwwwxxxyyyzzz\n",
      "+ hpce,icue,iwcuzvzaxb,jinpctvkse,kfykbxq,ndygpb,rappzhna,swkgbm,uchrf,vpfwbnxwy\n",
      " : Should be hpce,icue,iwcuzvzaxb,jinpctvkse,kfykbxq,ndygpb,rappzhna,swkgbm,uchrf,vpfwbnxwy\n",
      "\n",
      "======================================================================\n",
      "FAIL: runTest (mod.testing.test_alpha.<locals>.TestKnown)\n",
      "----------------------------------------------------------------------\n",
      "Traceback (most recent call last):\n",
      "  File \"C:\\Users\\maria\\Desktop\\lab-functions\\mod\\testing.py\", line 187, in runTest\n",
      "    self.assertEqual(fn(self.input), self.output, f\"Should be {self.output}\")\n",
      "AssertionError: 'aaaaaabbbbbbbbbbbbbccccccdddddddddddeeeef[120 chars]zzzz' != 'bajbub,dcenzrhnbr,droqw,fmkshhslf,gidu,gp[143 chars]juce'\n",
      "- aaaaaabbbbbbbbbbbbbccccccdddddddddddeeeefffgggggghhhhhhiiiiiiiiiijjjjjjjjjkkkklllllmmmmmnnnnnnnnoooopppqqqqqqqrrrrrrrssssssssttuuuuuuvvvvvwwwwwwwxxxxxxxxyyyyyzzzzzzz\n",
      "+ bajbub,dcenzrhnbr,droqw,fmkshhslf,gidu,gplda,ibqysmck,kilxuuwjqj,kzxodmx,mvapqswma,nhjb,nirb,nsdxfjuhv,qervnzyyjq,qjyb,rxdixonzb,salzb,scdgih,seilc,towb,vidgznxzbt,vwdigd,wwbpcija,xgryjuce\n",
      " : Should be bajbub,dcenzrhnbr,droqw,fmkshhslf,gidu,gplda,ibqysmck,kilxuuwjqj,kzxodmx,mvapqswma,nhjb,nirb,nsdxfjuhv,qervnzyyjq,qjyb,rxdixonzb,salzb,scdgih,seilc,towb,vidgznxzbt,vwdigd,wwbpcija,xgryjuce\n",
      "\n",
      "======================================================================\n",
      "FAIL: runTest (mod.testing.test_alpha.<locals>.TestKnown)\n",
      "----------------------------------------------------------------------\n",
      "Traceback (most recent call last):\n",
      "  File \"C:\\Users\\maria\\Desktop\\lab-functions\\mod\\testing.py\", line 187, in runTest\n",
      "    self.assertEqual(fn(self.input), self.output, f\"Should be {self.output}\")\n",
      "AssertionError: 'aabbbbccccdddeeffffghhhhiiijjkllmmnnnnooop[29 chars]zzzz' != 'aqhi,csjglysbw,esju,ffxup,flwccvrtsz,fwibp[40 chars]axyi'\n",
      "- aabbbbccccdddeeffffghhhhiiijjkllmmnnnnooopppqqqrrrrsssstuuuvvvwwwxxxyyyzzzz\n",
      "+ aqhi,csjglysbw,esju,ffxup,flwccvrtsz,fwibpn,hqddzpne,nzbmcrrk,oxmzhd,ronb,uhqoyv,vaxyi\n",
      " : Should be aqhi,csjglysbw,esju,ffxup,flwccvrtsz,fwibpn,hqddzpne,nzbmcrrk,oxmzhd,ronb,uhqoyv,vaxyi\n",
      "\n",
      "======================================================================\n",
      "FAIL: runTest (mod.testing.test_alpha.<locals>.TestKnown)\n",
      "----------------------------------------------------------------------\n",
      "Traceback (most recent call last):\n",
      "  File \"C:\\Users\\maria\\Desktop\\lab-functions\\mod\\testing.py\", line 187, in runTest\n",
      "    self.assertEqual(fn(self.input), self.output, f\"Should be {self.output}\")\n",
      "AssertionError: 'aaaaabbbbbbcccccccccccddddddeeeeeefffffff[118 chars]zzzz' != 'cfuh,cqqu,cyrhs,dafr,dervsbnhqj,evwbyyxpn[142 chars]uagd'\n",
      "- aaaaabbbbbbcccccccccccddddddeeeeeefffffffffgggggggghhhhhhiiiijjjjjjjjjkkkklllllllmnnnnnnnnnnoppqqqqqqqqqrrrrrrrsssssstttuuuuuvvvvvvvvwwwwwwwxxxxxxyyyyyyyyyyyyzzzzz\n",
      "+ cfuh,cqqu,cyrhs,dafr,dervsbnhqj,evwbyyxpn,fjwjie,ghnzesyfbq,gkcc,gydbtunczn,jevfwvdvz,jgtx,kbnrnyr,klhq,kvlylxqpx,lqcjb,lyegzyr,nnggaji,qywvtc,rciamlils,sdfwy,vcacjxsjzn,woqf,wyfh,xufuagd\n",
      " : Should be cfuh,cqqu,cyrhs,dafr,dervsbnhqj,evwbyyxpn,fjwjie,ghnzesyfbq,gkcc,gydbtunczn,jevfwvdvz,jgtx,kbnrnyr,klhq,kvlylxqpx,lqcjb,lyegzyr,nnggaji,qywvtc,rciamlils,sdfwy,vcacjxsjzn,woqf,wyfh,xufuagd\n",
      "\n",
      "======================================================================\n",
      "FAIL: runTest (mod.testing.test_alpha.<locals>.TestKnown)\n",
      "----------------------------------------------------------------------\n",
      "Traceback (most recent call last):\n",
      "  File \"C:\\Users\\maria\\Desktop\\lab-functions\\mod\\testing.py\", line 187, in runTest\n",
      "    self.assertEqual(fn(self.input), self.output, f\"Should be {self.output}\")\n",
      "AssertionError: 'aaaaaaaaabbbbbccccccccddddddddeeeefffgggh[93 chars]yyzz' != 'bmnjy,ddtoadut,dsjpncqfs,eaeuabd,full,hst[113 chars]kcuq'\n",
      "- aaaaaaaaabbbbbccccccccddddddddeeeefffggghhhiiiiiiijjjjjkkkllllllllllmmmmmmmmnnnnnnooooppppqqqqrrrrrssssssttttttuuuuuvvvvvvwwwwxxxyyyyyyyzz\n",
      "+ bmnjy,ddtoadut,dsjpncqfs,eaeuabd,full,hstigjic,jhycp,kozrb,lgntydfh,lrdmi,mcmlar,mmusyotrct,noemm,qcaqx,raiibby,svall,vjnswnzvy,vlgwex,vwkivy,wpaiplcl,xdakcuq\n",
      " : Should be bmnjy,ddtoadut,dsjpncqfs,eaeuabd,full,hstigjic,jhycp,kozrb,lgntydfh,lrdmi,mcmlar,mmusyotrct,noemm,qcaqx,raiibby,svall,vjnswnzvy,vlgwex,vwkivy,wpaiplcl,xdakcuq\n",
      "\n",
      "======================================================================\n",
      "FAIL: runTest (mod.testing.test_alpha.<locals>.TestKnown)\n",
      "----------------------------------------------------------------------\n",
      "Traceback (most recent call last):\n",
      "  File \"C:\\Users\\maria\\Desktop\\lab-functions\\mod\\testing.py\", line 187, in runTest\n",
      "    self.assertEqual(fn(self.input), self.output, f\"Should be {self.output}\")\n",
      "AssertionError: 'aaaaaaaabbbbbcccccccccddddddeeeeeeeeeeefgg[102 chars]zzzz' != 'ahwea,bidphqob,ciic,ezsveqvs,fkdliidexp,ii[123 chars]stte'\n",
      "- aaaaaaaabbbbbcccccccccddddddeeeeeeeeeeefgggghhhhhiiiiiiiiiijjjjjkkkklllllmmmnnnnoooooppppppqqqqqqqrrrrrrrsssssstttttttuuuuuuuvvvvvwwwwwxxyyyyyyzzzzz\n",
      "+ ahwea,bidphqob,ciic,ezsveqvs,fkdliidexp,iivtw,ikqshm,ldbcowrnue,ldhoaipe,nqbbkzeq,nragm,pokuecoehg,rrqu,slzrtarwy,tyyyr,utpegac,uvuslcg,wjjzqdv,xucp,yaac,ytjjcmjin,zstte\n",
      " : Should be ahwea,bidphqob,ciic,ezsveqvs,fkdliidexp,iivtw,ikqshm,ldbcowrnue,ldhoaipe,nqbbkzeq,nragm,pokuecoehg,rrqu,slzrtarwy,tyyyr,utpegac,uvuslcg,wjjzqdv,xucp,yaac,ytjjcmjin,zstte\n",
      "\n",
      "======================================================================\n",
      "FAIL: runTest (mod.testing.test_alpha.<locals>.TestKnown)\n",
      "----------------------------------------------------------------------\n",
      "Traceback (most recent call last):\n",
      "  File \"C:\\Users\\maria\\Desktop\\lab-functions\\mod\\testing.py\", line 187, in runTest\n",
      "    self.assertEqual(fn(self.input), self.output, f\"Should be {self.output}\")\n",
      "AssertionError: 'aaaaaabbbbbcccccdddddeeeeeffffggggghhhhhhh[74 chars]yzzz' != 'auyuonpqb,bedkrrhjcz,bhma,ghhdfayoip,gtghx[89 chars]ciej'\n",
      "- aaaaaabbbbbcccccdddddeeeeeffffggggghhhhhhhhhhiiiijjjjkkkllllmmmmmmmnnnoooppppppppqqqqqqqqrrrrrrrssttuuuuuvvwwwxxyyyyyzzz\n",
      "+ auyuonpqb,bedkrrhjcz,bhma,ghhdfayoip,gtghxzgr,hjefolcgih,hsabtr,lspnkqdip,mffr,mmqzcpu,qqylhqp,qypehmupc,rdamlw,rdukeaj,wymvwbv,xnqciej\n",
      " : Should be auyuonpqb,bedkrrhjcz,bhma,ghhdfayoip,gtghxzgr,hjefolcgih,hsabtr,lspnkqdip,mffr,mmqzcpu,qqylhqp,qypehmupc,rdamlw,rdukeaj,wymvwbv,xnqciej\n",
      "\n",
      "======================================================================\n",
      "FAIL: runTest (mod.testing.test_alpha.<locals>.TestKnown)\n",
      "----------------------------------------------------------------------\n",
      "Traceback (most recent call last):\n",
      "  File \"C:\\Users\\maria\\Desktop\\lab-functions\\mod\\testing.py\", line 187, in runTest\n",
      "    self.assertEqual(fn(self.input), self.output, f\"Should be {self.output}\")\n",
      "AssertionError: 'aaaaabbbbccccceeeeeeefffffffggghhhhiiiiiii[85 chars]zzzz' != 'acbwweesop,csqyjeby,enplfhcxa,fifsirq,fkry[103 chars]vwwo'\n",
      "- aaaaabbbbccccceeeeeeefffffffggghhhhiiiiiiiiijjkkkkkllmmmmmnnnnnnnnoooopppppqqqqqrrrrrrrrrrsssssssttttuuuvvvvvvvwwwwwwwxxxyyyyyyzzzz\n",
      "+ acbwweesop,csqyjeby,enplfhcxa,fifsirq,fkry,frtfpgo,gsmrw,ibyxrrv,iehk,iexmkvkq,jcmci,lquaniirt,msrtan,nvqpvhzukp,rntu,smgnniweb,vhawnvrs,yzyz,zfovwwo\n",
      " : Should be acbwweesop,csqyjeby,enplfhcxa,fifsirq,fkry,frtfpgo,gsmrw,ibyxrrv,iehk,iexmkvkq,jcmci,lquaniirt,msrtan,nvqpvhzukp,rntu,smgnniweb,vhawnvrs,yzyz,zfovwwo\n",
      "\n",
      "======================================================================\n",
      "FAIL: runTest (mod.testing.test_alpha.<locals>.TestKnown)\n",
      "----------------------------------------------------------------------\n",
      "Traceback (most recent call last):\n",
      "  File \"C:\\Users\\maria\\Desktop\\lab-functions\\mod\\testing.py\", line 187, in runTest\n",
      "    self.assertEqual(fn(self.input), self.output, f\"Should be {self.output}\")\n",
      "AssertionError: 'aaaaaaabbbbbbbbbbbccdddddddddddeeeffffffff[119 chars]zzzz' != 'aioqsfk,bbvuiangg,blrcdulpsd,bpnznuz,cike,[143 chars]yoys'\n",
      "- aaaaaaabbbbbbbbbbbccdddddddddddeeefffffffffggggggghhhhiiiiijjkkkkklllllllmmmmmmnnnnnnooooooooopppqqqqqqqqrrrrssssssstttuuuuuuuuuuuvvvvvvvwwwwwwwwwxxxxxyyyyyyyyyyzzzz\n",
      "+ aioqsfk,bbvuiangg,blrcdulpsd,bpnznuz,cike,dmjofwfafy,dqtb,efdguxyxs,graoqw,gvagdbimu,hkuux,mglddnwibb,mvax,oljubef,oqrusowvdh,qyvwabpmf,ssnqf,vyvnt,wlkqy,wuoky,xhtw,ylbd,yuof,zwldqrmh,zyoys\n",
      " : Should be aioqsfk,bbvuiangg,blrcdulpsd,bpnznuz,cike,dmjofwfafy,dqtb,efdguxyxs,graoqw,gvagdbimu,hkuux,mglddnwibb,mvax,oljubef,oqrusowvdh,qyvwabpmf,ssnqf,vyvnt,wlkqy,wuoky,xhtw,ylbd,yuof,zwldqrmh,zyoys\n",
      "\n",
      "======================================================================\n",
      "FAIL: runTest (mod.testing.test_alpha.<locals>.TestKnown)\n",
      "----------------------------------------------------------------------\n",
      "Traceback (most recent call last):\n",
      "  File \"C:\\Users\\maria\\Desktop\\lab-functions\\mod\\testing.py\", line 187, in runTest\n",
      "    self.assertEqual(fn(self.input), self.output, f\"Should be {self.output}\")\n",
      "AssertionError: 'bcdddehijkllmmoorttuwwxyzz' != 'dxtmt,jzmdz,leciuhb,rlodw,yokw'\n",
      "- bcdddehijkllmmoorttuwwxyzz\n",
      "+ dxtmt,jzmdz,leciuhb,rlodw,yokw\n",
      " : Should be dxtmt,jzmdz,leciuhb,rlodw,yokw\n",
      "\n",
      "======================================================================\n",
      "FAIL: runTest (mod.testing.test_alpha.<locals>.TestKnown)\n",
      "----------------------------------------------------------------------\n",
      "Traceback (most recent call last):\n",
      "  File \"C:\\Users\\maria\\Desktop\\lab-functions\\mod\\testing.py\", line 187, in runTest\n",
      "    self.assertEqual(fn(self.input), self.output, f\"Should be {self.output}\")\n",
      "AssertionError: 'aaaaaaaaabbbbccccccccddddddeeefffffffffff[126 chars]zzzz' != 'ctsudanf,cuotqamcnk,daxfqnb,dqllgvzrfe,dr[149 chars]nlju'\n",
      "- aaaaaaaaabbbbccccccccddddddeeefffffffffffffggggggghhhhiijjjjjjjjjkkkkkkkklllllllmmmmmnnnnnnnnnnnooopppppqqqqqqqqqqrrrrrrrrrrrrssssssttttuuuuuuuuuuvvvvvvwwwxxxyyyyzzzzzzzzz\n",
      "+ ctsudanf,cuotqamcnk,daxfqnb,dqllgvzrfe,drzu,fydm,fzfpku,gsllrjuhj,hnsf,hrfdvurgpc,kbzwqkaq,krzjczs,ksqq,mebyjngp,mxnezt,rjjruqivf,rjlskhni,rnpg,tynbkf,ufoclurfm,vawrj,vnzvggqoay,wfqcacz,xaapnlju\n",
      " : Should be ctsudanf,cuotqamcnk,daxfqnb,dqllgvzrfe,drzu,fydm,fzfpku,gsllrjuhj,hnsf,hrfdvurgpc,kbzwqkaq,krzjczs,ksqq,mebyjngp,mxnezt,rjjruqivf,rjlskhni,rnpg,tynbkf,ufoclurfm,vawrj,vnzvggqoay,wfqcacz,xaapnlju\n",
      "\n",
      "======================================================================\n",
      "FAIL: runTest (mod.testing.test_alpha.<locals>.TestKnown)\n",
      "----------------------------------------------------------------------\n",
      "Traceback (most recent call last):\n",
      "  File \"C:\\Users\\maria\\Desktop\\lab-functions\\mod\\testing.py\", line 187, in runTest\n",
      "    self.assertEqual(fn(self.input), self.output, f\"Should be {self.output}\")\n",
      "AssertionError: 'aabbcdddffffggghhhiijjjklmmmmnnnnoooooqqrrrsssstuuvwwwwxxxxyyy' != 'bdswkrh,dooxhaldn,jyfti,onhmgwqgum,oxoy,rvxrgsifm,sqaw,wnbxfuj,yscnjmf'\n",
      "- aabbcdddffffggghhhiijjjklmmmmnnnnoooooqqrrrsssstuuvwwwwxxxxyyy\n",
      "+ bdswkrh,dooxhaldn,jyfti,onhmgwqgum,oxoy,rvxrgsifm,sqaw,wnbxfuj,yscnjmf\n",
      " : Should be bdswkrh,dooxhaldn,jyfti,onhmgwqgum,oxoy,rvxrgsifm,sqaw,wnbxfuj,yscnjmf\n",
      "\n",
      "======================================================================\n",
      "FAIL: runTest (mod.testing.test_alpha.<locals>.TestKnown)\n",
      "----------------------------------------------------------------------\n",
      "Traceback (most recent call last):\n",
      "  File \"C:\\Users\\maria\\Desktop\\lab-functions\\mod\\testing.py\", line 187, in runTest\n",
      "    self.assertEqual(fn(self.input), self.output, f\"Should be {self.output}\")\n",
      "AssertionError: 'aaabbccccdddefghhijklmmnnppqqqqrrssssstuuvvvxyyyyyzz' != 'arpqdm,chlu,cyszs,dvmgqhqjp,edciyyv,kzva,nfcx,qbsyay,utsrnbs'\n",
      "- aaabbccccdddefghhijklmmnnppqqqqrrssssstuuvvvxyyyyyzz\n",
      "+ arpqdm,chlu,cyszs,dvmgqhqjp,edciyyv,kzva,nfcx,qbsyay,utsrnbs\n",
      " : Should be arpqdm,chlu,cyszs,dvmgqhqjp,edciyyv,kzva,nfcx,qbsyay,utsrnbs\n",
      "\n",
      "======================================================================\n",
      "FAIL: runTest (mod.testing.test_alpha.<locals>.TestKnown)\n",
      "----------------------------------------------------------------------\n",
      "Traceback (most recent call last):\n",
      "  File \"C:\\Users\\maria\\Desktop\\lab-functions\\mod\\testing.py\", line 187, in runTest\n",
      "    self.assertEqual(fn(self.input), self.output, f\"Should be {self.output}\")\n",
      "AssertionError: 'aacccdddeeeffgghhhhiiiijkkllmmmmnnooopqrrtttttuuuvvwwwwwxxxxyyyyyyzz' != 'aiwxi,fwqlwxm,huih,kctitgctz,mayudrujoo,tyengdxtvl,wnmpo,wxczme,ydvf,yhherkyy'\n",
      "- aacccdddeeeffgghhhhiiiijkkllmmmmnnooopqrrtttttuuuvvwwwwwxxxxyyyyyyzz\n",
      "+ aiwxi,fwqlwxm,huih,kctitgctz,mayudrujoo,tyengdxtvl,wnmpo,wxczme,ydvf,yhherkyy\n",
      " : Should be aiwxi,fwqlwxm,huih,kctitgctz,mayudrujoo,tyengdxtvl,wnmpo,wxczme,ydvf,yhherkyy\n",
      "\n",
      "======================================================================\n",
      "FAIL: runTest (mod.testing.test_alpha.<locals>.TestKnown)\n",
      "----------------------------------------------------------------------\n",
      "Traceback (most recent call last):\n",
      "  File \"C:\\Users\\maria\\Desktop\\lab-functions\\mod\\testing.py\", line 187, in runTest\n",
      "    self.assertEqual(fn(self.input), self.output, f\"Should be {self.output}\")\n",
      "AssertionError: 'aaaaaaaabbbccccdddddeeeefffffffgggghiiiii[83 chars]zzzz' != 'cxnw,efsw,gbdzp,gtyljpjk,iaxxqaj,jgapp,jn[105 chars]tiqh'\n",
      "- aaaaaaaabbbccccdddddeeeefffffffgggghiiiiijjjjjjjjkkkkkkkllmmnnnnnnnooopppppppppqqqqrrrrsssssttttttuuvvvvwwwwwwwwwxxxxxxxyyyzzzzz\n",
      "+ cxnw,efsw,gbdzp,gtyljpjk,iaxxqaj,jgapp,jnfsedxj,jpwek,kfkqa,klwv,ndrv,pwmdfes,qyzv,rditm,rgfty,rofb,toicnoua,ufak,wabpsi,wzskanv,xcpp,xnzcjwt,zwnxtiqh\n",
      " : Should be cxnw,efsw,gbdzp,gtyljpjk,iaxxqaj,jgapp,jnfsedxj,jpwek,kfkqa,klwv,ndrv,pwmdfes,qyzv,rditm,rgfty,rofb,toicnoua,ufak,wabpsi,wzskanv,xcpp,xnzcjwt,zwnxtiqh\n",
      "\n",
      "======================================================================\n",
      "FAIL: runTest (mod.testing.test_alpha.<locals>.TestKnown)\n",
      "----------------------------------------------------------------------\n",
      "Traceback (most recent call last):\n",
      "  File \"C:\\Users\\maria\\Desktop\\lab-functions\\mod\\testing.py\", line 187, in runTest\n",
      "    self.assertEqual(fn(self.input), self.output, f\"Should be {self.output}\")\n",
      "AssertionError: 'bbbbbbbbccddeeeeffggggghiiijjjkkllllmnnnnn[36 chars]zzzz' != 'berl,dxrbcndn,fqzk,gmzpltnqn,jfzib,klrjhbg[48 chars]zpgw'\n",
      "- bbbbbbbbccddeeeeffggggghiiijjjkkllllmnnnnnoooppppqqqqrrrrssttuuuuvvvvvwwwwwxxxzzzz\n",
      "+ berl,dxrbcndn,fqzk,gmzpltnqn,jfzib,klrjhbge,picv,quwruv,stbljvu,wnoebgobe,wvboixgux,wvsqp,zpgw\n",
      " : Should be berl,dxrbcndn,fqzk,gmzpltnqn,jfzib,klrjhbge,picv,quwruv,stbljvu,wnoebgobe,wvboixgux,wvsqp,zpgw\n",
      "\n",
      "======================================================================\n",
      "FAIL: runTest (mod.testing.test_alpha.<locals>.TestKnown)\n",
      "----------------------------------------------------------------------\n",
      "Traceback (most recent call last):\n",
      "  File \"C:\\Users\\maria\\Desktop\\lab-functions\\mod\\testing.py\", line 187, in runTest\n",
      "    self.assertEqual(fn(self.input), self.output, f\"Should be {self.output}\")\n",
      "AssertionError: 'abbbdddeeeeghijjjjlmnnnnnnoppqqqqqssstuuvwwwwxxxyyy' != 'jbsojwwdyg,jysn,nsmew,nuqjlqdi,peqhwxxyb,utenxaq,veqnnbpd'\n",
      "- abbbdddeeeeghijjjjlmnnnnnnoppqqqqqssstuuvwwwwxxxyyy\n",
      "+ jbsojwwdyg,jysn,nsmew,nuqjlqdi,peqhwxxyb,utenxaq,veqnnbpd\n",
      " : Should be jbsojwwdyg,jysn,nsmew,nuqjlqdi,peqhwxxyb,utenxaq,veqnnbpd\n",
      "\n",
      "======================================================================\n",
      "FAIL: runTest (mod.testing.test_alpha.<locals>.TestKnown)\n",
      "----------------------------------------------------------------------\n",
      "Traceback (most recent call last):\n",
      "  File \"C:\\Users\\maria\\Desktop\\lab-functions\\mod\\testing.py\", line 187, in runTest\n",
      "    self.assertEqual(fn(self.input), self.output, f\"Should be {self.output}\")\n",
      "AssertionError: 'aaaaabbbccceeeeefgggghhhhhiijjjjlllmmmnnn[40 chars]zzzz' != 'bczozhjwj,cbhghown,enxx,hoitzr,jarnmopuc,[51 chars]nyem'\n",
      "- aaaaabbbccceeeeefgggghhhhhiijjjjlllmmmnnnnnnoooooooooopqqqrrrsstttuwwwwwwxxxxyyyzzzzz\n",
      "+ bczozhjwj,cbhghown,enxx,hoitzr,jarnmopuc,mwoxt,njaflez,oqrnezg,oyxaabl,sigowqlya,wgheqstoo,wnyem\n",
      " : Should be bczozhjwj,cbhghown,enxx,hoitzr,jarnmopuc,mwoxt,njaflez,oqrnezg,oyxaabl,sigowqlya,wgheqstoo,wnyem\n",
      "\n",
      "======================================================================\n",
      "FAIL: runTest (mod.testing.test_alpha.<locals>.TestKnown)\n",
      "----------------------------------------------------------------------\n",
      "Traceback (most recent call last):\n",
      "  File \"C:\\Users\\maria\\Desktop\\lab-functions\\mod\\testing.py\", line 187, in runTest\n",
      "    self.assertEqual(fn(self.input), self.output, f\"Should be {self.output}\")\n",
      "AssertionError: 'aabbbbbbcddeeeeeeeffgggggghhhhiiiiijjkkkk[37 chars]zzzz' != 'boeie,evrwtw,gmtxuzeik,gqec,idkukn,lkgbbj[48 chars]gzde'\n",
      "- aabbbbbbcddeeeeeeeffgggggghhhhiiiiijjkkkkkllmnnnnnoopqqqqqrsttttuuuvvwwwwxxyyyzzzz\n",
      "+ boeie,evrwtw,gmtxuzeik,gqec,idkukn,lkgbbjeghu,pzawliqnfy,qwkztbqv,shhbogabf,xhnqn,yitj,yngzde\n",
      " : Should be boeie,evrwtw,gmtxuzeik,gqec,idkukn,lkgbbjeghu,pzawliqnfy,qwkztbqv,shhbogabf,xhnqn,yitj,yngzde\n",
      "\n",
      "======================================================================\n",
      "FAIL: runTest (mod.testing.test_alpha.<locals>.TestKnown)\n",
      "----------------------------------------------------------------------\n",
      "Traceback (most recent call last):\n",
      "  File \"C:\\Users\\maria\\Desktop\\lab-functions\\mod\\testing.py\", line 187, in runTest\n",
      "    self.assertEqual(fn(self.input), self.output, f\"Should be {self.output}\")\n",
      "AssertionError: 'aaabbbbcccccdeeeeeffffffgghhhhhiiiijjkkkkk[58 chars]xyzz' != 'amgmf,bsbrhxoxu,echiutv,eoffq,howhlf,irvku[73 chars]qome'\n",
      "- aaabbbbcccccdeeeeeffffffgghhhhhiiiijjkkkkkllmmmmmnnnnnooooooppqqqqqrrrrrssssttttttuuuuvvvvvwwwwxxxxxxyzz\n",
      "+ amgmf,bsbrhxoxu,echiutv,eoffq,howhlf,irvkuc,jvglqn,ktchvad,oaecbnc,oemn,sxrqtpq,szwk,trrxixk,ubfzwy,vpwsftjmi,xnntkqome\n",
      " : Should be amgmf,bsbrhxoxu,echiutv,eoffq,howhlf,irvkuc,jvglqn,ktchvad,oaecbnc,oemn,sxrqtpq,szwk,trrxixk,ubfzwy,vpwsftjmi,xnntkqome\n",
      "\n",
      "======================================================================\n",
      "FAIL: runTest (mod.testing.test_alpha.<locals>.TestKnown)\n",
      "----------------------------------------------------------------------\n",
      "Traceback (most recent call last):\n",
      "  File \"C:\\Users\\maria\\Desktop\\lab-functions\\mod\\testing.py\", line 187, in runTest\n",
      "    self.assertEqual(fn(self.input), self.output, f\"Should be {self.output}\")\n",
      "AssertionError: 'aaaaabbbbbbbccccdeeeeeeeffffffffgggggggggh[77 chars]zzzz' != 'aqxm,bnzrpvns,crrpfsefcb,fojcd,gjtfvwk,ikl[93 chars]katb'\n",
      "- aaaaabbbbbbbccccdeeeeeeeffffffffggggggggghhhiiijjjjkkkkkkllmmmnnooopppqqqrrrrrrrrsssttttttuuuuuuuvvvvvvvwwwwwxxxxxxyzzzzzzz\n",
      "+ aqxm,bnzrpvns,crrpfsefcb,fojcd,gjtfvwk,iklborv,kuvhbgeg,mgqusux,pgqiuf,rxhzi,tatgzezrut,uhwjkfegef,vfkvwbggm,xalrwceztv,xazo,xbyruej,zwkatb\n",
      " : Should be aqxm,bnzrpvns,crrpfsefcb,fojcd,gjtfvwk,iklborv,kuvhbgeg,mgqusux,pgqiuf,rxhzi,tatgzezrut,uhwjkfegef,vfkvwbggm,xalrwceztv,xazo,xbyruej,zwkatb\n",
      "\n",
      "======================================================================\n",
      "FAIL: runTest (mod.testing.test_alpha.<locals>.TestKnown)\n",
      "----------------------------------------------------------------------\n",
      "Traceback (most recent call last):\n",
      "  File \"C:\\Users\\maria\\Desktop\\lab-functions\\mod\\testing.py\", line 187, in runTest\n",
      "    self.assertEqual(fn(self.input), self.output, f\"Should be {self.output}\")\n",
      "AssertionError: 'aaaaaabbbbbcccccccccddddeeeeffggggghhhhiij[62 chars]zzzz' != 'ajauhenhbs,akfsopz,bpobjceq,bvtecwtcyg,ccp[75 chars]eoki'\n",
      "- aaaaaabbbbbcccccccccddddeeeeffggggghhhhiijjkkkkkkklllllmmnnnnoooooooppppqqqqrsssssttttttuuvvvvwwwwxxyyzzzzzz\n",
      "+ ajauhenhbs,akfsopz,bpobjceq,bvtecwtcyg,ccpdg,dkghcoz,kgcfs,lsnwxmnxlq,ncqocwysug,owlibhd,pzaz,qtdarkt,vzltokmlk,vztvaeoki\n",
      " : Should be ajauhenhbs,akfsopz,bpobjceq,bvtecwtcyg,ccpdg,dkghcoz,kgcfs,lsnwxmnxlq,ncqocwysug,owlibhd,pzaz,qtdarkt,vzltokmlk,vztvaeoki\n",
      "\n",
      "======================================================================\n",
      "FAIL: runTest (mod.testing.test_alpha.<locals>.TestKnown)\n",
      "----------------------------------------------------------------------\n",
      "Traceback (most recent call last):\n",
      "  File \"C:\\Users\\maria\\Desktop\\lab-functions\\mod\\testing.py\", line 187, in runTest\n",
      "    self.assertEqual(fn(self.input), self.output, f\"Should be {self.output}\")\n",
      "AssertionError: 'aaabcddddddefffggghhhiijkklmmmmnnoooooppppqqqrrrstttttvvwwxxxxyyzzzzz' != 'fjgwxzaw,izyq,kzoqrmhc,osngdt,pqbdxhxy,tpaioedz,vadmdtrgtm,volfrpodp,zfmtknhx'\n",
      "- aaabcddddddefffggghhhiijkklmmmmnnoooooppppqqqrrrstttttvvwwxxxxyyzzzzz\n",
      "+ fjgwxzaw,izyq,kzoqrmhc,osngdt,pqbdxhxy,tpaioedz,vadmdtrgtm,volfrpodp,zfmtknhx\n",
      " : Should be fjgwxzaw,izyq,kzoqrmhc,osngdt,pqbdxhxy,tpaioedz,vadmdtrgtm,volfrpodp,zfmtknhx\n",
      "\n",
      "======================================================================\n",
      "FAIL: runTest (mod.testing.test_alpha.<locals>.TestKnown)\n",
      "----------------------------------------------------------------------\n",
      "Traceback (most recent call last):\n",
      "  File \"C:\\Users\\maria\\Desktop\\lab-functions\\mod\\testing.py\", line 187, in runTest\n",
      "    self.assertEqual(fn(self.input), self.output, f\"Should be {self.output}\")\n",
      "AssertionError: 'aaaaabbbbbbbccccccccddeeeeeefffggggghhhhhi[83 chars]zzzz' != 'atwrz,cazcqc,ebzim,fbzhxa,ghem,gqfkenmu,gt[101 chars]rvyk'\n",
      "- aaaaabbbbbbbccccccccddeeeeeefffggggghhhhhiiijjjjjjjkkklllmmmmmmmmnnnnooppppqqqqqrrrrrssssssttttuuuuuuvvvwwwwwwwwxxxxxxyyyzzzzzzzz\n",
      "+ atwrz,cazcqc,ebzim,fbzhxa,ghem,gqfkenmu,gtzsvvm,ikhwpusx,jundhj,neou,nsxjcejjp,sbrxcmhl,smawb,utcreyfzm,wcictau,xdpwqqmwl,xjswbjb,ywlqgogpr,zzbrvyk\n",
      " : Should be atwrz,cazcqc,ebzim,fbzhxa,ghem,gqfkenmu,gtzsvvm,ikhwpusx,jundhj,neou,nsxjcejjp,sbrxcmhl,smawb,utcreyfzm,wcictau,xdpwqqmwl,xjswbjb,ywlqgogpr,zzbrvyk\n",
      "\n",
      "======================================================================\n",
      "FAIL: runTest (mod.testing.test_alpha.<locals>.TestKnown)\n",
      "----------------------------------------------------------------------\n",
      "Traceback (most recent call last):\n",
      "  File \"C:\\Users\\maria\\Desktop\\lab-functions\\mod\\testing.py\", line 187, in runTest\n",
      "    self.assertEqual(fn(self.input), self.output, f\"Should be {self.output}\")\n",
      "AssertionError: 'abbbbcccdddeeeefgghhhhjjjkkkllllmmmooooppppqrrrrtttuvvwwwwwxxxxyz' != 'bhbwqppbg,fgvctzde,hhoxkdr,hrwex,laxj,lkmp,olleptmc,oovr,tjrywjewm,xdbcukw'\n",
      "- abbbbcccdddeeeefgghhhhjjjkkkllllmmmooooppppqrrrrtttuvvwwwwwxxxxyz\n",
      "+ bhbwqppbg,fgvctzde,hhoxkdr,hrwex,laxj,lkmp,olleptmc,oovr,tjrywjewm,xdbcukw\n",
      " : Should be bhbwqppbg,fgvctzde,hhoxkdr,hrwex,laxj,lkmp,olleptmc,oovr,tjrywjewm,xdbcukw\n",
      "\n",
      "======================================================================\n",
      "FAIL: runTest (mod.testing.test_alpha.<locals>.TestKnown)\n",
      "----------------------------------------------------------------------\n",
      "Traceback (most recent call last):\n",
      "  File \"C:\\Users\\maria\\Desktop\\lab-functions\\mod\\testing.py\", line 187, in runTest\n",
      "    self.assertEqual(fn(self.input), self.output, f\"Should be {self.output}\")\n",
      "AssertionError: 'aaaaaabbbbbbbbccccccddddeeeffffffffgggghh[86 chars]zzzz' != 'cgmkwfx,enbvxdcdz,fynt,gifyfwx,hfppmbp,hq[106 chars]zinq'\n",
      "- aaaaaabbbbbbbbccccccddddeeeffffffffgggghhhhhhiiiiiiiiijjjjkkkkllllmmmmnnnnooopppppqqqqqrrrsssstttttuuvvvvwwwwwwxxxxxxxyyyyyzzzzzzzz\n",
      "+ cgmkwfx,enbvxdcdz,fynt,gifyfwx,hfppmbp,hqbzej,hzkt,ibya,isitcazf,laaom,nwhblyaqgb,qcfjb,qiaiktzv,ujixhvl,wvjm,wxhoc,xbddp,xzcts,yfsrelwp,zgsurkroi,zinq\n",
      " : Should be cgmkwfx,enbvxdcdz,fynt,gifyfwx,hfppmbp,hqbzej,hzkt,ibya,isitcazf,laaom,nwhblyaqgb,qcfjb,qiaiktzv,ujixhvl,wvjm,wxhoc,xbddp,xzcts,yfsrelwp,zgsurkroi,zinq\n",
      "\n",
      "======================================================================\n",
      "FAIL: runTest (mod.testing.test_alpha.<locals>.TestKnown)\n",
      "----------------------------------------------------------------------\n",
      "Traceback (most recent call last):\n",
      "  File \"C:\\Users\\maria\\Desktop\\lab-functions\\mod\\testing.py\", line 187, in runTest\n",
      "    self.assertEqual(fn(self.input), self.output, f\"Should be {self.output}\")\n",
      "AssertionError: 'abbcdddeeeffffggggggghhhhiiijjjjjjkklmnnn[27 chars]yzzz' != 'nhlsdubkjp,ojcgggv,pnpah,qdnii,rjhzkjwqy,[36 chars]zoje'\n",
      "- abbcdddeeeffffggggggghhhhiiijjjjjjkklmnnnnoopppqqrrrrsstuuuvvwxxxxyyyzzz\n",
      "+ nhlsdubkjp,ojcgggv,pnpah,qdnii,rjhzkjwqy,tuegf,xfsrxufx,xzgmdgfyb,yvnrijehrg,zoje\n",
      " : Should be nhlsdubkjp,ojcgggv,pnpah,qdnii,rjhzkjwqy,tuegf,xfsrxufx,xzgmdgfyb,yvnrijehrg,zoje\n",
      "\n",
      "======================================================================\n",
      "FAIL: runTest (mod.testing.test_alpha.<locals>.TestKnown)\n",
      "----------------------------------------------------------------------\n",
      "Traceback (most recent call last):\n",
      "  File \"C:\\Users\\maria\\Desktop\\lab-functions\\mod\\testing.py\", line 187, in runTest\n",
      "    self.assertEqual(fn(self.input), self.output, f\"Should be {self.output}\")\n",
      "AssertionError: 'aaabbbbbdddeeefffggggghjjkkklllmmmmmmnnnn[27 chars]xyzz' != 'dljnaxnn,fdnsrm,kemtob,mkfpxkon,mqvu,tmao[37 chars]bedb'\n",
      "- aaabbbbbdddeeefffggggghjjkkklllmmmmmmnnnnnnnnooopqqrrrsstttuvvvvvwwxxyzz\n",
      "+ dljnaxnn,fdnsrm,kemtob,mkfpxkon,mqvu,tmaolnbv,vgggtblg,vqnfr,wzhwv,ymsgneaj,zrbedb\n",
      " : Should be dljnaxnn,fdnsrm,kemtob,mkfpxkon,mqvu,tmaolnbv,vgggtblg,vqnfr,wzhwv,ymsgneaj,zrbedb\n",
      "\n",
      "======================================================================\n",
      "FAIL: runTest (mod.testing.test_alpha.<locals>.TestKnown)\n",
      "----------------------------------------------------------------------\n",
      "Traceback (most recent call last):\n",
      "  File \"C:\\Users\\maria\\Desktop\\lab-functions\\mod\\testing.py\", line 187, in runTest\n",
      "    self.assertEqual(fn(self.input), self.output, f\"Should be {self.output}\")\n",
      "AssertionError: 'aaaaaaaabbbbccccccddddeeeffffgggghhhhhhhii[86 chars]zzzz' != 'avsnnax,azhdth,elpqmz,emlrvwuv,etwpy,fhzk,[104 chars]azju'\n",
      "- aaaaaaaabbbbccccccddddeeeffffgggghhhhhhhiiiiiiijjjjkkkkkkllllmmmmmnnnnnnooopppppqqqqqrrrrrrssssttttuuuuvvvvwwwwwwwwwxxxxxyyyyzzzzzzz\n",
      "+ avsnnax,azhdth,elpqmz,emlrvwuv,etwpy,fhzk,fixac,imncpwnhwy,iuqmpz,jrrqwga,kfdai,lsbvoig,obaqbicuzc,rcjb,rhkkgwhkh,triwwmtkd,xcdjg,xnswfzyys,xqolnpazju\n",
      " : Should be avsnnax,azhdth,elpqmz,emlrvwuv,etwpy,fhzk,fixac,imncpwnhwy,iuqmpz,jrrqwga,kfdai,lsbvoig,obaqbicuzc,rcjb,rhkkgwhkh,triwwmtkd,xcdjg,xnswfzyys,xqolnpazju\n",
      "\n",
      "======================================================================\n",
      "FAIL: runTest (mod.testing.test_alpha.<locals>.TestKnown)\n",
      "----------------------------------------------------------------------\n",
      "Traceback (most recent call last):\n",
      "  File \"C:\\Users\\maria\\Desktop\\lab-functions\\mod\\testing.py\", line 187, in runTest\n",
      "    self.assertEqual(fn(self.input), self.output, f\"Should be {self.output}\")\n",
      "AssertionError: 'aaaaaaabccccddeeeeffffgggghhhhhiiijjjjjjjj[67 chars]zzzz' != 'avxkezhrlp,cwho,gjha,hfxwemwyd,jblwngl,jrv[84 chars]zpfd'\n",
      "- aaaaaaabccccddeeeeffffgggghhhhhiiijjjjjjjjkkkkllllllmmmnnooooopppppppqqqrrrrrssttuuuuuvvvvvwwwwwwwwxxxxxxxyyyzzzz\n",
      "+ avxkezhrlp,cwho,gjha,hfxwemwyd,jblwngl,jrvsiafoep,lxswtigw,oooeukatzu,qvhcvaaku,rxcl,vjuk,xflp,xjpaw,xmrpn,ygimqp,yrjuj,zcqwj,zpfd\n",
      " : Should be avxkezhrlp,cwho,gjha,hfxwemwyd,jblwngl,jrvsiafoep,lxswtigw,oooeukatzu,qvhcvaaku,rxcl,vjuk,xflp,xjpaw,xmrpn,ygimqp,yrjuj,zcqwj,zpfd\n",
      "\n",
      "======================================================================\n",
      "FAIL: runTest (mod.testing.test_alpha.<locals>.TestKnown)\n",
      "----------------------------------------------------------------------\n",
      "Traceback (most recent call last):\n",
      "  File \"C:\\Users\\maria\\Desktop\\lab-functions\\mod\\testing.py\", line 187, in runTest\n",
      "    self.assertEqual(fn(self.input), self.output, f\"Should be {self.output}\")\n",
      "AssertionError: 'aaaaaabbbbbbbcddeeeeeeffffgggghhhhhhiijjj[69 chars]zzzz' != 'crmfyajz,gtmpbwl,lbdwja,lqipoxfl,melaxnwd[83 chars]kzou'\n",
      "- aaaaaabbbbbbbcddeeeeeeffffgggghhhhhhiijjjkkklllllllmmmmmmmnnnooooopppppqqqrrssssssstttuuvvwwwwwwxxxxxxxxxyyyyyzzzz\n",
      "+ crmfyajz,gtmpbwl,lbdwja,lqipoxfl,melaxnwdb,nmxlqeb,nvxjf,oiypoehh,rkggtwxwhb,sbpayeshe,sglzfsxx,ssshqa,tepxomuk,vxwmbyyh,zmakzou\n",
      " : Should be crmfyajz,gtmpbwl,lbdwja,lqipoxfl,melaxnwdb,nmxlqeb,nvxjf,oiypoehh,rkggtwxwhb,sbpayeshe,sglzfsxx,ssshqa,tepxomuk,vxwmbyyh,zmakzou\n",
      "\n",
      "======================================================================\n",
      "FAIL: runTest (mod.testing.test_alpha.<locals>.TestKnown)\n",
      "----------------------------------------------------------------------\n",
      "Traceback (most recent call last):\n",
      "  File \"C:\\Users\\maria\\Desktop\\lab-functions\\mod\\testing.py\", line 187, in runTest\n",
      "    self.assertEqual(fn(self.input), self.output, f\"Should be {self.output}\")\n",
      "AssertionError: 'aaabbbbbccccccceeeeeeffgghhhhijjjjkkkkmnn[31 chars]yzzz' != 'cjhs,cpuhzqb,ebaf,hqipnbnwg,hvnppxb,ngnwn[41 chars]seae'\n",
      "- aaabbbbbccccccceeeeeeffgghhhhijjjjkkkkmnnnnnnnnnopppppqqqqssssuuvwwwxxyyyzzz\n",
      "+ cjhs,cpuhzqb,ebaf,hqipnbnwg,hvnppxb,ngnwnk,nmkfcns,oxazes,uejycqecn,wbkkcypjqc,zjyseae\n",
      " : Should be cjhs,cpuhzqb,ebaf,hqipnbnwg,hvnppxb,ngnwnk,nmkfcns,oxazes,uejycqecn,wbkkcypjqc,zjyseae\n",
      "\n",
      "======================================================================\n",
      "FAIL: runTest (mod.testing.test_alpha.<locals>.TestKnown)\n",
      "----------------------------------------------------------------------\n",
      "Traceback (most recent call last):\n",
      "  File \"C:\\Users\\maria\\Desktop\\lab-functions\\mod\\testing.py\", line 187, in runTest\n",
      "    self.assertEqual(fn(self.input), self.output, f\"Should be {self.output}\")\n",
      "AssertionError: 'bccdeeehhhkkkkkptuvvwwxyyyz' != 'kczkveww,pchk,xuydhkvk,yebyhet'\n",
      "- bccdeeehhhkkkkkptuvvwwxyyyz\n",
      "+ kczkveww,pchk,xuydhkvk,yebyhet\n",
      " : Should be kczkveww,pchk,xuydhkvk,yebyhet\n",
      "\n",
      "======================================================================\n",
      "FAIL: runTest (mod.testing.test_alpha.<locals>.TestKnown)\n",
      "----------------------------------------------------------------------\n",
      "Traceback (most recent call last):\n",
      "  File \"C:\\Users\\maria\\Desktop\\lab-functions\\mod\\testing.py\", line 187, in runTest\n",
      "    self.assertEqual(fn(self.input), self.output, f\"Should be {self.output}\")\n",
      "AssertionError: 'abcddddefghijjkkkkkllllllmooppqrrtuuuvvvvwwwwxyyyzzzz' != 'hpjqo,jrzvitdmlv,kvkrl,lxvzyzw,wdldeuac,ykfdwpuk,ylwzlgubko'\n",
      "- abcddddefghijjkkkkkllllllmooppqrrtuuuvvvvwwwwxyyyzzzz\n",
      "+ hpjqo,jrzvitdmlv,kvkrl,lxvzyzw,wdldeuac,ykfdwpuk,ylwzlgubko\n",
      " : Should be hpjqo,jrzvitdmlv,kvkrl,lxvzyzw,wdldeuac,ykfdwpuk,ylwzlgubko\n",
      "\n",
      "======================================================================\n",
      "FAIL: runTest (mod.testing.test_alpha.<locals>.TestKnown)\n",
      "----------------------------------------------------------------------\n",
      "Traceback (most recent call last):\n",
      "  File \"C:\\Users\\maria\\Desktop\\lab-functions\\mod\\testing.py\", line 187, in runTest\n",
      "    self.assertEqual(fn(self.input), self.output, f\"Should be {self.output}\")\n",
      "AssertionError: 'aaabbbbbcccccccdddddeeeeeefffggggghhhhhhij[84 chars]zzzz' != 'axtccd,bhpzejxc,dcipkdz,ffgxzzqr,hetxqnyec[100 chars]phbb'\n",
      "- aaabbbbbcccccccdddddeeeeeefffggggghhhhhhijjjjjjkkkkllmmmnnnnooooopppppppppqqqqqqqqrrrrsssttttttuuuuuuuvvvwwwwwxxxxxxxyyyyyzzzzzzzz\n",
      "+ axtccd,bhpzejxc,dcipkdz,ffgxzzqr,hetxqnyec,juulrx,kgkc,plzgn,qrhuxeqqt,rumqd,unsuozcdo,uwpbjqvpy,vggpshoyk,wmpxwmajse,wyatjytvp,zbotnew,zfqojhphbb\n",
      " : Should be axtccd,bhpzejxc,dcipkdz,ffgxzzqr,hetxqnyec,juulrx,kgkc,plzgn,qrhuxeqqt,rumqd,unsuozcdo,uwpbjqvpy,vggpshoyk,wmpxwmajse,wyatjytvp,zbotnew,zfqojhphbb\n",
      "\n",
      "======================================================================\n",
      "FAIL: runTest (mod.testing.test_alpha.<locals>.TestKnown)\n",
      "----------------------------------------------------------------------\n",
      "Traceback (most recent call last):\n",
      "  File \"C:\\Users\\maria\\Desktop\\lab-functions\\mod\\testing.py\", line 187, in runTest\n",
      "    self.assertEqual(fn(self.input), self.output, f\"Should be {self.output}\")\n",
      "AssertionError: 'bbbbbbccddeeeeeeeeffgggghhhiijjkkkkklllllm[67 chars]yzzz' != 'bmrvjkbg,dxlvtx,evkekyuupx,gypenpslrz,hktj[80 chars]yspl'\n",
      "- bbbbbbccddeeeeeeeeffgggghhhiijjkkkkklllllmmnnnoooopppppppppqqqqqqrrrrrrrrsssssttttuuuuvvvvvvvwwwwxxxxxxxxyyyyyzzz\n",
      "+ bmrvjkbg,dxlvtx,evkekyuupx,gypenpslrz,hktjnbz,hoerygou,ihxneys,obpuqeq,pgfrkxsxr,qpvcxrpdbf,qvovbwtr,rzqsteqpwv,xiwewmllc,yspl\n",
      " : Should be bmrvjkbg,dxlvtx,evkekyuupx,gypenpslrz,hktjnbz,hoerygou,ihxneys,obpuqeq,pgfrkxsxr,qpvcxrpdbf,qvovbwtr,rzqsteqpwv,xiwewmllc,yspl\n",
      "\n",
      "======================================================================\n",
      "FAIL: runTest (mod.testing.test_alpha.<locals>.TestKnown)\n",
      "----------------------------------------------------------------------\n",
      "Traceback (most recent call last):\n",
      "  File \"C:\\Users\\maria\\Desktop\\lab-functions\\mod\\testing.py\", line 187, in runTest\n",
      "    self.assertEqual(fn(self.input), self.output, f\"Should be {self.output}\")\n",
      "AssertionError: 'aaacccfgghiijjkkpqqrtttuuuvwwwxx' != 'gxrcwcxfju,ipgtkaaavt,jiquuhqw,twkc'\n",
      "- aaacccfgghiijjkkpqqrtttuuuvwwwxx\n",
      "+ gxrcwcxfju,ipgtkaaavt,jiquuhqw,twkc\n",
      " : Should be gxrcwcxfju,ipgtkaaavt,jiquuhqw,twkc\n",
      "\n",
      "======================================================================\n",
      "FAIL: runTest (mod.testing.test_alpha.<locals>.TestKnown)\n",
      "----------------------------------------------------------------------\n",
      "Traceback (most recent call last):\n",
      "  File \"C:\\Users\\maria\\Desktop\\lab-functions\\mod\\testing.py\", line 187, in runTest\n",
      "    self.assertEqual(fn(self.input), self.output, f\"Should be {self.output}\")\n",
      "AssertionError: 'aaabbbbcfgghiklllmmnnoopqqsstuwxyyyz' != 'abyu,gfsxwbngc,hmyllmzbpa,onsal,qktb,qyoi'\n",
      "- aaabbbbcfgghiklllmmnnoopqqsstuwxyyyz\n",
      "+ abyu,gfsxwbngc,hmyllmzbpa,onsal,qktb,qyoi\n",
      " : Should be abyu,gfsxwbngc,hmyllmzbpa,onsal,qktb,qyoi\n",
      "\n",
      "======================================================================\n",
      "FAIL: runTest (mod.testing.test_alpha.<locals>.TestKnown)\n",
      "----------------------------------------------------------------------\n",
      "Traceback (most recent call last):\n",
      "  File \"C:\\Users\\maria\\Desktop\\lab-functions\\mod\\testing.py\", line 187, in runTest\n",
      "    self.assertEqual(fn(self.input), self.output, f\"Should be {self.output}\")\n",
      "AssertionError: 'aaaabbbbcccccccdddddeeeeeeeeeeefffffffgggg[119 chars]zzzz' != 'adrnvmokd,cbtet,cfone,cntneou,cwhlxzw,dkuy[142 chars]glwg'\n",
      "- aaaabbbbcccccccdddddeeeeeeeeeeefffffffggggghhhhhhhiiiiiijjjjjjjkkkkkllllllllllmmmnnnnnnooooooooooooppppppqqqqqrrrrrsssssttttttttttuuuuuvvwwwwwwwwxxxxxxyyyyyzzzzzzzzz\n",
      "+ adrnvmokd,cbtet,cfone,cntneou,cwhlxzw,dkuy,ekocydfw,hfwjzcdzml,jfol,kunhe,lbwiexzluq,njxatr,ofwy,ohaatw,ppetqjyx,pplh,ptsejixm,reziuqlss,rjlopzfovx,shiiejzgfo,szeqhgotik,trtob,yblg,zcqglwg\n",
      " : Should be adrnvmokd,cbtet,cfone,cntneou,cwhlxzw,dkuy,ekocydfw,hfwjzcdzml,jfol,kunhe,lbwiexzluq,njxatr,ofwy,ohaatw,ppetqjyx,pplh,ptsejixm,reziuqlss,rjlopzfovx,shiiejzgfo,szeqhgotik,trtob,yblg,zcqglwg\n",
      "\n",
      "======================================================================\n",
      "FAIL: runTest (mod.testing.test_alpha.<locals>.TestKnown)\n",
      "----------------------------------------------------------------------\n",
      "Traceback (most recent call last):\n",
      "  File \"C:\\Users\\maria\\Desktop\\lab-functions\\mod\\testing.py\", line 187, in runTest\n",
      "    self.assertEqual(fn(self.input), self.output, f\"Should be {self.output}\")\n",
      "AssertionError: 'abbbbbcccdddegghiiijjkkknnoooopqrrrssssttttuvvwwwxxxxxyyzzz' != 'bvtycwx,irbo,okqzib,rishgyuz,rpesaok,tjwnwxncg,tscddsxdk,vtxj,xozbb'\n",
      "- abbbbbcccdddegghiiijjkkknnoooopqrrrssssttttuvvwwwxxxxxyyzzz\n",
      "+ bvtycwx,irbo,okqzib,rishgyuz,rpesaok,tjwnwxncg,tscddsxdk,vtxj,xozbb\n",
      " : Should be bvtycwx,irbo,okqzib,rishgyuz,rpesaok,tjwnwxncg,tscddsxdk,vtxj,xozbb\n",
      "\n",
      "======================================================================\n",
      "FAIL: runTest (mod.testing.test_alpha.<locals>.TestKnown)\n",
      "----------------------------------------------------------------------\n",
      "Traceback (most recent call last):\n",
      "  File \"C:\\Users\\maria\\Desktop\\lab-functions\\mod\\testing.py\", line 187, in runTest\n",
      "    self.assertEqual(fn(self.input), self.output, f\"Should be {self.output}\")\n",
      "AssertionError: 'aaaaabbbccccccdddddddeeeeffffgggggghhhhhii[72 chars]yzzz' != 'aueafyme,azyusoptwo,bolldor,cpykihgddr,ecw[86 chars]jqmt'\n",
      "- aaaaabbbccccccdddddddeeeeffffgggggghhhhhiiiijjjkkkklllllllmmmnnooooooooppppqqqrrrrrrrsssttttuuuuuvvvvvvwwwwyyyyyyyyzzz\n",
      "+ aueafyme,azyusoptwo,bolldor,cpykihgddr,ecwdd,hjfoyib,kjtflfbshz,lcdyurwvhi,mrgu,ocvldagy,rpcpvorglr,stglnq,vvcanvqywh,ykgku,zioejqmt\n",
      " : Should be aueafyme,azyusoptwo,bolldor,cpykihgddr,ecwdd,hjfoyib,kjtflfbshz,lcdyurwvhi,mrgu,ocvldagy,rpcpvorglr,stglnq,vvcanvqywh,ykgku,zioejqmt\n",
      "\n",
      "======================================================================\n",
      "FAIL: runTest (mod.testing.test_alpha.<locals>.TestKnown)\n",
      "----------------------------------------------------------------------\n",
      "Traceback (most recent call last):\n",
      "  File \"C:\\Users\\maria\\Desktop\\lab-functions\\mod\\testing.py\", line 187, in runTest\n",
      "    self.assertEqual(fn(self.input), self.output, f\"Should be {self.output}\")\n",
      "AssertionError: 'aaabccccefffghhhhijjjklmmnnoqrssuuwxyyzz' != 'acghckhr,iexj,mfhulcy,nhjjqfw,ssbcuam,zyzanfo'\n",
      "- aaabccccefffghhhhijjjklmmnnoqrssuuwxyyzz\n",
      "+ acghckhr,iexj,mfhulcy,nhjjqfw,ssbcuam,zyzanfo\n",
      " : Should be acghckhr,iexj,mfhulcy,nhjjqfw,ssbcuam,zyzanfo\n",
      "\n",
      "======================================================================\n",
      "FAIL: runTest (mod.testing.test_alpha.<locals>.TestKnown)\n",
      "----------------------------------------------------------------------\n",
      "Traceback (most recent call last):\n",
      "  File \"C:\\Users\\maria\\Desktop\\lab-functions\\mod\\testing.py\", line 187, in runTest\n",
      "    self.assertEqual(fn(self.input), self.output, f\"Should be {self.output}\")\n",
      "AssertionError: 'aabcccdddfffgghhijjkkkklmmnnnnopprrsuvvwxxxyz' != 'cumcsx,dfabah,drmxgni,hpkjnp,kdgjckvv,nrwnf,xklfozy'\n",
      "- aabcccdddfffgghhijjkkkklmmnnnnopprrsuvvwxxxyz\n",
      "+ cumcsx,dfabah,drmxgni,hpkjnp,kdgjckvv,nrwnf,xklfozy\n",
      " : Should be cumcsx,dfabah,drmxgni,hpkjnp,kdgjckvv,nrwnf,xklfozy\n",
      "\n",
      "======================================================================\n",
      "FAIL: runTest (mod.testing.test_alpha.<locals>.TestKnown)\n",
      "----------------------------------------------------------------------\n",
      "Traceback (most recent call last):\n",
      "  File \"C:\\Users\\maria\\Desktop\\lab-functions\\mod\\testing.py\", line 187, in runTest\n",
      "    self.assertEqual(fn(self.input), self.output, f\"Should be {self.output}\")\n",
      "AssertionError: 'aacddeeefgghhiijjkkkllllllmmmmnnnnoooooqq[26 chars]zzzz' != 'eqwzl,iaolmqqcqj,jrxa,kzlmuy,mwkru,oqnnds[35 chars]hxnn'\n",
      "- aacddeeefgghhiijjkkkllllllmmmmnnnnoooooqqqqqrrrrsssttuuuvvwwwxxxyyyzzzz\n",
      "+ eqwzl,iaolmqqcqj,jrxa,kzlmuy,mwkru,oqnndst,oxfeeyihlv,szvtrz,wsougllrg,ymodkhxnn\n",
      " : Should be eqwzl,iaolmqqcqj,jrxa,kzlmuy,mwkru,oqnndst,oxfeeyihlv,szvtrz,wsougllrg,ymodkhxnn\n",
      "\n",
      "======================================================================\n",
      "FAIL: runTest (mod.testing.test_alpha.<locals>.TestKnown)\n",
      "----------------------------------------------------------------------\n",
      "Traceback (most recent call last):\n",
      "  File \"C:\\Users\\maria\\Desktop\\lab-functions\\mod\\testing.py\", line 187, in runTest\n",
      "    self.assertEqual(fn(self.input), self.output, f\"Should be {self.output}\")\n",
      "AssertionError: 'bbbbbccddeeffffggghhhjjjjjjkkkkkkllllmnnnn[66 chars]zzzz' != 'brfrj,btgbqk,edkrz,fodnj,hxlshu,jsrqjljyk,[82 chars]oytt'\n",
      "- bbbbbccddeeffffggghhhjjjjjjkkkkkkllllmnnnnnoooooppppqqqqqqqrrrrrrrrrsssssttttttuuuuuuuuuuvvvvvvwwwxyyyyyyyyzzzzz\n",
      "+ brfrj,btgbqk,edkrz,fodnj,hxlshu,jsrqjljyk,kluz,lpkup,nuzoevvqv,prwnrtz,qrusgqmp,ruynwt,scuf,vvbyukbtvu,wqyhqcy,yfoonrsuz,yjgoytt\n",
      " : Should be brfrj,btgbqk,edkrz,fodnj,hxlshu,jsrqjljyk,kluz,lpkup,nuzoevvqv,prwnrtz,qrusgqmp,ruynwt,scuf,vvbyukbtvu,wqyhqcy,yfoonrsuz,yjgoytt\n",
      "\n",
      "======================================================================\n",
      "FAIL: runTest (mod.testing.test_alpha.<locals>.TestKnown)\n",
      "----------------------------------------------------------------------\n",
      "Traceback (most recent call last):\n",
      "  File \"C:\\Users\\maria\\Desktop\\lab-functions\\mod\\testing.py\", line 187, in runTest\n",
      "    self.assertEqual(fn(self.input), self.output, f\"Should be {self.output}\")\n",
      "AssertionError: 'aaaaaaaaaabbbbbbbbbccccccccdddddddddddeeee[136 chars]yzzz' != 'ahglvkqy,atemsdwj,awmmtlwnp,cdlaneb,chek,c[159 chars]nylw'\n",
      "- aaaaaaaaaabbbbbbbbbccccccccdddddddddddeeeeeeeffffffffgggggggghhhhhhhiiiijjjjjjjkkkkkklllllllllllllllmmmmnnnnnnnnoooppppppqqqqrrrrrrssssssttttuuuuuuvvvvvvvvvvwwwwwwwxxxxxxyyyyyyyyyzzz\n",
      "+ ahglvkqy,atemsdwj,awmmtlwnp,cdlaneb,chek,cnyfjysipb,dkgl,ebftv,ffguvbpref,hrecvalarw,ipvrbdln,jjefldsvfl,jqngglc,klsxovgisl,lxnudkli,qvhc,rqwflgdcpt,usabhyzu,vnjj,vxaycmbyrd,wddzoyad,xhou,xhpzuagkx,ybbnylw\n",
      " : Should be ahglvkqy,atemsdwj,awmmtlwnp,cdlaneb,chek,cnyfjysipb,dkgl,ebftv,ffguvbpref,hrecvalarw,ipvrbdln,jjefldsvfl,jqngglc,klsxovgisl,lxnudkli,qvhc,rqwflgdcpt,usabhyzu,vnjj,vxaycmbyrd,wddzoyad,xhou,xhpzuagkx,ybbnylw\n",
      "\n",
      "======================================================================\n",
      "FAIL: runTest (mod.testing.test_alpha.<locals>.TestKnown)\n",
      "----------------------------------------------------------------------\n",
      "Traceback (most recent call last):\n",
      "  File \"C:\\Users\\maria\\Desktop\\lab-functions\\mod\\testing.py\", line 187, in runTest\n",
      "    self.assertEqual(fn(self.input), self.output, f\"Should be {self.output}\")\n",
      "AssertionError: 'aabbbcccdddeeeefffgghhhhijjkllllmmmooopqq[25 chars]zzzz' != 'clmj,hoeqbqkal,jhqehb,lerscgh,mwprdfc,ogq[35 chars]rvdr'\n",
      "- aabbbcccdddeeeefffgghhhhijjkllllmmmooopqqqqrrrrrrsstuvvwwwwwxxyzzzzzzz\n",
      "+ clmj,hoeqbqkal,jhqehb,lerscgh,mwprdfc,ogqwv,reamb,rzwlwfwzo,xuftzxz,zisydz,zrvdr\n",
      " : Should be clmj,hoeqbqkal,jhqehb,lerscgh,mwprdfc,ogqwv,reamb,rzwlwfwzo,xuftzxz,zisydz,zrvdr\n",
      "\n",
      "======================================================================\n",
      "FAIL: runTest (mod.testing.test_alpha.<locals>.TestKnown)\n",
      "----------------------------------------------------------------------\n",
      "Traceback (most recent call last):\n",
      "  File \"C:\\Users\\maria\\Desktop\\lab-functions\\mod\\testing.py\", line 187, in runTest\n",
      "    self.assertEqual(fn(self.input), self.output, f\"Should be {self.output}\")\n",
      "AssertionError: 'aaaaabbbbbbbbbbccccccccdddddeeeeffffffgggg[126 chars]zzzz' != 'azfhyqreym,bkesixy,cgdu,ciuvyxqzlv,crck,dx[150 chars]iptb'\n",
      "- aaaaabbbbbbbbbbccccccccdddddeeeeffffffgggggghhhhhiiiiiiiiiijjjjjjkkkkkkkklllllllllmmmmmmmnnooooooooppppqqqqqqqqqqqrrrrrrrrrrsssstttuuuuuvvvvvvvwwwxxxxxxxyyyyyyyyyyyyyzzzzzz\n",
      "+ azfhyqreym,bkesixy,cgdu,ciuvyxqzlv,crck,dxlbiublbt,fjkjpudk,goyotzo,ikzhq,ivql,jdomci,jkiqsump,lemdsh,lrxbmrrmah,oiaz,pyxhffbf,qkvr,qnkfy,qyrqy,rgvocxgy,vabzqmlqo,vlcrgjay,wjre,wolyyxicbb,wsngiptb\n",
      " : Should be azfhyqreym,bkesixy,cgdu,ciuvyxqzlv,crck,dxlbiublbt,fjkjpudk,goyotzo,ikzhq,ivql,jdomci,jkiqsump,lemdsh,lrxbmrrmah,oiaz,pyxhffbf,qkvr,qnkfy,qyrqy,rgvocxgy,vabzqmlqo,vlcrgjay,wjre,wolyyxicbb,wsngiptb\n",
      "\n",
      "======================================================================\n",
      "FAIL: runTest (mod.testing.test_alpha.<locals>.TestKnown)\n",
      "----------------------------------------------------------------------\n",
      "Traceback (most recent call last):\n",
      "  File \"C:\\Users\\maria\\Desktop\\lab-functions\\mod\\testing.py\", line 187, in runTest\n",
      "    self.assertEqual(fn(self.input), self.output, f\"Should be {self.output}\")\n",
      "AssertionError: 'aabcdeghiijjkkmmnpqqqsttvwyyz' != 'ankbz,dsmiwyhcm,eqytp,jqkq,tgajvi'\n",
      "- aabcdeghiijjkkmmnpqqqsttvwyyz\n",
      "+ ankbz,dsmiwyhcm,eqytp,jqkq,tgajvi\n",
      " : Should be ankbz,dsmiwyhcm,eqytp,jqkq,tgajvi\n",
      "\n",
      "======================================================================\n",
      "FAIL: runTest (mod.testing.test_alpha.<locals>.TestKnown)\n",
      "----------------------------------------------------------------------\n",
      "Traceback (most recent call last):\n",
      "  File \"C:\\Users\\maria\\Desktop\\lab-functions\\mod\\testing.py\", line 187, in runTest\n",
      "    self.assertEqual(fn(self.input), self.output, f\"Should be {self.output}\")\n",
      "AssertionError: 'aaaaaaaaabbbbcccccddddeeeeeeeeeeeffffggggh[116 chars]zzzz' != 'aybt,bnikqjas,ehsefzncrm,ibnw,kmvy,kqywexe[139 chars]jscq'\n",
      "- aaaaaaaaabbbbcccccddddeeeeeeeeeeeffffgggghhhhhhiiiiijjkkkkkkkkkkklllllmmmmmmmmmmmnnnnnnnoooppppppqqqqqqqqqqqrrrrrrrssssssssttttttuuuuuvvvvvvwwwwwwxxxxxxyyyyyyzzzz\n",
      "+ aybt,bnikqjas,ehsefzncrm,ibnw,kmvy,kqywexe,kxgtohcfs,mkhpetpa,nkrm,nkzamg,nvkelqft,ppvka,qlkaula,qymq,rtyrhto,rxqhckei,sdmppmqli,ufiqbxxgv,vgeumsrdru,wnmhd,wswao,wsyce,xdvlmzeque,zajscq\n",
      " : Should be aybt,bnikqjas,ehsefzncrm,ibnw,kmvy,kqywexe,kxgtohcfs,mkhpetpa,nkrm,nkzamg,nvkelqft,ppvka,qlkaula,qymq,rtyrhto,rxqhckei,sdmppmqli,ufiqbxxgv,vgeumsrdru,wnmhd,wswao,wsyce,xdvlmzeque,zajscq\n",
      "\n",
      "======================================================================\n",
      "FAIL: runTest (mod.testing.test_alpha.<locals>.TestKnown)\n",
      "----------------------------------------------------------------------\n",
      "Traceback (most recent call last):\n",
      "  File \"C:\\Users\\maria\\Desktop\\lab-functions\\mod\\testing.py\", line 187, in runTest\n",
      "    self.assertEqual(fn(self.input), self.output, f\"Should be {self.output}\")\n",
      "AssertionError: 'aaaabbbccceefggghhhhikllmmmnopprrrssttuuuvxxyyz' != 'basakpthmb,ehlgx,ioruacg,trcgnre,uyhmybcp,vuazmshxlf'\n",
      "- aaaabbbccceefggghhhhikllmmmnopprrrssttuuuvxxyyz\n",
      "+ basakpthmb,ehlgx,ioruacg,trcgnre,uyhmybcp,vuazmshxlf\n",
      " : Should be basakpthmb,ehlgx,ioruacg,trcgnre,uyhmybcp,vuazmshxlf\n",
      "\n",
      "======================================================================\n",
      "FAIL: runTest (mod.testing.test_alpha.<locals>.TestKnown)\n",
      "----------------------------------------------------------------------\n",
      "Traceback (most recent call last):\n",
      "  File \"C:\\Users\\maria\\Desktop\\lab-functions\\mod\\testing.py\", line 187, in runTest\n",
      "    self.assertEqual(fn(self.input), self.output, f\"Should be {self.output}\")\n",
      "AssertionError: 'aaaaaabbbbbccccccdddddddddeeffffffgggggggg[82 chars]zzzz' != 'awnrcjab,bknfuno,bogyfsk,bwuaogywji,cobcwd[97 chars]wvej'\n",
      "- aaaaaabbbbbccccccdddddddddeeffffffgggggggghiiiiiijjjkkkkkkkkklllmmnnnnnnnnnnoooooooppppqqqqrrrsssssstuuuvvvvvwwwwwwwwwwwwxyyzzzz\n",
      "+ awnrcjab,bknfuno,bogyfsk,bwuaogywji,cobcwdws,cpivwgipw,diwm,gqddgzfkg,inoqdkdviz,lknrwkrvk,npnfuzqosf,pcwxsfhnv,qlgeadtka,sglm,wscdan,znodkwvej\n",
      " : Should be awnrcjab,bknfuno,bogyfsk,bwuaogywji,cobcwdws,cpivwgipw,diwm,gqddgzfkg,inoqdkdviz,lknrwkrvk,npnfuzqosf,pcwxsfhnv,qlgeadtka,sglm,wscdan,znodkwvej\n",
      "\n",
      "======================================================================\n",
      "FAIL: runTest (mod.testing.test_alpha.<locals>.TestKnown)\n",
      "----------------------------------------------------------------------\n",
      "Traceback (most recent call last):\n",
      "  File \"C:\\Users\\maria\\Desktop\\lab-functions\\mod\\testing.py\", line 187, in runTest\n",
      "    self.assertEqual(fn(self.input), self.output, f\"Should be {self.output}\")\n",
      "AssertionError: 'aabbbcccdeeefgghhhijjjjjkkkklllmmmmoppqqqqsssttuuuwxxyzzz' != 'balswjm,bhdqxlj,gsuexgmkj,mjchaqu,qpuj,tmpekfcc,zbholkkt,zzeiyqs'\n",
      "- aabbbcccdeeefgghhhijjjjjkkkklllmmmmoppqqqqsssttuuuwxxyzzz\n",
      "+ balswjm,bhdqxlj,gsuexgmkj,mjchaqu,qpuj,tmpekfcc,zbholkkt,zzeiyqs\n",
      " : Should be balswjm,bhdqxlj,gsuexgmkj,mjchaqu,qpuj,tmpekfcc,zbholkkt,zzeiyqs\n",
      "\n",
      "======================================================================\n",
      "FAIL: runTest (mod.testing.test_alpha.<locals>.TestKnown)\n",
      "----------------------------------------------------------------------\n",
      "Traceback (most recent call last):\n",
      "  File \"C:\\Users\\maria\\Desktop\\lab-functions\\mod\\testing.py\", line 187, in runTest\n",
      "    self.assertEqual(fn(self.input), self.output, f\"Should be {self.output}\")\n",
      "AssertionError: 'aaaabbbbbcddeeffffggggghhiijkkkkllllmmnoo[32 chars]yzzz' != 'fqog,qbby,qdhfwuya,rzambi,sttlenijv,ucvas[42 chars]keyp'\n",
      "- aaaabbbbbcddeeffffggggghhiijkkkkllllmmnooopqqqrrsssstttuuuvvvvvwwwxxyyyyyyzzz\n",
      "+ fqog,qbby,qdhfwuya,rzambi,sttlenijv,ucvasfgb,uydvgao,wyzllrg,xsfmv,ygslkokhvk,zxwbtkeyp\n",
      " : Should be fqog,qbby,qdhfwuya,rzambi,sttlenijv,ucvasfgb,uydvgao,wyzllrg,xsfmv,ygslkokhvk,zxwbtkeyp\n",
      "\n",
      "======================================================================\n",
      "FAIL: runTest (mod.testing.test_alpha.<locals>.TestKnown)\n",
      "----------------------------------------------------------------------\n",
      "Traceback (most recent call last):\n",
      "  File \"C:\\Users\\maria\\Desktop\\lab-functions\\mod\\testing.py\", line 187, in runTest\n",
      "    self.assertEqual(fn(self.input), self.output, f\"Should be {self.output}\")\n",
      "AssertionError: 'aaaaabbbccccddddeeeffffggghhiiijjjjjkklll[32 chars]yyyy' != 'dpfcxlaeub,fwnm,gqvioejog,ibahlranf,jjvbu[42 chars]gdcu'\n",
      "- aaaaabbbccccddddeeeffffggghhiiijjjjjkklllmnnnnnoooppqqrrrssuuuuuvvvwwwwxxyyyy\n",
      "+ dpfcxlaeub,fwnm,gqvioejog,ibahlranf,jjvbuyky,ponq,rdhfx,skrjy,valjeis,wcnuuncyad,wwgdcu\n",
      " : Should be dpfcxlaeub,fwnm,gqvioejog,ibahlranf,jjvbuyky,ponq,rdhfx,skrjy,valjeis,wcnuuncyad,wwgdcu\n",
      "\n",
      "======================================================================\n",
      "FAIL: runTest (mod.testing.test_alpha.<locals>.TestKnown)\n",
      "----------------------------------------------------------------------\n",
      "Traceback (most recent call last):\n",
      "  File \"C:\\Users\\maria\\Desktop\\lab-functions\\mod\\testing.py\", line 187, in runTest\n",
      "    self.assertEqual(fn(self.input), self.output, f\"Should be {self.output}\")\n",
      "AssertionError: 'aaabbbccccddeeegggghhhhjjjjkkllmmoooqqqrsstuuuuvvvvwyyyy' != 'adtjjsyus,amoabeqgh,hgweogorly,jvul,kcvjbqdg,kmqhvcyc,ubehvcuy'\n",
      "- aaabbbccccddeeegggghhhhjjjjkkllmmoooqqqrsstuuuuvvvvwyyyy\n",
      "+ adtjjsyus,amoabeqgh,hgweogorly,jvul,kcvjbqdg,kmqhvcyc,ubehvcuy\n",
      " : Should be adtjjsyus,amoabeqgh,hgweogorly,jvul,kcvjbqdg,kmqhvcyc,ubehvcuy\n",
      "\n",
      "======================================================================\n",
      "FAIL: runTest (mod.testing.test_alpha.<locals>.TestKnown)\n",
      "----------------------------------------------------------------------\n",
      "Traceback (most recent call last):\n",
      "  File \"C:\\Users\\maria\\Desktop\\lab-functions\\mod\\testing.py\", line 187, in runTest\n",
      "    self.assertEqual(fn(self.input), self.output, f\"Should be {self.output}\")\n",
      "AssertionError: 'aabbbceeghllmmmnnppqqqsxxyyyz' != 'embhlc,nmbmq,nyxyy,qbgesqp,xaazlp'\n",
      "- aabbbceeghllmmmnnppqqqsxxyyyz\n",
      "+ embhlc,nmbmq,nyxyy,qbgesqp,xaazlp\n",
      " : Should be embhlc,nmbmq,nyxyy,qbgesqp,xaazlp\n",
      "\n",
      "======================================================================\n",
      "FAIL: runTest (mod.testing.test_alpha.<locals>.TestKnown)\n",
      "----------------------------------------------------------------------\n",
      "Traceback (most recent call last):\n",
      "  File \"C:\\Users\\maria\\Desktop\\lab-functions\\mod\\testing.py\", line 187, in runTest\n",
      "    self.assertEqual(fn(self.input), self.output, f\"Should be {self.output}\")\n",
      "AssertionError: 'abccccddddeeeffffggghijjjjkkkkkllmnnnooppqrrrrtttttuvvwxxyyzzz' != 'cdvt,fqaj,hepdn,igctjnt,okrzdfxker,romzxk,rvydwjbpl,tgetknfkcf,ujycglz'\n",
      "- abccccddddeeeffffggghijjjjkkkkkllmnnnooppqrrrrtttttuvvwxxyyzzz\n",
      "+ cdvt,fqaj,hepdn,igctjnt,okrzdfxker,romzxk,rvydwjbpl,tgetknfkcf,ujycglz\n",
      " : Should be cdvt,fqaj,hepdn,igctjnt,okrzdfxker,romzxk,rvydwjbpl,tgetknfkcf,ujycglz\n",
      "\n",
      "======================================================================\n",
      "FAIL: runTest (mod.testing.test_alpha.<locals>.TestKnown)\n",
      "----------------------------------------------------------------------\n",
      "Traceback (most recent call last):\n",
      "  File \"C:\\Users\\maria\\Desktop\\lab-functions\\mod\\testing.py\", line 187, in runTest\n",
      "    self.assertEqual(fn(self.input), self.output, f\"Should be {self.output}\")\n",
      "AssertionError: 'aaabbbbbbbccccccdddeeeeeffffffggggggggghh[82 chars]yyzz' != 'bhrivmjy,cglenmlxdc,ehmfhjqb,emljoxmp,fkt[99 chars]cwhh'\n",
      "- aaabbbbbbbccccccdddeeeeeffffffggggggggghhhhhhhhhiiiiijjjjjjjjkkkllllllmmmmmmmmmmmnnnnoooooopqqqqrrrrsstttuuuuuvvwwwwwxxxxyyyyzz\n",
      "+ bhrivmjy,cglenmlxdc,ehmfhjqb,emljoxmp,fktgb,gbgjjiqj,goaucb,hfydnoc,jitrohg,mlsvnk,mwezhbaon,qfumrmgh,sugabmj,umigtlixo,uyxq,wffd,wkerlcz,wycwhh\n",
      " : Should be bhrivmjy,cglenmlxdc,ehmfhjqb,emljoxmp,fktgb,gbgjjiqj,goaucb,hfydnoc,jitrohg,mlsvnk,mwezhbaon,qfumrmgh,sugabmj,umigtlixo,uyxq,wffd,wkerlcz,wycwhh\n",
      "\n",
      "======================================================================\n",
      "FAIL: runTest (mod.testing.test_alpha.<locals>.TestKnown)\n",
      "----------------------------------------------------------------------\n",
      "Traceback (most recent call last):\n",
      "  File \"C:\\Users\\maria\\Desktop\\lab-functions\\mod\\testing.py\", line 187, in runTest\n",
      "    self.assertEqual(fn(self.input), self.output, f\"Should be {self.output}\")\n",
      "AssertionError: 'abbccdeffggghhhhiiijjkllllmmmmnooooppppppqqqqqrssstwwwyyzzz' != 'gfziqw,imhep,jtzfpoog,jymbpo,ksrm,laimshh,lphqcpqldc,qpqwbsl,yozwgn'\n",
      "- abbccdeffggghhhhiiijjkllllmmmmnooooppppppqqqqqrssstwwwyyzzz\n",
      "+ gfziqw,imhep,jtzfpoog,jymbpo,ksrm,laimshh,lphqcpqldc,qpqwbsl,yozwgn\n",
      " : Should be gfziqw,imhep,jtzfpoog,jymbpo,ksrm,laimshh,lphqcpqldc,qpqwbsl,yozwgn\n",
      "\n",
      "======================================================================\n",
      "FAIL: runTest (mod.testing.test_alpha.<locals>.TestKnown)\n",
      "----------------------------------------------------------------------\n",
      "Traceback (most recent call last):\n",
      "  File \"C:\\Users\\maria\\Desktop\\lab-functions\\mod\\testing.py\", line 187, in runTest\n",
      "    self.assertEqual(fn(self.input), self.output, f\"Should be {self.output}\")\n",
      "AssertionError: 'aaaaabbcccccccddddeeeffffffggghhhhhhhhhhh[99 chars]zzzz' != 'blvmutg,ccysajtcl,efqin,fzhwrkx,hjzx,jgmf[120 chars]nrzd'\n",
      "- aaaaabbcccccccddddeeeffffffggghhhhhhhhhhhiijjjjjjjjjjkkkkkkkkkklllllllmmmmmnnnnnnnnnnnooooopppqqqqrrrrsssttttttttuuuuuuvvvvvvwwwwxxxxxxyyyyyzzzz\n",
      "+ blvmutg,ccysajtcl,efqin,fzhwrkx,hjzx,jgmf,jjkleocz,jovet,kvjwlt,kyruhhs,mhpanth,mnhqv,ncoqyh,plvufmh,pykk,qnhgodnwal,rbdo,tnakklk,tuyikafdf,xnjcn,xnxucwvjj,xtsuhnrzd\n",
      " : Should be blvmutg,ccysajtcl,efqin,fzhwrkx,hjzx,jgmf,jjkleocz,jovet,kvjwlt,kyruhhs,mhpanth,mnhqv,ncoqyh,plvufmh,pykk,qnhgodnwal,rbdo,tnakklk,tuyikafdf,xnjcn,xnxucwvjj,xtsuhnrzd\n",
      "\n",
      "======================================================================\n",
      "FAIL: runTest (mod.testing.test_alpha.<locals>.TestKnown)\n",
      "----------------------------------------------------------------------\n",
      "Traceback (most recent call last):\n",
      "  File \"C:\\Users\\maria\\Desktop\\lab-functions\\mod\\testing.py\", line 187, in runTest\n",
      "    self.assertEqual(fn(self.input), self.output, f\"Should be {self.output}\")\n",
      "AssertionError: 'aaaaabbbbccdddddeeeeefffffgggghhhhhiiiiij[72 chars]zzzz' != 'bbez,fopbax,fveydl,fwhikhviyk,kvup,kwvqo,[89 chars]osti'\n",
      "- aaaaabbbbccdddddeeeeefffffgggghhhhhiiiiijjkkkkkklllllllmmmnnnnoooooopppppppqqqrrsssstttuuvvvvvvvwwwwxxxxxyyyyyyzzzzzz\n",
      "+ bbez,fopbax,fveydl,fwhikhviyk,kvup,kwvqo,mpceztjg,ndyvlpyhy,nrzoz,oamuxdeoc,perl,qgvlaawls,qmpfpst,sknbxg,wijdh,xdxk,zilagnl,zvhfyosti\n",
      " : Should be bbez,fopbax,fveydl,fwhikhviyk,kvup,kwvqo,mpceztjg,ndyvlpyhy,nrzoz,oamuxdeoc,perl,qgvlaawls,qmpfpst,sknbxg,wijdh,xdxk,zilagnl,zvhfyosti\n",
      "\n",
      "======================================================================\n",
      "FAIL: runTest (mod.testing.test_alpha.<locals>.TestKnown)\n",
      "----------------------------------------------------------------------\n",
      "Traceback (most recent call last):\n",
      "  File \"C:\\Users\\maria\\Desktop\\lab-functions\\mod\\testing.py\", line 187, in runTest\n",
      "    self.assertEqual(fn(self.input), self.output, f\"Should be {self.output}\")\n",
      "AssertionError: 'aabbbbbbbbccccdeeeeeeffffffffgggghhhhhhhii[84 chars]yzzz' != 'aijvzorfbb,ammbduv,fgki,hqxe,hvvhfjm,lhkct[102 chars]sqpx'\n",
      "- aabbbbbbbbccccdeeeeeeffffffffgggghhhhhhhiiiijjjjjjjjkkkkkkllllmmmmmmmnnnnnnoooooopppqqqqqqrrrrrssssssttuuuuvvvvvvvwwxxxxxxyyyyyzzz\n",
      "+ aijvzorfbb,ammbduv,fgki,hqxe,hvvhfjm,lhkct,merf,ngejlbon,nqelptjhj,qqbgbfj,qsfjhnkymv,rbbn,rjiwcz,skoke,ufxxrcxose,uinxf,uoyvmzklyg,vmpyswcos,yhsqpx\n",
      " : Should be aijvzorfbb,ammbduv,fgki,hqxe,hvvhfjm,lhkct,merf,ngejlbon,nqelptjhj,qqbgbfj,qsfjhnkymv,rbbn,rjiwcz,skoke,ufxxrcxose,uinxf,uoyvmzklyg,vmpyswcos,yhsqpx\n",
      "\n",
      "======================================================================\n",
      "FAIL: runTest (mod.testing.test_alpha.<locals>.TestKnown)\n",
      "----------------------------------------------------------------------\n",
      "Traceback (most recent call last):\n",
      "  File \"C:\\Users\\maria\\Desktop\\lab-functions\\mod\\testing.py\", line 187, in runTest\n",
      "    self.assertEqual(fn(self.input), self.output, f\"Should be {self.output}\")\n",
      "AssertionError: 'abbccdfgghhhhjjklnnppqqrrrrtvvxx' != 'gvcb,hdvrgqtxk,pjcanbrf,pxhr,rnhlqjh'\n",
      "- abbccdfgghhhhjjklnnppqqrrrrtvvxx\n",
      "+ gvcb,hdvrgqtxk,pjcanbrf,pxhr,rnhlqjh\n",
      " : Should be gvcb,hdvrgqtxk,pjcanbrf,pxhr,rnhlqjh\n",
      "\n",
      "======================================================================\n",
      "FAIL: runTest (mod.testing.test_alpha.<locals>.TestKnown)\n",
      "----------------------------------------------------------------------\n",
      "Traceback (most recent call last):\n",
      "  File \"C:\\Users\\maria\\Desktop\\lab-functions\\mod\\testing.py\", line 187, in runTest\n",
      "    self.assertEqual(fn(self.input), self.output, f\"Should be {self.output}\")\n",
      "AssertionError: 'aaaaaabbbbbcddeeeefffgggggggghhhiijjjjjkk[79 chars]zzzz' != 'bggm,brtsd,eagh,jgrxbv,lkmajyaw,lmjxxzr,l[96 chars]ajxt'\n",
      "- aaaaaabbbbbcddeeeefffgggggggghhhiijjjjjkkkkllllllllmmmmmmmmmnnnnnppqqrrrrrrrrsssssssttttttuuuvvvvwwwwwwwwxxxxxxxxxxyyyyyzzzz\n",
      "+ bggm,brtsd,eagh,jgrxbv,lkmajyaw,lmjxxzr,lmutsswv,nxkxynu,qsfmxrft,rxnqa,sukwmxggfe,syllxd,tmeblrp,wbpivnls,whvjyy,wmewmzhik,wzlgta,znrrgcajxt\n",
      " : Should be bggm,brtsd,eagh,jgrxbv,lkmajyaw,lmjxxzr,lmutsswv,nxkxynu,qsfmxrft,rxnqa,sukwmxggfe,syllxd,tmeblrp,wbpivnls,whvjyy,wmewmzhik,wzlgta,znrrgcajxt\n",
      "\n",
      "======================================================================\n",
      "FAIL: runTest (mod.testing.test_alpha.<locals>.TestKnown)\n",
      "----------------------------------------------------------------------\n",
      "Traceback (most recent call last):\n",
      "  File \"C:\\Users\\maria\\Desktop\\lab-functions\\mod\\testing.py\", line 187, in runTest\n",
      "    self.assertEqual(fn(self.input), self.output, f\"Should be {self.output}\")\n",
      "AssertionError: 'aaabbbbbbccddeeeeffffffgggggghhiijjjjkkklll[45 chars]zzzz' != 'aasbtf,aiegxydj,ezlblce,fukgtvyor,gzgtx,hed[57 chars]rfzb'\n",
      "- aaabbbbbbccddeeeeffffffgggggghhiijjjjkkklllmmnooqqqqqqrrrrsstttttuvvvvwwwwxxxxxxxxyyyyyyzzzz\n",
      "+ aasbtf,aiegxydj,ezlblce,fukgtvyor,gzgtx,hedfqxiwt,momf,qcyqqxxhrq,wbbvvwfjbj,xkylxwgg,xykqr,ytvj,znsrfzb\n",
      " : Should be aasbtf,aiegxydj,ezlblce,fukgtvyor,gzgtx,hedfqxiwt,momf,qcyqqxxhrq,wbbvvwfjbj,xkylxwgg,xykqr,ytvj,znsrfzb\n",
      "\n",
      "======================================================================\n",
      "FAIL: runTest (mod.testing.test_alpha.<locals>.TestKnown)\n",
      "----------------------------------------------------------------------\n",
      "Traceback (most recent call last):\n",
      "  File \"C:\\Users\\maria\\Desktop\\lab-functions\\mod\\testing.py\", line 187, in runTest\n",
      "    self.assertEqual(fn(self.input), self.output, f\"Should be {self.output}\")\n",
      "AssertionError: 'aaabbbbbbbbbbbbbbcccccccddeeeeeeefggggggg[109 chars]zzzz' != 'bolscgw,bvokcbsgy,ebknoj,egwjbejg,goyeijp[131 chars]ujby'\n",
      "- aaabbbbbbbbbbbbbbcccccccddeeeeeeefggggggghhhhhhhiiiijjjjjjjjkkkkkkkkkkklllllmmmmnnnnnoooooooooppppppqqrrrrrrrrsssssssttttttttuuuuuuvvvvvvwwwwwxxyyyyyzzzzz\n",
      "+ bolscgw,bvokcbsgy,ebknoj,egwjbejg,goyeijpkq,hbuh,hmoktzut,htdevpu,kupsrhk,lyftpvoiva,mgoreckrqj,ninc,psjz,pttkr,roigkksnl,sukzbs,tbcdj,tblr,vwben,wavhxomx,wbhlr,zary,zbbccmujby\n",
      " : Should be bolscgw,bvokcbsgy,ebknoj,egwjbejg,goyeijpkq,hbuh,hmoktzut,htdevpu,kupsrhk,lyftpvoiva,mgoreckrqj,ninc,psjz,pttkr,roigkksnl,sukzbs,tbcdj,tblr,vwben,wavhxomx,wbhlr,zary,zbbccmujby\n",
      "\n",
      "======================================================================\n",
      "FAIL: runTest (mod.testing.test_alpha.<locals>.TestKnown)\n",
      "----------------------------------------------------------------------\n",
      "Traceback (most recent call last):\n",
      "  File \"C:\\Users\\maria\\Desktop\\lab-functions\\mod\\testing.py\", line 187, in runTest\n",
      "    self.assertEqual(fn(self.input), self.output, f\"Should be {self.output}\")\n",
      "AssertionError: 'aaaaaaabbbbbbbccdddeeffggggghhhhhhiijjjjjkk[81 chars]zzzz' != 'aagjvapbry,aksd,boeho,cbsonygwz,grzmpq,hajb[99 chars]cyyh'\n",
      "- aaaaaaabbbbbbbccdddeeffggggghhhhhhiijjjjjkkkkklllllmmmmmmnnnnnooooooooppppppqqqqqqqqrrrsssssstttttuuuuuvvvvvvvvwwxxyyyyyyyyzzzzz\n",
      "+ aagjvapbry,aksd,boeho,cbsonygwz,grzmpq,hajbqjf,jlmyy,ktmvvis,kvuqor,lppesuxafl,luyzn,mkwjq,nxdu,oonvsgbvs,qobplknoqq,thghd,thmmyv,zavtq,zputibcyyh\n",
      " : Should be aagjvapbry,aksd,boeho,cbsonygwz,grzmpq,hajbqjf,jlmyy,ktmvvis,kvuqor,lppesuxafl,luyzn,mkwjq,nxdu,oonvsgbvs,qobplknoqq,thghd,thmmyv,zavtq,zputibcyyh\n",
      "\n",
      "======================================================================\n",
      "FAIL: runTest (mod.testing.test_alpha.<locals>.TestKnown)\n",
      "----------------------------------------------------------------------\n",
      "Traceback (most recent call last):\n",
      "  File \"C:\\Users\\maria\\Desktop\\lab-functions\\mod\\testing.py\", line 187, in runTest\n",
      "    self.assertEqual(fn(self.input), self.output, f\"Should be {self.output}\")\n",
      "AssertionError: 'aaabdeeegijjjknnnpppprssvwyz' != 'aijzjkd,bsjsnaen,eppevy,panwprg'\n",
      "- aaabdeeegijjjknnnpppprssvwyz\n",
      "+ aijzjkd,bsjsnaen,eppevy,panwprg\n",
      " : Should be aijzjkd,bsjsnaen,eppevy,panwprg\n",
      "\n",
      "======================================================================\n",
      "FAIL: runTest (mod.testing.test_alpha.<locals>.TestKnown)\n",
      "----------------------------------------------------------------------\n",
      "Traceback (most recent call last):\n",
      "  File \"C:\\Users\\maria\\Desktop\\lab-functions\\mod\\testing.py\", line 187, in runTest\n",
      "    self.assertEqual(fn(self.input), self.output, f\"Should be {self.output}\")\n",
      "AssertionError: 'bcdeeffijjmmnnpppqstuvvwxyy' != 'citpvvxfs,ejdmqwp,nbnymp,yjuef'\n",
      "- bcdeeffijjmmnnpppqstuvvwxyy\n",
      "+ citpvvxfs,ejdmqwp,nbnymp,yjuef\n",
      " : Should be citpvvxfs,ejdmqwp,nbnymp,yjuef\n",
      "\n",
      "======================================================================\n",
      "FAIL: runTest (mod.testing.test_alpha.<locals>.TestKnown)\n",
      "----------------------------------------------------------------------\n",
      "Traceback (most recent call last):\n",
      "  File \"C:\\Users\\maria\\Desktop\\lab-functions\\mod\\testing.py\", line 187, in runTest\n",
      "    self.assertEqual(fn(self.input), self.output, f\"Should be {self.output}\")\n",
      "AssertionError: 'aabbbbbbbccdddeeeeeeefffggggghhhhiijjjjkk[74 chars]zzzz' != 'czrswten,dfejgnnuv,dubb,dxnr,ehcwb,jemzo,[92 chars]magk'\n",
      "- aabbbbbbbccdddeeeeeeefffggggghhhhiijjjjkkkklllmmmmmnnnnnnnooooopppppqqqqqrrrrsssttttttuuuuuuvvvwwwwwwwxxxyyyyzzzzzzzzzz\n",
      "+ czrswten,dfejgnnuv,dubb,dxnr,ehcwb,jemzo,lkbyqke,mlrq,nomi,ofjnw,opzbrb,pemzhsa,qonupxxtu,tzevhwzb,ukptupgyhi,wqtq,wszfgltj,yvzgw,zyzmagk\n",
      " : Should be czrswten,dfejgnnuv,dubb,dxnr,ehcwb,jemzo,lkbyqke,mlrq,nomi,ofjnw,opzbrb,pemzhsa,qonupxxtu,tzevhwzb,ukptupgyhi,wqtq,wszfgltj,yvzgw,zyzmagk\n",
      "\n",
      "----------------------------------------------------------------------\n",
      "Ran 100 tests in 0.141s\n",
      "\n",
      "FAILED (failures=100)\n"
     ]
    }
   ],
   "source": [
    "# This will test your function \n",
    "test_alpha(sort_alpha)"
   ]
  },
  {
   "cell_type": "code",
   "execution_count": null,
   "metadata": {},
   "outputs": [],
   "source": []
  }
 ],
 "metadata": {
  "kernelspec": {
   "display_name": "Python 3",
   "language": "python",
   "name": "python3"
  },
  "language_info": {
   "codemirror_mode": {
    "name": "ipython",
    "version": 3
   },
   "file_extension": ".py",
   "mimetype": "text/x-python",
   "name": "python",
   "nbconvert_exporter": "python",
   "pygments_lexer": "ipython3",
   "version": "3.7.6"
  },
  "toc": {
   "base_numbering": 1,
   "nav_menu": {},
   "number_sections": true,
   "sideBar": true,
   "skip_h1_title": false,
   "title_cell": "Table of Contents",
   "title_sidebar": "Contents",
   "toc_cell": false,
   "toc_position": {},
   "toc_section_display": true,
   "toc_window_display": false
  }
 },
 "nbformat": 4,
 "nbformat_minor": 4
}
